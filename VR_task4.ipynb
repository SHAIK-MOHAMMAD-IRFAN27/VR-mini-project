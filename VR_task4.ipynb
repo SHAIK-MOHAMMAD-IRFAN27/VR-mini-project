{
  "nbformat": 4,
  "nbformat_minor": 0,
  "metadata": {
    "colab": {
      "provenance": [],
      "gpuType": "T4",
      "include_colab_link": true
    },
    "kernelspec": {
      "name": "python3",
      "display_name": "Python 3"
    },
    "language_info": {
      "name": "python"
    },
    "accelerator": "GPU"
  },
  "cells": [
    {
      "cell_type": "markdown",
      "metadata": {
        "id": "view-in-github",
        "colab_type": "text"
      },
      "source": [
        "<a href=\"https://colab.research.google.com/github/SHAIK-MOHAMMAD-IRFAN27/VR-mini-project/blob/main/VR_task4.ipynb\" target=\"_parent\"><img src=\"https://colab.research.google.com/assets/colab-badge.svg\" alt=\"Open In Colab\"/></a>"
      ]
    },
    {
      "cell_type": "code",
      "execution_count": 14,
      "metadata": {
        "id": "EjNLlCY1WKfF",
        "colab": {
          "base_uri": "https://localhost:8080/"
        },
        "outputId": "24e53b96-7787-4020-d069-025d027d4034"
      },
      "outputs": [
        {
          "output_type": "stream",
          "name": "stdout",
          "text": [
            "Drive already mounted at /content/drive; to attempt to forcibly remount, call drive.mount(\"/content/drive\", force_remount=True).\n"
          ]
        }
      ],
      "source": [
        "from google.colab import drive\n",
        "drive.mount('/content/drive')\n"
      ]
    },
    {
      "cell_type": "code",
      "source": [
        "import tensorflow as tf\n",
        "import os\n",
        "import cv2\n",
        "import imghdr\n",
        "from google.colab.patches import cv2_imshow\n",
        "import numpy as np\n",
        "from matplotlib import pyplot as plt\n",
        "import numpy as np\n",
        "from sklearn.model_selection import train_test_split\n",
        "from tensorflow.keras.layers import Conv2D, MaxPooling2D, Dense, Flatten,AveragePooling2D,Dropout, BatchNormalization\n",
        "from tensorflow import keras\n",
        "from tensorflow.keras.models import Sequential\n",
        "from tensorflow.keras.preprocessing.image import ImageDataGenerator\n",
        "from tensorflow.keras.regularizers import l2\n",
        "from tensorflow.keras.optimizers import Adam\n",
        "from tensorflow.keras.callbacks import ReduceLROnPlateau\n"
      ],
      "metadata": {
        "id": "wm8mxbwxWMjy"
      },
      "execution_count": 15,
      "outputs": []
    },
    {
      "cell_type": "code",
      "source": [
        "data_dir=\"/content/drive/My Drive/VR_MINI_C\""
      ],
      "metadata": {
        "id": "K95EoSdPWMg_"
      },
      "execution_count": 16,
      "outputs": []
    },
    {
      "cell_type": "code",
      "source": [
        "os.listdir(data_dir)"
      ],
      "metadata": {
        "colab": {
          "base_uri": "https://localhost:8080/"
        },
        "id": "bIYmXFN0WMed",
        "outputId": "3797c5b2-9360-4d23-95f5-301d8bf56a20"
      },
      "execution_count": 17,
      "outputs": [
        {
          "output_type": "execute_result",
          "data": {
            "text/plain": [
              "['dataset.csv', 'img', 'MSFD', 'face_crop', 'face_crop_segmentation']"
            ]
          },
          "metadata": {},
          "execution_count": 17
        }
      ]
    },
    {
      "cell_type": "code",
      "source": [
        "non_segmented_dir = \"/content/drive/My Drive/VR_MINI_C/face_crop\"\n",
        "segmented_dir = \"/content/drive/My Drive/VR_MINI_C/face_crop_segmentation\"\n",
        "test_dir=\"/content/drive/My Drive/VR_MINI_C/img\""
      ],
      "metadata": {
        "id": "qdOuFMwpWMb9"
      },
      "execution_count": 64,
      "outputs": []
    },
    {
      "cell_type": "code",
      "source": [
        "non_segmented_images=os.listdir(non_segmented_dir)"
      ],
      "metadata": {
        "id": "21rVXVLWWMZM"
      },
      "execution_count": 33,
      "outputs": []
    },
    {
      "cell_type": "code",
      "source": [
        "len(non_segmented_images)"
      ],
      "metadata": {
        "colab": {
          "base_uri": "https://localhost:8080/"
        },
        "id": "dzxkuC4xWMWg",
        "outputId": "ab401d60-e799-431e-f940-afe188844f5d"
      },
      "execution_count": 34,
      "outputs": [
        {
          "output_type": "execute_result",
          "data": {
            "text/plain": [
              "4500"
            ]
          },
          "metadata": {},
          "execution_count": 34
        }
      ]
    },
    {
      "cell_type": "code",
      "source": [
        "segmented_images=os.listdir(segmented_dir)"
      ],
      "metadata": {
        "id": "DuyMzGSXWMSq"
      },
      "execution_count": 35,
      "outputs": []
    },
    {
      "cell_type": "code",
      "source": [
        "len(segmented_images)"
      ],
      "metadata": {
        "colab": {
          "base_uri": "https://localhost:8080/"
        },
        "id": "Pn6quSGDTOO8",
        "outputId": "70974856-ddc7-42e4-c746-a7a498e33596"
      },
      "execution_count": 36,
      "outputs": [
        {
          "output_type": "execute_result",
          "data": {
            "text/plain": [
              "4500"
            ]
          },
          "metadata": {},
          "execution_count": 36
        }
      ]
    },
    {
      "cell_type": "code",
      "source": [
        "segmented_images[0]"
      ],
      "metadata": {
        "colab": {
          "base_uri": "https://localhost:8080/",
          "height": 36
        },
        "id": "JG67jYlpjVqF",
        "outputId": "e7de7735-9df8-45f2-95aa-a579f8c9c44a"
      },
      "execution_count": 37,
      "outputs": [
        {
          "output_type": "execute_result",
          "data": {
            "text/plain": [
              "'006547_1.jpg'"
            ],
            "application/vnd.google.colaboratory.intrinsic+json": {
              "type": "string"
            }
          },
          "metadata": {},
          "execution_count": 37
        }
      ]
    },
    {
      "cell_type": "code",
      "source": [
        "len(segmented_images)"
      ],
      "metadata": {
        "id": "BAc20GP0WMP8",
        "colab": {
          "base_uri": "https://localhost:8080/"
        },
        "outputId": "6819ec78-1d8e-4b8c-933d-cf64618ecc4a"
      },
      "execution_count": 38,
      "outputs": [
        {
          "output_type": "execute_result",
          "data": {
            "text/plain": [
              "4500"
            ]
          },
          "metadata": {},
          "execution_count": 38
        }
      ]
    },
    {
      "cell_type": "code",
      "source": [
        "new_ns_length=os.listdir(non_segmented_dir)"
      ],
      "metadata": {
        "id": "vPT2wgVg7osK"
      },
      "execution_count": null,
      "outputs": []
    },
    {
      "cell_type": "code",
      "source": [
        "len(new_ns_length)"
      ],
      "metadata": {
        "id": "JKunDin77vsC"
      },
      "execution_count": null,
      "outputs": []
    },
    {
      "cell_type": "code",
      "source": [
        "new_s_length=os.listdir(segmented_dir)"
      ],
      "metadata": {
        "id": "b6aA5Nd68Hpx"
      },
      "execution_count": null,
      "outputs": []
    },
    {
      "cell_type": "code",
      "source": [
        "len(new_s_length)"
      ],
      "metadata": {
        "colab": {
          "base_uri": "https://localhost:8080/"
        },
        "id": "P9xpLH9l8KYw",
        "outputId": "f5697bc0-6d54-4813-eaf3-31a2c3f637da"
      },
      "execution_count": null,
      "outputs": [
        {
          "output_type": "execute_result",
          "data": {
            "text/plain": [
              "4382"
            ]
          },
          "metadata": {},
          "execution_count": 15
        }
      ]
    },
    {
      "cell_type": "code",
      "source": [
        "image_path=os.path.join(non_segmented_dir, segmented_images[5])"
      ],
      "metadata": {
        "id": "x94hG9BRcO3E"
      },
      "execution_count": null,
      "outputs": []
    },
    {
      "cell_type": "code",
      "source": [
        "image = cv2.imread(image_path)"
      ],
      "metadata": {
        "id": "xB_2t4rFeSPL"
      },
      "execution_count": null,
      "outputs": []
    },
    {
      "cell_type": "code",
      "source": [
        "cv2_imshow(image)"
      ],
      "metadata": {
        "colab": {
          "base_uri": "https://localhost:8080/",
          "height": 130
        },
        "collapsed": true,
        "id": "AWSVcYOfeSMZ",
        "outputId": "bbb02e9c-78c8-4758-b499-06b28fec36ed"
      },
      "execution_count": null,
      "outputs": [
        {
          "output_type": "display_data",
          "data": {
            "text/plain": [
              "<PIL.Image.Image image mode=RGB size=90x113>"
            ],
            "image/png": "[encoded data removed]",
            "image/jpeg": "[encoded data removed]"
          },
          "metadata": {}
        }
      ]
    },
    {
      "cell_type": "code",
      "source": [
        "IMG_WIDTH = 128\n",
        "IMG_HEIGHT = 128\n",
        "IMG_CHANNELS = 3\n"
      ],
      "metadata": {
        "id": "0_iC_N2Sh0ik"
      },
      "execution_count": 39,
      "outputs": []
    },
    {
      "cell_type": "code",
      "source": [
        "def iou_metric(y_true, y_pred):\n",
        "    intersection = tf.keras.backend.sum(y_true * y_pred)\n",
        "    union = tf.keras.backend.sum(y_true) + tf.keras.backend.sum(y_pred) - intersection\n",
        "    return intersection / (union + 1e-6)\n",
        "\n"
      ],
      "metadata": {
        "id": "Fsj5qgi16TJj"
      },
      "execution_count": 40,
      "outputs": []
    },
    {
      "cell_type": "code",
      "source": [
        "def dice_loss(y_true, y_pred):\n",
        "    smooth = 1e-6\n",
        "    y_true_f = tf.keras.backend.flatten(y_true)\n",
        "    y_pred_f = tf.keras.backend.flatten(y_pred)\n",
        "    intersection = tf.reduce_sum(y_true_f * y_pred_f)\n",
        "    return 1 - ((2. * intersection + smooth) / (tf.reduce_sum(y_true_f) + tf.reduce_sum(y_pred_f) + smooth))\n"
      ],
      "metadata": {
        "id": "25xK0dnv7QQC"
      },
      "execution_count": 41,
      "outputs": []
    },
    {
      "cell_type": "code",
      "source": [
        "\n",
        "import tensorflow as tf\n",
        "\n",
        "\n",
        "#Build the model\n",
        "inputs = tf.keras.layers.Input((IMG_HEIGHT, IMG_WIDTH, IMG_CHANNELS))\n",
        "\n",
        "\n",
        "#Contraction path\n",
        "c1 = tf.keras.layers.Conv2D(16, (3, 3), activation='relu', kernel_initializer='he_normal', padding='same')(inputs)\n",
        "c1 = tf.keras.layers.Dropout(0.1)(c1)\n",
        "c1 = tf.keras.layers.Conv2D(16, (3, 3), activation='relu', kernel_initializer='he_normal', padding='same')(c1)\n",
        "p1 = tf.keras.layers.MaxPooling2D((2, 2))(c1)\n",
        "\n",
        "c2 = tf.keras.layers.Conv2D(32, (3, 3), activation='relu', kernel_initializer='he_normal', padding='same')(p1)\n",
        "c2 = tf.keras.layers.Dropout(0.1)(c2)\n",
        "c2 = tf.keras.layers.Conv2D(32, (3, 3), activation='relu', kernel_initializer='he_normal', padding='same')(c2)\n",
        "p2 = tf.keras.layers.MaxPooling2D((2, 2))(c2)\n",
        "\n",
        "c3 = tf.keras.layers.Conv2D(64, (3, 3), activation='relu', kernel_initializer='he_normal', padding='same')(p2)\n",
        "c3 = tf.keras.layers.Dropout(0.2)(c3)\n",
        "c3 = tf.keras.layers.Conv2D(64, (3, 3), activation='relu', kernel_initializer='he_normal', padding='same')(c3)\n",
        "p3 = tf.keras.layers.MaxPooling2D((2, 2))(c3)\n",
        "\n",
        "c4 = tf.keras.layers.Conv2D(128, (3, 3), activation='relu', kernel_initializer='he_normal', padding='same')(p3)\n",
        "c4 = tf.keras.layers.Dropout(0.2)(c4)\n",
        "c4 = tf.keras.layers.Conv2D(128, (3, 3), activation='relu', kernel_initializer='he_normal', padding='same')(c4)\n",
        "p4 = tf.keras.layers.MaxPooling2D(pool_size=(2, 2))(c4)\n",
        "\n",
        "c5 = tf.keras.layers.Conv2D(256, (3, 3), activation='relu', kernel_initializer='he_normal', padding='same')(p4)\n",
        "c5 = tf.keras.layers.Dropout(0.3)(c5)\n",
        "c5 = tf.keras.layers.Conv2D(256, (3, 3), activation='relu', kernel_initializer='he_normal', padding='same')(c5)\n",
        "\n",
        "#Expansive path\n",
        "u6 = tf.keras.layers.Conv2DTranspose(128, (2, 2), strides=(2, 2), padding='same')(c5)\n",
        "u6 = tf.keras.layers.concatenate([u6, c4])\n",
        "c6 = tf.keras.layers.Conv2D(128, (3, 3), activation='relu', kernel_initializer='he_normal', padding='same')(u6)\n",
        "c6 = tf.keras.layers.Dropout(0.2)(c6)\n",
        "c6 = tf.keras.layers.Conv2D(128, (3, 3), activation='relu', kernel_initializer='he_normal', padding='same')(c6)\n",
        "\n",
        "u7 = tf.keras.layers.Conv2DTranspose(64, (2, 2), strides=(2, 2), padding='same')(c6)\n",
        "u7 = tf.keras.layers.concatenate([u7, c3])\n",
        "c7 = tf.keras.layers.Conv2D(64, (3, 3), activation='relu', kernel_initializer='he_normal', padding='same')(u7)\n",
        "c7 = tf.keras.layers.Dropout(0.2)(c7)\n",
        "c7 = tf.keras.layers.Conv2D(64, (3, 3), activation='relu', kernel_initializer='he_normal', padding='same')(c7)\n",
        "\n",
        "u8 = tf.keras.layers.Conv2DTranspose(32, (2, 2), strides=(2, 2), padding='same')(c7)\n",
        "u8 = tf.keras.layers.concatenate([u8, c2])\n",
        "c8 = tf.keras.layers.Conv2D(32, (3, 3), activation='relu', kernel_initializer='he_normal', padding='same')(u8)\n",
        "c8 = tf.keras.layers.Dropout(0.1)(c8)\n",
        "c8 = tf.keras.layers.Conv2D(32, (3, 3), activation='relu', kernel_initializer='he_normal', padding='same')(c8)\n",
        "\n",
        "u9 = tf.keras.layers.Conv2DTranspose(16, (2, 2), strides=(2, 2), padding='same')(c8)\n",
        "u9 = tf.keras.layers.concatenate([u9, c1], axis=3)\n",
        "c9 = tf.keras.layers.Conv2D(16, (3, 3), activation='relu', kernel_initializer='he_normal', padding='same')(u9)\n",
        "c9 = tf.keras.layers.Dropout(0.1)(c9)\n",
        "c9 = tf.keras.layers.Conv2D(16, (3, 3), activation='relu', kernel_initializer='he_normal', padding='same')(c9)\n",
        "\n",
        "outputs = tf.keras.layers.Conv2D(1, (1, 1), activation='sigmoid')(c9)\n",
        "\n",
        "model = tf.keras.Model(inputs=[inputs], outputs=[outputs])\n",
        "model.compile(optimizer=Adam(learning_rate=1e-4), loss=dice_loss, metrics=['accuracy',iou_metric])\n",
        "model.summary()"
      ],
      "metadata": {
        "colab": {
          "base_uri": "https://localhost:8080/",
          "height": 1000
        },
        "collapsed": true,
        "id": "NvRwjmLKeSJe",
        "outputId": "51d5aa39-9012-4cde-f539-65243efe9b8f"
      },
      "execution_count": 42,
      "outputs": [
        {
          "output_type": "display_data",
          "data": {
            "text/plain": [
              "\u001b[1mModel: \"functional\"\u001b[0m\n"
            ],
            "text/html": [
              "<pre style=\"white-space:pre;overflow-x:auto;line-height:normal;font-family:Menlo,'DejaVu Sans Mono',consolas,'Courier New',monospace\"><span style=\"font-weight: bold\">Model: \"functional\"</span>\n",
              "</pre>\n"
            ]
          },
          "metadata": {}
        },
        {
          "output_type": "display_data",
          "data": {
            "text/plain": [
              "┏━━━━━━━━━━━━━━━━━━━━━━━━━━━┳━━━━━━━━━━━━━━━━━━━━━━━━┳━━━━━━━━━━━━━━━━┳━━━━━━━━━━━━━━━━━━━━━━━━┓\n",
              "┃\u001b[1m \u001b[0m\u001b[1mLayer (type)             \u001b[0m\u001b[1m \u001b[0m┃\u001b[1m \u001b[0m\u001b[1mOutput Shape          \u001b[0m\u001b[1m \u001b[0m┃\u001b[1m \u001b[0m\u001b[1m       Param #\u001b[0m\u001b[1m \u001b[0m┃\u001b[1m \u001b[0m\u001b[1mConnected to          \u001b[0m\u001b[1m \u001b[0m┃\n",
              "┡━━━━━━━━━━━━━━━━━━━━━━━━━━━╇━━━━━━━━━━━━━━━━━━━━━━━━╇━━━━━━━━━━━━━━━━╇━━━━━━━━━━━━━━━━━━━━━━━━┩\n",
              "│ input_layer (\u001b[38;5;33mInputLayer\u001b[0m)  │ (\u001b[38;5;45mNone\u001b[0m, \u001b[38;5;34m128\u001b[0m, \u001b[38;5;34m128\u001b[0m, \u001b[38;5;34m3\u001b[0m)    │              \u001b[38;5;34m0\u001b[0m │ -                      │\n",
              "├───────────────────────────┼────────────────────────┼────────────────┼────────────────────────┤\n",
              "│ conv2d (\u001b[38;5;33mConv2D\u001b[0m)           │ (\u001b[38;5;45mNone\u001b[0m, \u001b[38;5;34m128\u001b[0m, \u001b[38;5;34m128\u001b[0m, \u001b[38;5;34m16\u001b[0m)   │            \u001b[38;5;34m448\u001b[0m │ input_layer[\u001b[38;5;34m0\u001b[0m][\u001b[38;5;34m0\u001b[0m]      │\n",
              "├───────────────────────────┼────────────────────────┼────────────────┼────────────────────────┤\n",
              "│ dropout (\u001b[38;5;33mDropout\u001b[0m)         │ (\u001b[38;5;45mNone\u001b[0m, \u001b[38;5;34m128\u001b[0m, \u001b[38;5;34m128\u001b[0m, \u001b[38;5;34m16\u001b[0m)   │              \u001b[38;5;34m0\u001b[0m │ conv2d[\u001b[38;5;34m0\u001b[0m][\u001b[38;5;34m0\u001b[0m]           │\n",
              "├───────────────────────────┼────────────────────────┼────────────────┼────────────────────────┤\n",
              "│ conv2d_1 (\u001b[38;5;33mConv2D\u001b[0m)         │ (\u001b[38;5;45mNone\u001b[0m, \u001b[38;5;34m128\u001b[0m, \u001b[38;5;34m128\u001b[0m, \u001b[38;5;34m16\u001b[0m)   │          \u001b[38;5;34m2,320\u001b[0m │ dropout[\u001b[38;5;34m0\u001b[0m][\u001b[38;5;34m0\u001b[0m]          │\n",
              "├───────────────────────────┼────────────────────────┼────────────────┼────────────────────────┤\n",
              "│ max_pooling2d             │ (\u001b[38;5;45mNone\u001b[0m, \u001b[38;5;34m64\u001b[0m, \u001b[38;5;34m64\u001b[0m, \u001b[38;5;34m16\u001b[0m)     │              \u001b[38;5;34m0\u001b[0m │ conv2d_1[\u001b[38;5;34m0\u001b[0m][\u001b[38;5;34m0\u001b[0m]         │\n",
              "│ (\u001b[38;5;33mMaxPooling2D\u001b[0m)            │                        │                │                        │\n",
              "├───────────────────────────┼────────────────────────┼────────────────┼────────────────────────┤\n",
              "│ conv2d_2 (\u001b[38;5;33mConv2D\u001b[0m)         │ (\u001b[38;5;45mNone\u001b[0m, \u001b[38;5;34m64\u001b[0m, \u001b[38;5;34m64\u001b[0m, \u001b[38;5;34m32\u001b[0m)     │          \u001b[38;5;34m4,640\u001b[0m │ max_pooling2d[\u001b[38;5;34m0\u001b[0m][\u001b[38;5;34m0\u001b[0m]    │\n",
              "├───────────────────────────┼────────────────────────┼────────────────┼────────────────────────┤\n",
              "│ dropout_1 (\u001b[38;5;33mDropout\u001b[0m)       │ (\u001b[38;5;45mNone\u001b[0m, \u001b[38;5;34m64\u001b[0m, \u001b[38;5;34m64\u001b[0m, \u001b[38;5;34m32\u001b[0m)     │              \u001b[38;5;34m0\u001b[0m │ conv2d_2[\u001b[38;5;34m0\u001b[0m][\u001b[38;5;34m0\u001b[0m]         │\n",
              "├───────────────────────────┼────────────────────────┼────────────────┼────────────────────────┤\n",
              "│ conv2d_3 (\u001b[38;5;33mConv2D\u001b[0m)         │ (\u001b[38;5;45mNone\u001b[0m, \u001b[38;5;34m64\u001b[0m, \u001b[38;5;34m64\u001b[0m, \u001b[38;5;34m32\u001b[0m)     │          \u001b[38;5;34m9,248\u001b[0m │ dropout_1[\u001b[38;5;34m0\u001b[0m][\u001b[38;5;34m0\u001b[0m]        │\n",
              "├───────────────────────────┼────────────────────────┼────────────────┼────────────────────────┤\n",
              "│ max_pooling2d_1           │ (\u001b[38;5;45mNone\u001b[0m, \u001b[38;5;34m32\u001b[0m, \u001b[38;5;34m32\u001b[0m, \u001b[38;5;34m32\u001b[0m)     │              \u001b[38;5;34m0\u001b[0m │ conv2d_3[\u001b[38;5;34m0\u001b[0m][\u001b[38;5;34m0\u001b[0m]         │\n",
              "│ (\u001b[38;5;33mMaxPooling2D\u001b[0m)            │                        │                │                        │\n",
              "├───────────────────────────┼────────────────────────┼────────────────┼────────────────────────┤\n",
              "│ conv2d_4 (\u001b[38;5;33mConv2D\u001b[0m)         │ (\u001b[38;5;45mNone\u001b[0m, \u001b[38;5;34m32\u001b[0m, \u001b[38;5;34m32\u001b[0m, \u001b[38;5;34m64\u001b[0m)     │         \u001b[38;5;34m18,496\u001b[0m │ max_pooling2d_1[\u001b[38;5;34m0\u001b[0m][\u001b[38;5;34m0\u001b[0m]  │\n",
              "├───────────────────────────┼────────────────────────┼────────────────┼────────────────────────┤\n",
              "│ dropout_2 (\u001b[38;5;33mDropout\u001b[0m)       │ (\u001b[38;5;45mNone\u001b[0m, \u001b[38;5;34m32\u001b[0m, \u001b[38;5;34m32\u001b[0m, \u001b[38;5;34m64\u001b[0m)     │              \u001b[38;5;34m0\u001b[0m │ conv2d_4[\u001b[38;5;34m0\u001b[0m][\u001b[38;5;34m0\u001b[0m]         │\n",
              "├───────────────────────────┼────────────────────────┼────────────────┼────────────────────────┤\n",
              "│ conv2d_5 (\u001b[38;5;33mConv2D\u001b[0m)         │ (\u001b[38;5;45mNone\u001b[0m, \u001b[38;5;34m32\u001b[0m, \u001b[38;5;34m32\u001b[0m, \u001b[38;5;34m64\u001b[0m)     │         \u001b[38;5;34m36,928\u001b[0m │ dropout_2[\u001b[38;5;34m0\u001b[0m][\u001b[38;5;34m0\u001b[0m]        │\n",
              "├───────────────────────────┼────────────────────────┼────────────────┼────────────────────────┤\n",
              "│ max_pooling2d_2           │ (\u001b[38;5;45mNone\u001b[0m, \u001b[38;5;34m16\u001b[0m, \u001b[38;5;34m16\u001b[0m, \u001b[38;5;34m64\u001b[0m)     │              \u001b[38;5;34m0\u001b[0m │ conv2d_5[\u001b[38;5;34m0\u001b[0m][\u001b[38;5;34m0\u001b[0m]         │\n",
              "│ (\u001b[38;5;33mMaxPooling2D\u001b[0m)            │                        │                │                        │\n",
              "├───────────────────────────┼────────────────────────┼────────────────┼────────────────────────┤\n",
              "│ conv2d_6 (\u001b[38;5;33mConv2D\u001b[0m)         │ (\u001b[38;5;45mNone\u001b[0m, \u001b[38;5;34m16\u001b[0m, \u001b[38;5;34m16\u001b[0m, \u001b[38;5;34m128\u001b[0m)    │         \u001b[38;5;34m73,856\u001b[0m │ max_pooling2d_2[\u001b[38;5;34m0\u001b[0m][\u001b[38;5;34m0\u001b[0m]  │\n",
              "├───────────────────────────┼────────────────────────┼────────────────┼────────────────────────┤\n",
              "│ dropout_3 (\u001b[38;5;33mDropout\u001b[0m)       │ (\u001b[38;5;45mNone\u001b[0m, \u001b[38;5;34m16\u001b[0m, \u001b[38;5;34m16\u001b[0m, \u001b[38;5;34m128\u001b[0m)    │              \u001b[38;5;34m0\u001b[0m │ conv2d_6[\u001b[38;5;34m0\u001b[0m][\u001b[38;5;34m0\u001b[0m]         │\n",
              "├───────────────────────────┼────────────────────────┼────────────────┼────────────────────────┤\n",
              "│ conv2d_7 (\u001b[38;5;33mConv2D\u001b[0m)         │ (\u001b[38;5;45mNone\u001b[0m, \u001b[38;5;34m16\u001b[0m, \u001b[38;5;34m16\u001b[0m, \u001b[38;5;34m128\u001b[0m)    │        \u001b[38;5;34m147,584\u001b[0m │ dropout_3[\u001b[38;5;34m0\u001b[0m][\u001b[38;5;34m0\u001b[0m]        │\n",
              "├───────────────────────────┼────────────────────────┼────────────────┼────────────────────────┤\n",
              "│ max_pooling2d_3           │ (\u001b[38;5;45mNone\u001b[0m, \u001b[38;5;34m8\u001b[0m, \u001b[38;5;34m8\u001b[0m, \u001b[38;5;34m128\u001b[0m)      │              \u001b[38;5;34m0\u001b[0m │ conv2d_7[\u001b[38;5;34m0\u001b[0m][\u001b[38;5;34m0\u001b[0m]         │\n",
              "│ (\u001b[38;5;33mMaxPooling2D\u001b[0m)            │                        │                │                        │\n",
              "├───────────────────────────┼────────────────────────┼────────────────┼────────────────────────┤\n",
              "│ conv2d_8 (\u001b[38;5;33mConv2D\u001b[0m)         │ (\u001b[38;5;45mNone\u001b[0m, \u001b[38;5;34m8\u001b[0m, \u001b[38;5;34m8\u001b[0m, \u001b[38;5;34m256\u001b[0m)      │        \u001b[38;5;34m295,168\u001b[0m │ max_pooling2d_3[\u001b[38;5;34m0\u001b[0m][\u001b[38;5;34m0\u001b[0m]  │\n",
              "├───────────────────────────┼────────────────────────┼────────────────┼────────────────────────┤\n",
              "│ dropout_4 (\u001b[38;5;33mDropout\u001b[0m)       │ (\u001b[38;5;45mNone\u001b[0m, \u001b[38;5;34m8\u001b[0m, \u001b[38;5;34m8\u001b[0m, \u001b[38;5;34m256\u001b[0m)      │              \u001b[38;5;34m0\u001b[0m │ conv2d_8[\u001b[38;5;34m0\u001b[0m][\u001b[38;5;34m0\u001b[0m]         │\n",
              "├───────────────────────────┼────────────────────────┼────────────────┼────────────────────────┤\n",
              "│ conv2d_9 (\u001b[38;5;33mConv2D\u001b[0m)         │ (\u001b[38;5;45mNone\u001b[0m, \u001b[38;5;34m8\u001b[0m, \u001b[38;5;34m8\u001b[0m, \u001b[38;5;34m256\u001b[0m)      │        \u001b[38;5;34m590,080\u001b[0m │ dropout_4[\u001b[38;5;34m0\u001b[0m][\u001b[38;5;34m0\u001b[0m]        │\n",
              "├───────────────────────────┼────────────────────────┼────────────────┼────────────────────────┤\n",
              "│ conv2d_transpose          │ (\u001b[38;5;45mNone\u001b[0m, \u001b[38;5;34m16\u001b[0m, \u001b[38;5;34m16\u001b[0m, \u001b[38;5;34m128\u001b[0m)    │        \u001b[38;5;34m131,200\u001b[0m │ conv2d_9[\u001b[38;5;34m0\u001b[0m][\u001b[38;5;34m0\u001b[0m]         │\n",
              "│ (\u001b[38;5;33mConv2DTranspose\u001b[0m)         │                        │                │                        │\n",
              "├───────────────────────────┼────────────────────────┼────────────────┼────────────────────────┤\n",
              "│ concatenate (\u001b[38;5;33mConcatenate\u001b[0m) │ (\u001b[38;5;45mNone\u001b[0m, \u001b[38;5;34m16\u001b[0m, \u001b[38;5;34m16\u001b[0m, \u001b[38;5;34m256\u001b[0m)    │              \u001b[38;5;34m0\u001b[0m │ conv2d_transpose[\u001b[38;5;34m0\u001b[0m][\u001b[38;5;34m0\u001b[0m… │\n",
              "│                           │                        │                │ conv2d_7[\u001b[38;5;34m0\u001b[0m][\u001b[38;5;34m0\u001b[0m]         │\n",
              "├───────────────────────────┼────────────────────────┼────────────────┼────────────────────────┤\n",
              "│ conv2d_10 (\u001b[38;5;33mConv2D\u001b[0m)        │ (\u001b[38;5;45mNone\u001b[0m, \u001b[38;5;34m16\u001b[0m, \u001b[38;5;34m16\u001b[0m, \u001b[38;5;34m128\u001b[0m)    │        \u001b[38;5;34m295,040\u001b[0m │ concatenate[\u001b[38;5;34m0\u001b[0m][\u001b[38;5;34m0\u001b[0m]      │\n",
              "├───────────────────────────┼────────────────────────┼────────────────┼────────────────────────┤\n",
              "│ dropout_5 (\u001b[38;5;33mDropout\u001b[0m)       │ (\u001b[38;5;45mNone\u001b[0m, \u001b[38;5;34m16\u001b[0m, \u001b[38;5;34m16\u001b[0m, \u001b[38;5;34m128\u001b[0m)    │              \u001b[38;5;34m0\u001b[0m │ conv2d_10[\u001b[38;5;34m0\u001b[0m][\u001b[38;5;34m0\u001b[0m]        │\n",
              "├───────────────────────────┼────────────────────────┼────────────────┼────────────────────────┤\n",
              "│ conv2d_11 (\u001b[38;5;33mConv2D\u001b[0m)        │ (\u001b[38;5;45mNone\u001b[0m, \u001b[38;5;34m16\u001b[0m, \u001b[38;5;34m16\u001b[0m, \u001b[38;5;34m128\u001b[0m)    │        \u001b[38;5;34m147,584\u001b[0m │ dropout_5[\u001b[38;5;34m0\u001b[0m][\u001b[38;5;34m0\u001b[0m]        │\n",
              "├───────────────────────────┼────────────────────────┼────────────────┼────────────────────────┤\n",
              "│ conv2d_transpose_1        │ (\u001b[38;5;45mNone\u001b[0m, \u001b[38;5;34m32\u001b[0m, \u001b[38;5;34m32\u001b[0m, \u001b[38;5;34m64\u001b[0m)     │         \u001b[38;5;34m32,832\u001b[0m │ conv2d_11[\u001b[38;5;34m0\u001b[0m][\u001b[38;5;34m0\u001b[0m]        │\n",
              "│ (\u001b[38;5;33mConv2DTranspose\u001b[0m)         │                        │                │                        │\n",
              "├───────────────────────────┼────────────────────────┼────────────────┼────────────────────────┤\n",
              "│ concatenate_1             │ (\u001b[38;5;45mNone\u001b[0m, \u001b[38;5;34m32\u001b[0m, \u001b[38;5;34m32\u001b[0m, \u001b[38;5;34m128\u001b[0m)    │              \u001b[38;5;34m0\u001b[0m │ conv2d_transpose_1[\u001b[38;5;34m0\u001b[0m]… │\n",
              "│ (\u001b[38;5;33mConcatenate\u001b[0m)             │                        │                │ conv2d_5[\u001b[38;5;34m0\u001b[0m][\u001b[38;5;34m0\u001b[0m]         │\n",
              "├───────────────────────────┼────────────────────────┼────────────────┼────────────────────────┤\n",
              "│ conv2d_12 (\u001b[38;5;33mConv2D\u001b[0m)        │ (\u001b[38;5;45mNone\u001b[0m, \u001b[38;5;34m32\u001b[0m, \u001b[38;5;34m32\u001b[0m, \u001b[38;5;34m64\u001b[0m)     │         \u001b[38;5;34m73,792\u001b[0m │ concatenate_1[\u001b[38;5;34m0\u001b[0m][\u001b[38;5;34m0\u001b[0m]    │\n",
              "├───────────────────────────┼────────────────────────┼────────────────┼────────────────────────┤\n",
              "│ dropout_6 (\u001b[38;5;33mDropout\u001b[0m)       │ (\u001b[38;5;45mNone\u001b[0m, \u001b[38;5;34m32\u001b[0m, \u001b[38;5;34m32\u001b[0m, \u001b[38;5;34m64\u001b[0m)     │              \u001b[38;5;34m0\u001b[0m │ conv2d_12[\u001b[38;5;34m0\u001b[0m][\u001b[38;5;34m0\u001b[0m]        │\n",
              "├───────────────────────────┼────────────────────────┼────────────────┼────────────────────────┤\n",
              "│ conv2d_13 (\u001b[38;5;33mConv2D\u001b[0m)        │ (\u001b[38;5;45mNone\u001b[0m, \u001b[38;5;34m32\u001b[0m, \u001b[38;5;34m32\u001b[0m, \u001b[38;5;34m64\u001b[0m)     │         \u001b[38;5;34m36,928\u001b[0m │ dropout_6[\u001b[38;5;34m0\u001b[0m][\u001b[38;5;34m0\u001b[0m]        │\n",
              "├───────────────────────────┼────────────────────────┼────────────────┼────────────────────────┤\n",
              "│ conv2d_transpose_2        │ (\u001b[38;5;45mNone\u001b[0m, \u001b[38;5;34m64\u001b[0m, \u001b[38;5;34m64\u001b[0m, \u001b[38;5;34m32\u001b[0m)     │          \u001b[38;5;34m8,224\u001b[0m │ conv2d_13[\u001b[38;5;34m0\u001b[0m][\u001b[38;5;34m0\u001b[0m]        │\n",
              "│ (\u001b[38;5;33mConv2DTranspose\u001b[0m)         │                        │                │                        │\n",
              "├───────────────────────────┼────────────────────────┼────────────────┼────────────────────────┤\n",
              "│ concatenate_2             │ (\u001b[38;5;45mNone\u001b[0m, \u001b[38;5;34m64\u001b[0m, \u001b[38;5;34m64\u001b[0m, \u001b[38;5;34m64\u001b[0m)     │              \u001b[38;5;34m0\u001b[0m │ conv2d_transpose_2[\u001b[38;5;34m0\u001b[0m]… │\n",
              "│ (\u001b[38;5;33mConcatenate\u001b[0m)             │                        │                │ conv2d_3[\u001b[38;5;34m0\u001b[0m][\u001b[38;5;34m0\u001b[0m]         │\n",
              "├───────────────────────────┼────────────────────────┼────────────────┼────────────────────────┤\n",
              "│ conv2d_14 (\u001b[38;5;33mConv2D\u001b[0m)        │ (\u001b[38;5;45mNone\u001b[0m, \u001b[38;5;34m64\u001b[0m, \u001b[38;5;34m64\u001b[0m, \u001b[38;5;34m32\u001b[0m)     │         \u001b[38;5;34m18,464\u001b[0m │ concatenate_2[\u001b[38;5;34m0\u001b[0m][\u001b[38;5;34m0\u001b[0m]    │\n",
              "├───────────────────────────┼────────────────────────┼────────────────┼────────────────────────┤\n",
              "│ dropout_7 (\u001b[38;5;33mDropout\u001b[0m)       │ (\u001b[38;5;45mNone\u001b[0m, \u001b[38;5;34m64\u001b[0m, \u001b[38;5;34m64\u001b[0m, \u001b[38;5;34m32\u001b[0m)     │              \u001b[38;5;34m0\u001b[0m │ conv2d_14[\u001b[38;5;34m0\u001b[0m][\u001b[38;5;34m0\u001b[0m]        │\n",
              "├───────────────────────────┼────────────────────────┼────────────────┼────────────────────────┤\n",
              "│ conv2d_15 (\u001b[38;5;33mConv2D\u001b[0m)        │ (\u001b[38;5;45mNone\u001b[0m, \u001b[38;5;34m64\u001b[0m, \u001b[38;5;34m64\u001b[0m, \u001b[38;5;34m32\u001b[0m)     │          \u001b[38;5;34m9,248\u001b[0m │ dropout_7[\u001b[38;5;34m0\u001b[0m][\u001b[38;5;34m0\u001b[0m]        │\n",
              "├───────────────────────────┼────────────────────────┼────────────────┼────────────────────────┤\n",
              "│ conv2d_transpose_3        │ (\u001b[38;5;45mNone\u001b[0m, \u001b[38;5;34m128\u001b[0m, \u001b[38;5;34m128\u001b[0m, \u001b[38;5;34m16\u001b[0m)   │          \u001b[38;5;34m2,064\u001b[0m │ conv2d_15[\u001b[38;5;34m0\u001b[0m][\u001b[38;5;34m0\u001b[0m]        │\n",
              "│ (\u001b[38;5;33mConv2DTranspose\u001b[0m)         │                        │                │                        │\n",
              "├───────────────────────────┼────────────────────────┼────────────────┼────────────────────────┤\n",
              "│ concatenate_3             │ (\u001b[38;5;45mNone\u001b[0m, \u001b[38;5;34m128\u001b[0m, \u001b[38;5;34m128\u001b[0m, \u001b[38;5;34m32\u001b[0m)   │              \u001b[38;5;34m0\u001b[0m │ conv2d_transpose_3[\u001b[38;5;34m0\u001b[0m]… │\n",
              "│ (\u001b[38;5;33mConcatenate\u001b[0m)             │                        │                │ conv2d_1[\u001b[38;5;34m0\u001b[0m][\u001b[38;5;34m0\u001b[0m]         │\n",
              "├───────────────────────────┼────────────────────────┼────────────────┼────────────────────────┤\n",
              "│ conv2d_16 (\u001b[38;5;33mConv2D\u001b[0m)        │ (\u001b[38;5;45mNone\u001b[0m, \u001b[38;5;34m128\u001b[0m, \u001b[38;5;34m128\u001b[0m, \u001b[38;5;34m16\u001b[0m)   │          \u001b[38;5;34m4,624\u001b[0m │ concatenate_3[\u001b[38;5;34m0\u001b[0m][\u001b[38;5;34m0\u001b[0m]    │\n",
              "├───────────────────────────┼────────────────────────┼────────────────┼────────────────────────┤\n",
              "│ dropout_8 (\u001b[38;5;33mDropout\u001b[0m)       │ (\u001b[38;5;45mNone\u001b[0m, \u001b[38;5;34m128\u001b[0m, \u001b[38;5;34m128\u001b[0m, \u001b[38;5;34m16\u001b[0m)   │              \u001b[38;5;34m0\u001b[0m │ conv2d_16[\u001b[38;5;34m0\u001b[0m][\u001b[38;5;34m0\u001b[0m]        │\n",
              "├───────────────────────────┼────────────────────────┼────────────────┼────────────────────────┤\n",
              "│ conv2d_17 (\u001b[38;5;33mConv2D\u001b[0m)        │ (\u001b[38;5;45mNone\u001b[0m, \u001b[38;5;34m128\u001b[0m, \u001b[38;5;34m128\u001b[0m, \u001b[38;5;34m16\u001b[0m)   │          \u001b[38;5;34m2,320\u001b[0m │ dropout_8[\u001b[38;5;34m0\u001b[0m][\u001b[38;5;34m0\u001b[0m]        │\n",
              "├───────────────────────────┼────────────────────────┼────────────────┼────────────────────────┤\n",
              "│ conv2d_18 (\u001b[38;5;33mConv2D\u001b[0m)        │ (\u001b[38;5;45mNone\u001b[0m, \u001b[38;5;34m128\u001b[0m, \u001b[38;5;34m128\u001b[0m, \u001b[38;5;34m1\u001b[0m)    │             \u001b[38;5;34m17\u001b[0m │ conv2d_17[\u001b[38;5;34m0\u001b[0m][\u001b[38;5;34m0\u001b[0m]        │\n",
              "└───────────────────────────┴────────────────────────┴────────────────┴────────────────────────┘\n"
            ],
            "text/html": [
              "<pre style=\"white-space:pre;overflow-x:auto;line-height:normal;font-family:Menlo,'DejaVu Sans Mono',consolas,'Courier New',monospace\">┏━━━━━━━━━━━━━━━━━━━━━━━━━━━┳━━━━━━━━━━━━━━━━━━━━━━━━┳━━━━━━━━━━━━━━━━┳━━━━━━━━━━━━━━━━━━━━━━━━┓\n",
              "┃<span style=\"font-weight: bold\"> Layer (type)              </span>┃<span style=\"font-weight: bold\"> Output Shape           </span>┃<span style=\"font-weight: bold\">        Param # </span>┃<span style=\"font-weight: bold\"> Connected to           </span>┃\n",
              "┡━━━━━━━━━━━━━━━━━━━━━━━━━━━╇━━━━━━━━━━━━━━━━━━━━━━━━╇━━━━━━━━━━━━━━━━╇━━━━━━━━━━━━━━━━━━━━━━━━┩\n",
              "│ input_layer (<span style=\"color: #0087ff; text-decoration-color: #0087ff\">InputLayer</span>)  │ (<span style=\"color: #00d7ff; text-decoration-color: #00d7ff\">None</span>, <span style=\"color: #00af00; text-decoration-color: #00af00\">128</span>, <span style=\"color: #00af00; text-decoration-color: #00af00\">128</span>, <span style=\"color: #00af00; text-decoration-color: #00af00\">3</span>)    │              <span style=\"color: #00af00; text-decoration-color: #00af00\">0</span> │ -                      │\n",
              "├───────────────────────────┼────────────────────────┼────────────────┼────────────────────────┤\n",
              "│ conv2d (<span style=\"color: #0087ff; text-decoration-color: #0087ff\">Conv2D</span>)           │ (<span style=\"color: #00d7ff; text-decoration-color: #00d7ff\">None</span>, <span style=\"color: #00af00; text-decoration-color: #00af00\">128</span>, <span style=\"color: #00af00; text-decoration-color: #00af00\">128</span>, <span style=\"color: #00af00; text-decoration-color: #00af00\">16</span>)   │            <span style=\"color: #00af00; text-decoration-color: #00af00\">448</span> │ input_layer[<span style=\"color: #00af00; text-decoration-color: #00af00\">0</span>][<span style=\"color: #00af00; text-decoration-color: #00af00\">0</span>]      │\n",
              "├───────────────────────────┼────────────────────────┼────────────────┼────────────────────────┤\n",
              "│ dropout (<span style=\"color: #0087ff; text-decoration-color: #0087ff\">Dropout</span>)         │ (<span style=\"color: #00d7ff; text-decoration-color: #00d7ff\">None</span>, <span style=\"color: #00af00; text-decoration-color: #00af00\">128</span>, <span style=\"color: #00af00; text-decoration-color: #00af00\">128</span>, <span style=\"color: #00af00; text-decoration-color: #00af00\">16</span>)   │              <span style=\"color: #00af00; text-decoration-color: #00af00\">0</span> │ conv2d[<span style=\"color: #00af00; text-decoration-color: #00af00\">0</span>][<span style=\"color: #00af00; text-decoration-color: #00af00\">0</span>]           │\n",
              "├───────────────────────────┼────────────────────────┼────────────────┼────────────────────────┤\n",
              "│ conv2d_1 (<span style=\"color: #0087ff; text-decoration-color: #0087ff\">Conv2D</span>)         │ (<span style=\"color: #00d7ff; text-decoration-color: #00d7ff\">None</span>, <span style=\"color: #00af00; text-decoration-color: #00af00\">128</span>, <span style=\"color: #00af00; text-decoration-color: #00af00\">128</span>, <span style=\"color: #00af00; text-decoration-color: #00af00\">16</span>)   │          <span style=\"color: #00af00; text-decoration-color: #00af00\">2,320</span> │ dropout[<span style=\"color: #00af00; text-decoration-color: #00af00\">0</span>][<span style=\"color: #00af00; text-decoration-color: #00af00\">0</span>]          │\n",
              "├───────────────────────────┼────────────────────────┼────────────────┼────────────────────────┤\n",
              "│ max_pooling2d             │ (<span style=\"color: #00d7ff; text-decoration-color: #00d7ff\">None</span>, <span style=\"color: #00af00; text-decoration-color: #00af00\">64</span>, <span style=\"color: #00af00; text-decoration-color: #00af00\">64</span>, <span style=\"color: #00af00; text-decoration-color: #00af00\">16</span>)     │              <span style=\"color: #00af00; text-decoration-color: #00af00\">0</span> │ conv2d_1[<span style=\"color: #00af00; text-decoration-color: #00af00\">0</span>][<span style=\"color: #00af00; text-decoration-color: #00af00\">0</span>]         │\n",
              "│ (<span style=\"color: #0087ff; text-decoration-color: #0087ff\">MaxPooling2D</span>)            │                        │                │                        │\n",
              "├───────────────────────────┼────────────────────────┼────────────────┼────────────────────────┤\n",
              "│ conv2d_2 (<span style=\"color: #0087ff; text-decoration-color: #0087ff\">Conv2D</span>)         │ (<span style=\"color: #00d7ff; text-decoration-color: #00d7ff\">None</span>, <span style=\"color: #00af00; text-decoration-color: #00af00\">64</span>, <span style=\"color: #00af00; text-decoration-color: #00af00\">64</span>, <span style=\"color: #00af00; text-decoration-color: #00af00\">32</span>)     │          <span style=\"color: #00af00; text-decoration-color: #00af00\">4,640</span> │ max_pooling2d[<span style=\"color: #00af00; text-decoration-color: #00af00\">0</span>][<span style=\"color: #00af00; text-decoration-color: #00af00\">0</span>]    │\n",
              "├───────────────────────────┼────────────────────────┼────────────────┼────────────────────────┤\n",
              "│ dropout_1 (<span style=\"color: #0087ff; text-decoration-color: #0087ff\">Dropout</span>)       │ (<span style=\"color: #00d7ff; text-decoration-color: #00d7ff\">None</span>, <span style=\"color: #00af00; text-decoration-color: #00af00\">64</span>, <span style=\"color: #00af00; text-decoration-color: #00af00\">64</span>, <span style=\"color: #00af00; text-decoration-color: #00af00\">32</span>)     │              <span style=\"color: #00af00; text-decoration-color: #00af00\">0</span> │ conv2d_2[<span style=\"color: #00af00; text-decoration-color: #00af00\">0</span>][<span style=\"color: #00af00; text-decoration-color: #00af00\">0</span>]         │\n",
              "├───────────────────────────┼────────────────────────┼────────────────┼────────────────────────┤\n",
              "│ conv2d_3 (<span style=\"color: #0087ff; text-decoration-color: #0087ff\">Conv2D</span>)         │ (<span style=\"color: #00d7ff; text-decoration-color: #00d7ff\">None</span>, <span style=\"color: #00af00; text-decoration-color: #00af00\">64</span>, <span style=\"color: #00af00; text-decoration-color: #00af00\">64</span>, <span style=\"color: #00af00; text-decoration-color: #00af00\">32</span>)     │          <span style=\"color: #00af00; text-decoration-color: #00af00\">9,248</span> │ dropout_1[<span style=\"color: #00af00; text-decoration-color: #00af00\">0</span>][<span style=\"color: #00af00; text-decoration-color: #00af00\">0</span>]        │\n",
              "├───────────────────────────┼────────────────────────┼────────────────┼────────────────────────┤\n",
              "│ max_pooling2d_1           │ (<span style=\"color: #00d7ff; text-decoration-color: #00d7ff\">None</span>, <span style=\"color: #00af00; text-decoration-color: #00af00\">32</span>, <span style=\"color: #00af00; text-decoration-color: #00af00\">32</span>, <span style=\"color: #00af00; text-decoration-color: #00af00\">32</span>)     │              <span style=\"color: #00af00; text-decoration-color: #00af00\">0</span> │ conv2d_3[<span style=\"color: #00af00; text-decoration-color: #00af00\">0</span>][<span style=\"color: #00af00; text-decoration-color: #00af00\">0</span>]         │\n",
              "│ (<span style=\"color: #0087ff; text-decoration-color: #0087ff\">MaxPooling2D</span>)            │                        │                │                        │\n",
              "├───────────────────────────┼────────────────────────┼────────────────┼────────────────────────┤\n",
              "│ conv2d_4 (<span style=\"color: #0087ff; text-decoration-color: #0087ff\">Conv2D</span>)         │ (<span style=\"color: #00d7ff; text-decoration-color: #00d7ff\">None</span>, <span style=\"color: #00af00; text-decoration-color: #00af00\">32</span>, <span style=\"color: #00af00; text-decoration-color: #00af00\">32</span>, <span style=\"color: #00af00; text-decoration-color: #00af00\">64</span>)     │         <span style=\"color: #00af00; text-decoration-color: #00af00\">18,496</span> │ max_pooling2d_1[<span style=\"color: #00af00; text-decoration-color: #00af00\">0</span>][<span style=\"color: #00af00; text-decoration-color: #00af00\">0</span>]  │\n",
              "├───────────────────────────┼────────────────────────┼────────────────┼────────────────────────┤\n",
              "│ dropout_2 (<span style=\"color: #0087ff; text-decoration-color: #0087ff\">Dropout</span>)       │ (<span style=\"color: #00d7ff; text-decoration-color: #00d7ff\">None</span>, <span style=\"color: #00af00; text-decoration-color: #00af00\">32</span>, <span style=\"color: #00af00; text-decoration-color: #00af00\">32</span>, <span style=\"color: #00af00; text-decoration-color: #00af00\">64</span>)     │              <span style=\"color: #00af00; text-decoration-color: #00af00\">0</span> │ conv2d_4[<span style=\"color: #00af00; text-decoration-color: #00af00\">0</span>][<span style=\"color: #00af00; text-decoration-color: #00af00\">0</span>]         │\n",
              "├───────────────────────────┼────────────────────────┼────────────────┼────────────────────────┤\n",
              "│ conv2d_5 (<span style=\"color: #0087ff; text-decoration-color: #0087ff\">Conv2D</span>)         │ (<span style=\"color: #00d7ff; text-decoration-color: #00d7ff\">None</span>, <span style=\"color: #00af00; text-decoration-color: #00af00\">32</span>, <span style=\"color: #00af00; text-decoration-color: #00af00\">32</span>, <span style=\"color: #00af00; text-decoration-color: #00af00\">64</span>)     │         <span style=\"color: #00af00; text-decoration-color: #00af00\">36,928</span> │ dropout_2[<span style=\"color: #00af00; text-decoration-color: #00af00\">0</span>][<span style=\"color: #00af00; text-decoration-color: #00af00\">0</span>]        │\n",
              "├───────────────────────────┼────────────────────────┼────────────────┼────────────────────────┤\n",
              "│ max_pooling2d_2           │ (<span style=\"color: #00d7ff; text-decoration-color: #00d7ff\">None</span>, <span style=\"color: #00af00; text-decoration-color: #00af00\">16</span>, <span style=\"color: #00af00; text-decoration-color: #00af00\">16</span>, <span style=\"color: #00af00; text-decoration-color: #00af00\">64</span>)     │              <span style=\"color: #00af00; text-decoration-color: #00af00\">0</span> │ conv2d_5[<span style=\"color: #00af00; text-decoration-color: #00af00\">0</span>][<span style=\"color: #00af00; text-decoration-color: #00af00\">0</span>]         │\n",
              "│ (<span style=\"color: #0087ff; text-decoration-color: #0087ff\">MaxPooling2D</span>)            │                        │                │                        │\n",
              "├───────────────────────────┼────────────────────────┼────────────────┼────────────────────────┤\n",
              "│ conv2d_6 (<span style=\"color: #0087ff; text-decoration-color: #0087ff\">Conv2D</span>)         │ (<span style=\"color: #00d7ff; text-decoration-color: #00d7ff\">None</span>, <span style=\"color: #00af00; text-decoration-color: #00af00\">16</span>, <span style=\"color: #00af00; text-decoration-color: #00af00\">16</span>, <span style=\"color: #00af00; text-decoration-color: #00af00\">128</span>)    │         <span style=\"color: #00af00; text-decoration-color: #00af00\">73,856</span> │ max_pooling2d_2[<span style=\"color: #00af00; text-decoration-color: #00af00\">0</span>][<span style=\"color: #00af00; text-decoration-color: #00af00\">0</span>]  │\n",
              "├───────────────────────────┼────────────────────────┼────────────────┼────────────────────────┤\n",
              "│ dropout_3 (<span style=\"color: #0087ff; text-decoration-color: #0087ff\">Dropout</span>)       │ (<span style=\"color: #00d7ff; text-decoration-color: #00d7ff\">None</span>, <span style=\"color: #00af00; text-decoration-color: #00af00\">16</span>, <span style=\"color: #00af00; text-decoration-color: #00af00\">16</span>, <span style=\"color: #00af00; text-decoration-color: #00af00\">128</span>)    │              <span style=\"color: #00af00; text-decoration-color: #00af00\">0</span> │ conv2d_6[<span style=\"color: #00af00; text-decoration-color: #00af00\">0</span>][<span style=\"color: #00af00; text-decoration-color: #00af00\">0</span>]         │\n",
              "├───────────────────────────┼────────────────────────┼────────────────┼────────────────────────┤\n",
              "│ conv2d_7 (<span style=\"color: #0087ff; text-decoration-color: #0087ff\">Conv2D</span>)         │ (<span style=\"color: #00d7ff; text-decoration-color: #00d7ff\">None</span>, <span style=\"color: #00af00; text-decoration-color: #00af00\">16</span>, <span style=\"color: #00af00; text-decoration-color: #00af00\">16</span>, <span style=\"color: #00af00; text-decoration-color: #00af00\">128</span>)    │        <span style=\"color: #00af00; text-decoration-color: #00af00\">147,584</span> │ dropout_3[<span style=\"color: #00af00; text-decoration-color: #00af00\">0</span>][<span style=\"color: #00af00; text-decoration-color: #00af00\">0</span>]        │\n",
              "├───────────────────────────┼────────────────────────┼────────────────┼────────────────────────┤\n",
              "│ max_pooling2d_3           │ (<span style=\"color: #00d7ff; text-decoration-color: #00d7ff\">None</span>, <span style=\"color: #00af00; text-decoration-color: #00af00\">8</span>, <span style=\"color: #00af00; text-decoration-color: #00af00\">8</span>, <span style=\"color: #00af00; text-decoration-color: #00af00\">128</span>)      │              <span style=\"color: #00af00; text-decoration-color: #00af00\">0</span> │ conv2d_7[<span style=\"color: #00af00; text-decoration-color: #00af00\">0</span>][<span style=\"color: #00af00; text-decoration-color: #00af00\">0</span>]         │\n",
              "│ (<span style=\"color: #0087ff; text-decoration-color: #0087ff\">MaxPooling2D</span>)            │                        │                │                        │\n",
              "├───────────────────────────┼────────────────────────┼────────────────┼────────────────────────┤\n",
              "│ conv2d_8 (<span style=\"color: #0087ff; text-decoration-color: #0087ff\">Conv2D</span>)         │ (<span style=\"color: #00d7ff; text-decoration-color: #00d7ff\">None</span>, <span style=\"color: #00af00; text-decoration-color: #00af00\">8</span>, <span style=\"color: #00af00; text-decoration-color: #00af00\">8</span>, <span style=\"color: #00af00; text-decoration-color: #00af00\">256</span>)      │        <span style=\"color: #00af00; text-decoration-color: #00af00\">295,168</span> │ max_pooling2d_3[<span style=\"color: #00af00; text-decoration-color: #00af00\">0</span>][<span style=\"color: #00af00; text-decoration-color: #00af00\">0</span>]  │\n",
              "├───────────────────────────┼────────────────────────┼────────────────┼────────────────────────┤\n",
              "│ dropout_4 (<span style=\"color: #0087ff; text-decoration-color: #0087ff\">Dropout</span>)       │ (<span style=\"color: #00d7ff; text-decoration-color: #00d7ff\">None</span>, <span style=\"color: #00af00; text-decoration-color: #00af00\">8</span>, <span style=\"color: #00af00; text-decoration-color: #00af00\">8</span>, <span style=\"color: #00af00; text-decoration-color: #00af00\">256</span>)      │              <span style=\"color: #00af00; text-decoration-color: #00af00\">0</span> │ conv2d_8[<span style=\"color: #00af00; text-decoration-color: #00af00\">0</span>][<span style=\"color: #00af00; text-decoration-color: #00af00\">0</span>]         │\n",
              "├───────────────────────────┼────────────────────────┼────────────────┼────────────────────────┤\n",
              "│ conv2d_9 (<span style=\"color: #0087ff; text-decoration-color: #0087ff\">Conv2D</span>)         │ (<span style=\"color: #00d7ff; text-decoration-color: #00d7ff\">None</span>, <span style=\"color: #00af00; text-decoration-color: #00af00\">8</span>, <span style=\"color: #00af00; text-decoration-color: #00af00\">8</span>, <span style=\"color: #00af00; text-decoration-color: #00af00\">256</span>)      │        <span style=\"color: #00af00; text-decoration-color: #00af00\">590,080</span> │ dropout_4[<span style=\"color: #00af00; text-decoration-color: #00af00\">0</span>][<span style=\"color: #00af00; text-decoration-color: #00af00\">0</span>]        │\n",
              "├───────────────────────────┼────────────────────────┼────────────────┼────────────────────────┤\n",
              "│ conv2d_transpose          │ (<span style=\"color: #00d7ff; text-decoration-color: #00d7ff\">None</span>, <span style=\"color: #00af00; text-decoration-color: #00af00\">16</span>, <span style=\"color: #00af00; text-decoration-color: #00af00\">16</span>, <span style=\"color: #00af00; text-decoration-color: #00af00\">128</span>)    │        <span style=\"color: #00af00; text-decoration-color: #00af00\">131,200</span> │ conv2d_9[<span style=\"color: #00af00; text-decoration-color: #00af00\">0</span>][<span style=\"color: #00af00; text-decoration-color: #00af00\">0</span>]         │\n",
              "│ (<span style=\"color: #0087ff; text-decoration-color: #0087ff\">Conv2DTranspose</span>)         │                        │                │                        │\n",
              "├───────────────────────────┼────────────────────────┼────────────────┼────────────────────────┤\n",
              "│ concatenate (<span style=\"color: #0087ff; text-decoration-color: #0087ff\">Concatenate</span>) │ (<span style=\"color: #00d7ff; text-decoration-color: #00d7ff\">None</span>, <span style=\"color: #00af00; text-decoration-color: #00af00\">16</span>, <span style=\"color: #00af00; text-decoration-color: #00af00\">16</span>, <span style=\"color: #00af00; text-decoration-color: #00af00\">256</span>)    │              <span style=\"color: #00af00; text-decoration-color: #00af00\">0</span> │ conv2d_transpose[<span style=\"color: #00af00; text-decoration-color: #00af00\">0</span>][<span style=\"color: #00af00; text-decoration-color: #00af00\">0</span>… │\n",
              "│                           │                        │                │ conv2d_7[<span style=\"color: #00af00; text-decoration-color: #00af00\">0</span>][<span style=\"color: #00af00; text-decoration-color: #00af00\">0</span>]         │\n",
              "├───────────────────────────┼────────────────────────┼────────────────┼────────────────────────┤\n",
              "│ conv2d_10 (<span style=\"color: #0087ff; text-decoration-color: #0087ff\">Conv2D</span>)        │ (<span style=\"color: #00d7ff; text-decoration-color: #00d7ff\">None</span>, <span style=\"color: #00af00; text-decoration-color: #00af00\">16</span>, <span style=\"color: #00af00; text-decoration-color: #00af00\">16</span>, <span style=\"color: #00af00; text-decoration-color: #00af00\">128</span>)    │        <span style=\"color: #00af00; text-decoration-color: #00af00\">295,040</span> │ concatenate[<span style=\"color: #00af00; text-decoration-color: #00af00\">0</span>][<span style=\"color: #00af00; text-decoration-color: #00af00\">0</span>]      │\n",
              "├───────────────────────────┼────────────────────────┼────────────────┼────────────────────────┤\n",
              "│ dropout_5 (<span style=\"color: #0087ff; text-decoration-color: #0087ff\">Dropout</span>)       │ (<span style=\"color: #00d7ff; text-decoration-color: #00d7ff\">None</span>, <span style=\"color: #00af00; text-decoration-color: #00af00\">16</span>, <span style=\"color: #00af00; text-decoration-color: #00af00\">16</span>, <span style=\"color: #00af00; text-decoration-color: #00af00\">128</span>)    │              <span style=\"color: #00af00; text-decoration-color: #00af00\">0</span> │ conv2d_10[<span style=\"color: #00af00; text-decoration-color: #00af00\">0</span>][<span style=\"color: #00af00; text-decoration-color: #00af00\">0</span>]        │\n",
              "├───────────────────────────┼────────────────────────┼────────────────┼────────────────────────┤\n",
              "│ conv2d_11 (<span style=\"color: #0087ff; text-decoration-color: #0087ff\">Conv2D</span>)        │ (<span style=\"color: #00d7ff; text-decoration-color: #00d7ff\">None</span>, <span style=\"color: #00af00; text-decoration-color: #00af00\">16</span>, <span style=\"color: #00af00; text-decoration-color: #00af00\">16</span>, <span style=\"color: #00af00; text-decoration-color: #00af00\">128</span>)    │        <span style=\"color: #00af00; text-decoration-color: #00af00\">147,584</span> │ dropout_5[<span style=\"color: #00af00; text-decoration-color: #00af00\">0</span>][<span style=\"color: #00af00; text-decoration-color: #00af00\">0</span>]        │\n",
              "├───────────────────────────┼────────────────────────┼────────────────┼────────────────────────┤\n",
              "│ conv2d_transpose_1        │ (<span style=\"color: #00d7ff; text-decoration-color: #00d7ff\">None</span>, <span style=\"color: #00af00; text-decoration-color: #00af00\">32</span>, <span style=\"color: #00af00; text-decoration-color: #00af00\">32</span>, <span style=\"color: #00af00; text-decoration-color: #00af00\">64</span>)     │         <span style=\"color: #00af00; text-decoration-color: #00af00\">32,832</span> │ conv2d_11[<span style=\"color: #00af00; text-decoration-color: #00af00\">0</span>][<span style=\"color: #00af00; text-decoration-color: #00af00\">0</span>]        │\n",
              "│ (<span style=\"color: #0087ff; text-decoration-color: #0087ff\">Conv2DTranspose</span>)         │                        │                │                        │\n",
              "├───────────────────────────┼────────────────────────┼────────────────┼────────────────────────┤\n",
              "│ concatenate_1             │ (<span style=\"color: #00d7ff; text-decoration-color: #00d7ff\">None</span>, <span style=\"color: #00af00; text-decoration-color: #00af00\">32</span>, <span style=\"color: #00af00; text-decoration-color: #00af00\">32</span>, <span style=\"color: #00af00; text-decoration-color: #00af00\">128</span>)    │              <span style=\"color: #00af00; text-decoration-color: #00af00\">0</span> │ conv2d_transpose_1[<span style=\"color: #00af00; text-decoration-color: #00af00\">0</span>]… │\n",
              "│ (<span style=\"color: #0087ff; text-decoration-color: #0087ff\">Concatenate</span>)             │                        │                │ conv2d_5[<span style=\"color: #00af00; text-decoration-color: #00af00\">0</span>][<span style=\"color: #00af00; text-decoration-color: #00af00\">0</span>]         │\n",
              "├───────────────────────────┼────────────────────────┼────────────────┼────────────────────────┤\n",
              "│ conv2d_12 (<span style=\"color: #0087ff; text-decoration-color: #0087ff\">Conv2D</span>)        │ (<span style=\"color: #00d7ff; text-decoration-color: #00d7ff\">None</span>, <span style=\"color: #00af00; text-decoration-color: #00af00\">32</span>, <span style=\"color: #00af00; text-decoration-color: #00af00\">32</span>, <span style=\"color: #00af00; text-decoration-color: #00af00\">64</span>)     │         <span style=\"color: #00af00; text-decoration-color: #00af00\">73,792</span> │ concatenate_1[<span style=\"color: #00af00; text-decoration-color: #00af00\">0</span>][<span style=\"color: #00af00; text-decoration-color: #00af00\">0</span>]    │\n",
              "├───────────────────────────┼────────────────────────┼────────────────┼────────────────────────┤\n",
              "│ dropout_6 (<span style=\"color: #0087ff; text-decoration-color: #0087ff\">Dropout</span>)       │ (<span style=\"color: #00d7ff; text-decoration-color: #00d7ff\">None</span>, <span style=\"color: #00af00; text-decoration-color: #00af00\">32</span>, <span style=\"color: #00af00; text-decoration-color: #00af00\">32</span>, <span style=\"color: #00af00; text-decoration-color: #00af00\">64</span>)     │              <span style=\"color: #00af00; text-decoration-color: #00af00\">0</span> │ conv2d_12[<span style=\"color: #00af00; text-decoration-color: #00af00\">0</span>][<span style=\"color: #00af00; text-decoration-color: #00af00\">0</span>]        │\n",
              "├───────────────────────────┼────────────────────────┼────────────────┼────────────────────────┤\n",
              "│ conv2d_13 (<span style=\"color: #0087ff; text-decoration-color: #0087ff\">Conv2D</span>)        │ (<span style=\"color: #00d7ff; text-decoration-color: #00d7ff\">None</span>, <span style=\"color: #00af00; text-decoration-color: #00af00\">32</span>, <span style=\"color: #00af00; text-decoration-color: #00af00\">32</span>, <span style=\"color: #00af00; text-decoration-color: #00af00\">64</span>)     │         <span style=\"color: #00af00; text-decoration-color: #00af00\">36,928</span> │ dropout_6[<span style=\"color: #00af00; text-decoration-color: #00af00\">0</span>][<span style=\"color: #00af00; text-decoration-color: #00af00\">0</span>]        │\n",
              "├───────────────────────────┼────────────────────────┼────────────────┼────────────────────────┤\n",
              "│ conv2d_transpose_2        │ (<span style=\"color: #00d7ff; text-decoration-color: #00d7ff\">None</span>, <span style=\"color: #00af00; text-decoration-color: #00af00\">64</span>, <span style=\"color: #00af00; text-decoration-color: #00af00\">64</span>, <span style=\"color: #00af00; text-decoration-color: #00af00\">32</span>)     │          <span style=\"color: #00af00; text-decoration-color: #00af00\">8,224</span> │ conv2d_13[<span style=\"color: #00af00; text-decoration-color: #00af00\">0</span>][<span style=\"color: #00af00; text-decoration-color: #00af00\">0</span>]        │\n",
              "│ (<span style=\"color: #0087ff; text-decoration-color: #0087ff\">Conv2DTranspose</span>)         │                        │                │                        │\n",
              "├───────────────────────────┼────────────────────────┼────────────────┼────────────────────────┤\n",
              "│ concatenate_2             │ (<span style=\"color: #00d7ff; text-decoration-color: #00d7ff\">None</span>, <span style=\"color: #00af00; text-decoration-color: #00af00\">64</span>, <span style=\"color: #00af00; text-decoration-color: #00af00\">64</span>, <span style=\"color: #00af00; text-decoration-color: #00af00\">64</span>)     │              <span style=\"color: #00af00; text-decoration-color: #00af00\">0</span> │ conv2d_transpose_2[<span style=\"color: #00af00; text-decoration-color: #00af00\">0</span>]… │\n",
              "│ (<span style=\"color: #0087ff; text-decoration-color: #0087ff\">Concatenate</span>)             │                        │                │ conv2d_3[<span style=\"color: #00af00; text-decoration-color: #00af00\">0</span>][<span style=\"color: #00af00; text-decoration-color: #00af00\">0</span>]         │\n",
              "├───────────────────────────┼────────────────────────┼────────────────┼────────────────────────┤\n",
              "│ conv2d_14 (<span style=\"color: #0087ff; text-decoration-color: #0087ff\">Conv2D</span>)        │ (<span style=\"color: #00d7ff; text-decoration-color: #00d7ff\">None</span>, <span style=\"color: #00af00; text-decoration-color: #00af00\">64</span>, <span style=\"color: #00af00; text-decoration-color: #00af00\">64</span>, <span style=\"color: #00af00; text-decoration-color: #00af00\">32</span>)     │         <span style=\"color: #00af00; text-decoration-color: #00af00\">18,464</span> │ concatenate_2[<span style=\"color: #00af00; text-decoration-color: #00af00\">0</span>][<span style=\"color: #00af00; text-decoration-color: #00af00\">0</span>]    │\n",
              "├───────────────────────────┼────────────────────────┼────────────────┼────────────────────────┤\n",
              "│ dropout_7 (<span style=\"color: #0087ff; text-decoration-color: #0087ff\">Dropout</span>)       │ (<span style=\"color: #00d7ff; text-decoration-color: #00d7ff\">None</span>, <span style=\"color: #00af00; text-decoration-color: #00af00\">64</span>, <span style=\"color: #00af00; text-decoration-color: #00af00\">64</span>, <span style=\"color: #00af00; text-decoration-color: #00af00\">32</span>)     │              <span style=\"color: #00af00; text-decoration-color: #00af00\">0</span> │ conv2d_14[<span style=\"color: #00af00; text-decoration-color: #00af00\">0</span>][<span style=\"color: #00af00; text-decoration-color: #00af00\">0</span>]        │\n",
              "├───────────────────────────┼────────────────────────┼────────────────┼────────────────────────┤\n",
              "│ conv2d_15 (<span style=\"color: #0087ff; text-decoration-color: #0087ff\">Conv2D</span>)        │ (<span style=\"color: #00d7ff; text-decoration-color: #00d7ff\">None</span>, <span style=\"color: #00af00; text-decoration-color: #00af00\">64</span>, <span style=\"color: #00af00; text-decoration-color: #00af00\">64</span>, <span style=\"color: #00af00; text-decoration-color: #00af00\">32</span>)     │          <span style=\"color: #00af00; text-decoration-color: #00af00\">9,248</span> │ dropout_7[<span style=\"color: #00af00; text-decoration-color: #00af00\">0</span>][<span style=\"color: #00af00; text-decoration-color: #00af00\">0</span>]        │\n",
              "├───────────────────────────┼────────────────────────┼────────────────┼────────────────────────┤\n",
              "│ conv2d_transpose_3        │ (<span style=\"color: #00d7ff; text-decoration-color: #00d7ff\">None</span>, <span style=\"color: #00af00; text-decoration-color: #00af00\">128</span>, <span style=\"color: #00af00; text-decoration-color: #00af00\">128</span>, <span style=\"color: #00af00; text-decoration-color: #00af00\">16</span>)   │          <span style=\"color: #00af00; text-decoration-color: #00af00\">2,064</span> │ conv2d_15[<span style=\"color: #00af00; text-decoration-color: #00af00\">0</span>][<span style=\"color: #00af00; text-decoration-color: #00af00\">0</span>]        │\n",
              "│ (<span style=\"color: #0087ff; text-decoration-color: #0087ff\">Conv2DTranspose</span>)         │                        │                │                        │\n",
              "├───────────────────────────┼────────────────────────┼────────────────┼────────────────────────┤\n",
              "│ concatenate_3             │ (<span style=\"color: #00d7ff; text-decoration-color: #00d7ff\">None</span>, <span style=\"color: #00af00; text-decoration-color: #00af00\">128</span>, <span style=\"color: #00af00; text-decoration-color: #00af00\">128</span>, <span style=\"color: #00af00; text-decoration-color: #00af00\">32</span>)   │              <span style=\"color: #00af00; text-decoration-color: #00af00\">0</span> │ conv2d_transpose_3[<span style=\"color: #00af00; text-decoration-color: #00af00\">0</span>]… │\n",
              "│ (<span style=\"color: #0087ff; text-decoration-color: #0087ff\">Concatenate</span>)             │                        │                │ conv2d_1[<span style=\"color: #00af00; text-decoration-color: #00af00\">0</span>][<span style=\"color: #00af00; text-decoration-color: #00af00\">0</span>]         │\n",
              "├───────────────────────────┼────────────────────────┼────────────────┼────────────────────────┤\n",
              "│ conv2d_16 (<span style=\"color: #0087ff; text-decoration-color: #0087ff\">Conv2D</span>)        │ (<span style=\"color: #00d7ff; text-decoration-color: #00d7ff\">None</span>, <span style=\"color: #00af00; text-decoration-color: #00af00\">128</span>, <span style=\"color: #00af00; text-decoration-color: #00af00\">128</span>, <span style=\"color: #00af00; text-decoration-color: #00af00\">16</span>)   │          <span style=\"color: #00af00; text-decoration-color: #00af00\">4,624</span> │ concatenate_3[<span style=\"color: #00af00; text-decoration-color: #00af00\">0</span>][<span style=\"color: #00af00; text-decoration-color: #00af00\">0</span>]    │\n",
              "├───────────────────────────┼────────────────────────┼────────────────┼────────────────────────┤\n",
              "│ dropout_8 (<span style=\"color: #0087ff; text-decoration-color: #0087ff\">Dropout</span>)       │ (<span style=\"color: #00d7ff; text-decoration-color: #00d7ff\">None</span>, <span style=\"color: #00af00; text-decoration-color: #00af00\">128</span>, <span style=\"color: #00af00; text-decoration-color: #00af00\">128</span>, <span style=\"color: #00af00; text-decoration-color: #00af00\">16</span>)   │              <span style=\"color: #00af00; text-decoration-color: #00af00\">0</span> │ conv2d_16[<span style=\"color: #00af00; text-decoration-color: #00af00\">0</span>][<span style=\"color: #00af00; text-decoration-color: #00af00\">0</span>]        │\n",
              "├───────────────────────────┼────────────────────────┼────────────────┼────────────────────────┤\n",
              "│ conv2d_17 (<span style=\"color: #0087ff; text-decoration-color: #0087ff\">Conv2D</span>)        │ (<span style=\"color: #00d7ff; text-decoration-color: #00d7ff\">None</span>, <span style=\"color: #00af00; text-decoration-color: #00af00\">128</span>, <span style=\"color: #00af00; text-decoration-color: #00af00\">128</span>, <span style=\"color: #00af00; text-decoration-color: #00af00\">16</span>)   │          <span style=\"color: #00af00; text-decoration-color: #00af00\">2,320</span> │ dropout_8[<span style=\"color: #00af00; text-decoration-color: #00af00\">0</span>][<span style=\"color: #00af00; text-decoration-color: #00af00\">0</span>]        │\n",
              "├───────────────────────────┼────────────────────────┼────────────────┼────────────────────────┤\n",
              "│ conv2d_18 (<span style=\"color: #0087ff; text-decoration-color: #0087ff\">Conv2D</span>)        │ (<span style=\"color: #00d7ff; text-decoration-color: #00d7ff\">None</span>, <span style=\"color: #00af00; text-decoration-color: #00af00\">128</span>, <span style=\"color: #00af00; text-decoration-color: #00af00\">128</span>, <span style=\"color: #00af00; text-decoration-color: #00af00\">1</span>)    │             <span style=\"color: #00af00; text-decoration-color: #00af00\">17</span> │ conv2d_17[<span style=\"color: #00af00; text-decoration-color: #00af00\">0</span>][<span style=\"color: #00af00; text-decoration-color: #00af00\">0</span>]        │\n",
              "└───────────────────────────┴────────────────────────┴────────────────┴────────────────────────┘\n",
              "</pre>\n"
            ]
          },
          "metadata": {}
        },
        {
          "output_type": "display_data",
          "data": {
            "text/plain": [
              "\u001b[1m Total params: \u001b[0m\u001b[38;5;34m1,941,105\u001b[0m (7.40 MB)\n"
            ],
            "text/html": [
              "<pre style=\"white-space:pre;overflow-x:auto;line-height:normal;font-family:Menlo,'DejaVu Sans Mono',consolas,'Courier New',monospace\"><span style=\"font-weight: bold\"> Total params: </span><span style=\"color: #00af00; text-decoration-color: #00af00\">1,941,105</span> (7.40 MB)\n",
              "</pre>\n"
            ]
          },
          "metadata": {}
        },
        {
          "output_type": "display_data",
          "data": {
            "text/plain": [
              "\u001b[1m Trainable params: \u001b[0m\u001b[38;5;34m1,941,105\u001b[0m (7.40 MB)\n"
            ],
            "text/html": [
              "<pre style=\"white-space:pre;overflow-x:auto;line-height:normal;font-family:Menlo,'DejaVu Sans Mono',consolas,'Courier New',monospace\"><span style=\"font-weight: bold\"> Trainable params: </span><span style=\"color: #00af00; text-decoration-color: #00af00\">1,941,105</span> (7.40 MB)\n",
              "</pre>\n"
            ]
          },
          "metadata": {}
        },
        {
          "output_type": "display_data",
          "data": {
            "text/plain": [
              "\u001b[1m Non-trainable params: \u001b[0m\u001b[38;5;34m0\u001b[0m (0.00 B)\n"
            ],
            "text/html": [
              "<pre style=\"white-space:pre;overflow-x:auto;line-height:normal;font-family:Menlo,'DejaVu Sans Mono',consolas,'Courier New',monospace\"><span style=\"font-weight: bold\"> Non-trainable params: </span><span style=\"color: #00af00; text-decoration-color: #00af00\">0</span> (0.00 B)\n",
              "</pre>\n"
            ]
          },
          "metadata": {}
        }
      ]
    },
    {
      "cell_type": "code",
      "source": [
        "non_segmented_dir = \"/content/drive/My Drive/VR_MINI_C/face_crop\"\n",
        "segmented_dir = \"/content/drive/My Drive/VR_MINI_C/face_crop_segmentation\""
      ],
      "metadata": {
        "id": "yk1z6phseSGw"
      },
      "execution_count": 45,
      "outputs": []
    },
    {
      "cell_type": "code",
      "source": [
        "save_path1 = '/content/drive/MyDrive/non_segmented_images.npy'\n",
        "save_path2 = '/content/drive/MyDrive/segmented_images.npy'\n"
      ],
      "metadata": {
        "id": "aqUecywaGtcA"
      },
      "execution_count": 67,
      "outputs": []
    },
    {
      "cell_type": "code",
      "source": [
        "data_dir=\"/content/drive/My Drive/VR_MINI_C\""
      ],
      "metadata": {
        "id": "97F2heRkTiUp"
      },
      "execution_count": 47,
      "outputs": []
    },
    {
      "cell_type": "code",
      "source": [
        "non_segmented_images = np.load(save_path1)\n",
        "segmented_images = np.load(save_path2)\n"
      ],
      "metadata": {
        "id": "8598ggNfRZzv"
      },
      "execution_count": null,
      "outputs": []
    },
    {
      "cell_type": "code",
      "source": [],
      "metadata": {
        "id": "vUqoVg9HRZwJ"
      },
      "execution_count": null,
      "outputs": []
    },
    {
      "cell_type": "code",
      "source": [],
      "metadata": {
        "id": "9EZ02y4HRZjP"
      },
      "execution_count": null,
      "outputs": []
    },
    {
      "cell_type": "code",
      "source": [
        "def load_images(image_dir, img_size=(128, 128), save_path=None):\n",
        "    images = []\n",
        "    for img_name in os.listdir(image_dir):\n",
        "      img_path = os.path.join(image_dir, img_name)\n",
        "      img = cv2.imread(img_path)\n",
        "      img = cv2.resize(img, img_size)  # Resize to target size\n",
        "      images.append(img)\n",
        "    images_array = np.array(images)\n",
        "    # If a save path is provided, save the images array\n",
        "    if save_path:\n",
        "        np.save(save_path, images_array)  # Save as .npy file\n",
        "        print(f\"Images saved to {save_path}\")\n",
        "    return images_array"
      ],
      "metadata": {
        "id": "jChqXJDUeSEO"
      },
      "execution_count": 69,
      "outputs": []
    },
    {
      "cell_type": "code",
      "source": [
        "\n",
        "non_segmented_images = load_images(non_segmented_dir,save_path=save_path1)\n"
      ],
      "metadata": {
        "id": "Cu2GlmjieSBi",
        "colab": {
          "base_uri": "https://localhost:8080/"
        },
        "outputId": "7c4425e0-96be-4af2-cfae-bac1e055b532"
      },
      "execution_count": 49,
      "outputs": [
        {
          "output_type": "stream",
          "name": "stdout",
          "text": [
            "Images saved to /content/drive/MyDrive/non_segmented_images.npy\n"
          ]
        }
      ]
    },
    {
      "cell_type": "code",
      "source": [
        "segmented_images = load_images(segmented_dir,save_path=save_path2)"
      ],
      "metadata": {
        "colab": {
          "base_uri": "https://localhost:8080/"
        },
        "id": "nMODIdJRG7Ka",
        "outputId": "408d9139-4966-4163-a9fc-ff94d5f5f50c"
      },
      "execution_count": 50,
      "outputs": [
        {
          "output_type": "stream",
          "name": "stdout",
          "text": [
            "Images saved to /content/drive/MyDrive/segmented_images.npy\n"
          ]
        }
      ]
    },
    {
      "cell_type": "code",
      "source": [
        "segmented_images = segmented_images / 255.0\n",
        "non_segmented_images = non_segmented_images / 255.0\n"
      ],
      "metadata": {
        "id": "n4EswBhieR9d"
      },
      "execution_count": 51,
      "outputs": []
    },
    {
      "cell_type": "code",
      "source": [
        "segmented_images = np.mean(segmented_images, axis=-1,keepdims=True)  # Shape: (N, 128, 128, 1)"
      ],
      "metadata": {
        "id": "aDQngsN9eR6q"
      },
      "execution_count": 52,
      "outputs": []
    },
    {
      "cell_type": "code",
      "source": [
        "len(segmented_images)"
      ],
      "metadata": {
        "colab": {
          "base_uri": "https://localhost:8080/"
        },
        "id": "ddnE6AWCFE91",
        "outputId": "40b730ff-0c12-465f-f4ee-55f6e85ae549"
      },
      "execution_count": 53,
      "outputs": [
        {
          "output_type": "execute_result",
          "data": {
            "text/plain": [
              "4500"
            ]
          },
          "metadata": {},
          "execution_count": 53
        }
      ]
    },
    {
      "cell_type": "code",
      "source": [
        "len(test_images)"
      ],
      "metadata": {
        "colab": {
          "base_uri": "https://localhost:8080/"
        },
        "id": "WyJ6kVMT9bXI",
        "outputId": "791e54dd-0edb-43d3-e81e-df80ded278fa"
      },
      "execution_count": 72,
      "outputs": [
        {
          "output_type": "execute_result",
          "data": {
            "text/plain": [
              "3372"
            ]
          },
          "metadata": {},
          "execution_count": 72
        }
      ]
    },
    {
      "cell_type": "code",
      "source": [
        "test_images[0].max()"
      ],
      "metadata": {
        "colab": {
          "base_uri": "https://localhost:8080/"
        },
        "id": "nfgHxCSU9dZ5",
        "outputId": "1284533a-55fc-463a-bd29-49cd6e8437d7"
      },
      "execution_count": 73,
      "outputs": [
        {
          "output_type": "execute_result",
          "data": {
            "text/plain": [
              "np.float64(1.0)"
            ]
          },
          "metadata": {},
          "execution_count": 73
        }
      ]
    },
    {
      "cell_type": "code",
      "source": [
        "segmented_images[0].max()"
      ],
      "metadata": {
        "colab": {
          "base_uri": "https://localhost:8080/"
        },
        "id": "04MSMhHlFE6Y",
        "outputId": "6e2ffe99-aa04-45aa-ffa4-9c027790eb21"
      },
      "execution_count": 54,
      "outputs": [
        {
          "output_type": "execute_result",
          "data": {
            "text/plain": [
              "np.float64(1.0)"
            ]
          },
          "metadata": {},
          "execution_count": 54
        }
      ]
    },
    {
      "cell_type": "code",
      "source": [
        "len(non_segmented_images)"
      ],
      "metadata": {
        "colab": {
          "base_uri": "https://localhost:8080/"
        },
        "id": "whkKsWuu7aF8",
        "outputId": "64907975-3c11-4369-bbd8-a34331daabbf"
      },
      "execution_count": 55,
      "outputs": [
        {
          "output_type": "execute_result",
          "data": {
            "text/plain": [
              "4500"
            ]
          },
          "metadata": {},
          "execution_count": 55
        }
      ]
    },
    {
      "cell_type": "code",
      "source": [
        "\n",
        "from sklearn.model_selection import train_test_split\n",
        "\n",
        "X_train, X_temp, y_train, y_temp = train_test_split(non_segmented_images, segmented_images, test_size=0.2, random_state=42)\n"
      ],
      "metadata": {
        "id": "CAqEIBpseR33"
      },
      "execution_count": 56,
      "outputs": []
    },
    {
      "cell_type": "code",
      "source": [
        "print(type(X_train), X_train.shape)\n",
        "print(type(y_train), y_train.shape)\n"
      ],
      "metadata": {
        "id": "DKEMnYYKqkI1",
        "colab": {
          "base_uri": "https://localhost:8080/"
        },
        "outputId": "4e5ba257-ab36-4582-aead-4ce6e1fd2e2f"
      },
      "execution_count": 57,
      "outputs": [
        {
          "output_type": "stream",
          "name": "stdout",
          "text": [
            "<class 'numpy.ndarray'> (3600, 128, 128, 3)\n",
            "<class 'numpy.ndarray'> (3600, 128, 128, 1)\n"
          ]
        }
      ]
    },
    {
      "cell_type": "code",
      "source": [
        "history = model.fit(\n",
        "    X_train,  # Input images\n",
        "    y_train,  # Ground truth images\n",
        "    batch_size=32,\n",
        "    epochs=15,\n",
        "    validation_data=(X_temp,y_temp),  # Split some training data for validation\n",
        "\n",
        ")"
      ],
      "metadata": {
        "id": "w1qrMZFHqkLs",
        "colab": {
          "base_uri": "https://localhost:8080/"
        },
        "outputId": "ff9cf8f1-a9d0-4f5d-fb44-2aa9ef239bbb"
      },
      "execution_count": 59,
      "outputs": [
        {
          "output_type": "stream",
          "name": "stdout",
          "text": [
            "Epoch 1/15\n",
            "\u001b[1m113/113\u001b[0m \u001b[32m━━━━━━━━━━━━━━━━━━━━\u001b[0m\u001b[37m\u001b[0m \u001b[1m611s\u001b[0m 5s/step - accuracy: 0.4036 - iou_metric: 0.2780 - loss: 0.5729 - val_accuracy: 0.5237 - val_iou_metric: 0.6312 - val_loss: 0.2281\n",
            "Epoch 2/15\n",
            "\u001b[1m113/113\u001b[0m \u001b[32m━━━━━━━━━━━━━━━━━━━━\u001b[0m\u001b[37m\u001b[0m \u001b[1m610s\u001b[0m 5s/step - accuracy: 0.5437 - iou_metric: 0.6560 - loss: 0.2081 - val_accuracy: 0.5591 - val_iou_metric: 0.6875 - val_loss: 0.1863\n",
            "Epoch 3/15\n",
            "\u001b[1m113/113\u001b[0m \u001b[32m━━━━━━━━━━━━━━━━━━━━\u001b[0m\u001b[37m\u001b[0m \u001b[1m627s\u001b[0m 5s/step - accuracy: 0.5678 - iou_metric: 0.6954 - loss: 0.1798 - val_accuracy: 0.5594 - val_iou_metric: 0.6904 - val_loss: 0.1841\n",
            "Epoch 4/15\n",
            "\u001b[1m113/113\u001b[0m \u001b[32m━━━━━━━━━━━━━━━━━━━━\u001b[0m\u001b[37m\u001b[0m \u001b[1m617s\u001b[0m 5s/step - accuracy: 0.5662 - iou_metric: 0.6976 - loss: 0.1783 - val_accuracy: 0.5701 - val_iou_metric: 0.6970 - val_loss: 0.1790\n",
            "Epoch 5/15\n",
            "\u001b[1m113/113\u001b[0m \u001b[32m━━━━━━━━━━━━━━━━━━━━\u001b[0m\u001b[37m\u001b[0m \u001b[1m624s\u001b[0m 5s/step - accuracy: 0.5686 - iou_metric: 0.6985 - loss: 0.1777 - val_accuracy: 0.5663 - val_iou_metric: 0.6958 - val_loss: 0.1801\n",
            "Epoch 6/15\n",
            "\u001b[1m113/113\u001b[0m \u001b[32m━━━━━━━━━━━━━━━━━━━━\u001b[0m\u001b[37m\u001b[0m \u001b[1m626s\u001b[0m 5s/step - accuracy: 0.5679 - iou_metric: 0.6987 - loss: 0.1776 - val_accuracy: 0.5659 - val_iou_metric: 0.6960 - val_loss: 0.1800\n",
            "Epoch 7/15\n",
            "\u001b[1m113/113\u001b[0m \u001b[32m━━━━━━━━━━━━━━━━━━━━\u001b[0m\u001b[37m\u001b[0m \u001b[1m605s\u001b[0m 5s/step - accuracy: 0.5680 - iou_metric: 0.6981 - loss: 0.1780 - val_accuracy: 0.5744 - val_iou_metric: 0.6960 - val_loss: 0.1798\n",
            "Epoch 8/15\n",
            "\u001b[1m113/113\u001b[0m \u001b[32m━━━━━━━━━━━━━━━━━━━━\u001b[0m\u001b[37m\u001b[0m \u001b[1m603s\u001b[0m 5s/step - accuracy: 0.5686 - iou_metric: 0.7030 - loss: 0.1746 - val_accuracy: 0.5718 - val_iou_metric: 0.6975 - val_loss: 0.1785\n",
            "Epoch 9/15\n",
            "\u001b[1m113/113\u001b[0m \u001b[32m━━━━━━━━━━━━━━━━━━━━\u001b[0m\u001b[37m\u001b[0m \u001b[1m610s\u001b[0m 5s/step - accuracy: 0.5669 - iou_metric: 0.6986 - loss: 0.1776 - val_accuracy: 0.5696 - val_iou_metric: 0.6975 - val_loss: 0.1786\n",
            "Epoch 10/15\n",
            "\u001b[1m113/113\u001b[0m \u001b[32m━━━━━━━━━━━━━━━━━━━━\u001b[0m\u001b[37m\u001b[0m \u001b[1m612s\u001b[0m 5s/step - accuracy: 0.5687 - iou_metric: 0.7033 - loss: 0.1744 - val_accuracy: 0.5672 - val_iou_metric: 0.6972 - val_loss: 0.1789\n",
            "Epoch 11/15\n",
            "\u001b[1m113/113\u001b[0m \u001b[32m━━━━━━━━━━━━━━━━━━━━\u001b[0m\u001b[37m\u001b[0m \u001b[1m623s\u001b[0m 5s/step - accuracy: 0.5689 - iou_metric: 0.7030 - loss: 0.1746 - val_accuracy: 0.5714 - val_iou_metric: 0.6985 - val_loss: 0.1778\n",
            "Epoch 12/15\n",
            "\u001b[1m113/113\u001b[0m \u001b[32m━━━━━━━━━━━━━━━━━━━━\u001b[0m\u001b[37m\u001b[0m \u001b[1m619s\u001b[0m 5s/step - accuracy: 0.5672 - iou_metric: 0.7034 - loss: 0.1743 - val_accuracy: 0.5716 - val_iou_metric: 0.6984 - val_loss: 0.1780\n",
            "Epoch 13/15\n",
            "\u001b[1m113/113\u001b[0m \u001b[32m━━━━━━━━━━━━━━━━━━━━\u001b[0m\u001b[37m\u001b[0m \u001b[1m623s\u001b[0m 5s/step - accuracy: 0.5710 - iou_metric: 0.6999 - loss: 0.1768 - val_accuracy: 0.5683 - val_iou_metric: 0.6972 - val_loss: 0.1789\n",
            "Epoch 14/15\n",
            "\u001b[1m113/113\u001b[0m \u001b[32m━━━━━━━━━━━━━━━━━━━━\u001b[0m\u001b[37m\u001b[0m \u001b[1m612s\u001b[0m 5s/step - accuracy: 0.5702 - iou_metric: 0.7021 - loss: 0.1752 - val_accuracy: 0.5644 - val_iou_metric: 0.6958 - val_loss: 0.1800\n",
            "Epoch 15/15\n",
            "\u001b[1m113/113\u001b[0m \u001b[32m━━━━━━━━━━━━━━━━━━━━\u001b[0m\u001b[37m\u001b[0m \u001b[1m623s\u001b[0m 5s/step - accuracy: 0.5685 - iou_metric: 0.7023 - loss: 0.1751 - val_accuracy: 0.5736 - val_iou_metric: 0.6986 - val_loss: 0.1776\n"
          ]
        }
      ]
    },
    {
      "cell_type": "code",
      "source": [],
      "metadata": {
        "id": "Hv31qG3u9j8o"
      },
      "execution_count": null,
      "outputs": []
    },
    {
      "cell_type": "code",
      "source": [
        "\n",
        "# Paths to your directories\n",
        "segmented_folder = '/content/drive/My Drive/VR_MINI_C/face_crop_segmentation'\n",
        "non_segmented_folder = '/content/drive/My Drive/VR_MINI_C/face_crop'\n",
        "\n",
        "# Get the list of image files in both directories\n",
        "temp_segmented_images = set(os.listdir(segmented_folder))\n",
        "temp_non_segmented_images = set(os.listdir(non_segmented_folder))\n",
        "\n",
        "# Find common image names\n",
        "common_images = temp_segmented_images.intersection(temp_non_segmented_images)\n",
        "\n",
        "# Remove files from the segmented folder that don't have a matching file in the non-segmented folder\n",
        "for file in temp_segmented_images:\n",
        "    if file not in common_images:\n",
        "        file_path = os.path.join(segmented_folder, file)\n",
        "        os.remove(file_path)\n",
        "        print(f'Removed: {file_path}')\n",
        "\n",
        "# Remove files from the non-segmented folder that don't have a matching file in the segmented folder\n",
        "for file in temp_non_segmented_images:\n",
        "    if file not in common_images:\n",
        "        file_path = os.path.join(non_segmented_folder, file)\n",
        "        os.remove(file_path)\n",
        "        print(f'Removed: {file_path}')\n",
        "\n",
        "print(\"Finished removing unmatched files.\")\n"
      ],
      "metadata": {
        "collapsed": true,
        "id": "d8Mspl6k7KBC",
        "colab": {
          "base_uri": "https://localhost:8080/"
        },
        "outputId": "39132518-9b38-4c8a-c946-dfd2cbbaed8f"
      },
      "execution_count": 25,
      "outputs": [
        {
          "output_type": "stream",
          "name": "stdout",
          "text": [
            "Removed: /content/drive/My Drive/VR_MINI_C/face_crop/007492_8.jpg\n",
            "Removed: /content/drive/My Drive/VR_MINI_C/face_crop/007369_1.jpg\n",
            "Removed: /content/drive/My Drive/VR_MINI_C/face_crop/008145_2.jpg\n",
            "Removed: /content/drive/My Drive/VR_MINI_C/face_crop/007946_1.jpg\n",
            "Removed: /content/drive/My Drive/VR_MINI_C/face_crop/007438_1.jpg\n",
            "Removed: /content/drive/My Drive/VR_MINI_C/face_crop/007649_1.jpg\n",
            "Removed: /content/drive/My Drive/VR_MINI_C/face_crop/007593_2.jpg\n",
            "Removed: /content/drive/My Drive/VR_MINI_C/face_crop/007340_1.jpg\n",
            "Removed: /content/drive/My Drive/VR_MINI_C/face_crop/008113_1.jpg\n",
            "Removed: /content/drive/My Drive/VR_MINI_C/face_crop/008187_2.jpg\n",
            "Removed: /content/drive/My Drive/VR_MINI_C/face_crop/008129_1.jpg\n",
            "Removed: /content/drive/My Drive/VR_MINI_C/face_crop/007819_1.jpg\n",
            "Removed: /content/drive/My Drive/VR_MINI_C/face_crop/007837_1.jpg\n",
            "Removed: /content/drive/My Drive/VR_MINI_C/face_crop/007672_2.jpg\n",
            "Removed: /content/drive/My Drive/VR_MINI_C/face_crop/007464_1.jpg\n",
            "Removed: /content/drive/My Drive/VR_MINI_C/face_crop/007314_6.jpg\n",
            "Removed: /content/drive/My Drive/VR_MINI_C/face_crop/007497_1.jpg\n",
            "Removed: /content/drive/My Drive/VR_MINI_C/face_crop/007670_6.jpg\n",
            "Removed: /content/drive/My Drive/VR_MINI_C/face_crop/007437_1.jpg\n",
            "Removed: /content/drive/My Drive/VR_MINI_C/face_crop/007676_1.jpg\n",
            "Removed: /content/drive/My Drive/VR_MINI_C/face_crop/007670_7.jpg\n",
            "Removed: /content/drive/My Drive/VR_MINI_C/face_crop/007657_1.jpg\n",
            "Removed: /content/drive/My Drive/VR_MINI_C/face_crop/007770_4.jpg\n",
            "Removed: /content/drive/My Drive/VR_MINI_C/face_crop/007924_1.jpg\n",
            "Removed: /content/drive/My Drive/VR_MINI_C/face_crop/007444_1.jpg\n",
            "Removed: /content/drive/My Drive/VR_MINI_C/face_crop/007492_2.jpg\n",
            "Removed: /content/drive/My Drive/VR_MINI_C/face_crop/008102_1.jpg\n",
            "Removed: /content/drive/My Drive/VR_MINI_C/face_crop/008148_1.jpg\n",
            "Removed: /content/drive/My Drive/VR_MINI_C/face_crop/007739_1.jpg\n",
            "Removed: /content/drive/My Drive/VR_MINI_C/face_crop/008126_1.jpg\n",
            "Removed: /content/drive/My Drive/VR_MINI_C/face_crop/007600_1.jpg\n",
            "Removed: /content/drive/My Drive/VR_MINI_C/face_crop/007375_1.jpg\n",
            "Removed: /content/drive/My Drive/VR_MINI_C/face_crop/008103_1.jpg\n",
            "Removed: /content/drive/My Drive/VR_MINI_C/face_crop/007670_8.jpg\n",
            "Removed: /content/drive/My Drive/VR_MINI_C/face_crop/007570_1.jpg\n",
            "Removed: /content/drive/My Drive/VR_MINI_C/face_crop/007658_1.jpg\n",
            "Removed: /content/drive/My Drive/VR_MINI_C/face_crop/008001_1.jpg\n",
            "Removed: /content/drive/My Drive/VR_MINI_C/face_crop/007834_1.jpg\n",
            "Removed: /content/drive/My Drive/VR_MINI_C/face_crop/007542_1.jpg\n",
            "Removed: /content/drive/My Drive/VR_MINI_C/face_crop/007484_1.jpg\n",
            "Removed: /content/drive/My Drive/VR_MINI_C/face_crop/008219_1.jpg\n",
            "Removed: /content/drive/My Drive/VR_MINI_C/face_crop/007741_2.jpg\n",
            "Removed: /content/drive/My Drive/VR_MINI_C/face_crop/007646_3.jpg\n",
            "Removed: /content/drive/My Drive/VR_MINI_C/face_crop/007482_1.jpg\n",
            "Removed: /content/drive/My Drive/VR_MINI_C/face_crop/007478_1.jpg\n",
            "Removed: /content/drive/My Drive/VR_MINI_C/face_crop/007856_1.jpg\n",
            "Removed: /content/drive/My Drive/VR_MINI_C/face_crop/007412_1.jpg\n",
            "Removed: /content/drive/My Drive/VR_MINI_C/face_crop/007994_2.jpg\n",
            "Removed: /content/drive/My Drive/VR_MINI_C/face_crop/007903_1.jpg\n",
            "Removed: /content/drive/My Drive/VR_MINI_C/face_crop/007350_1.jpg\n",
            "Removed: /content/drive/My Drive/VR_MINI_C/face_crop/007690_1.jpg\n",
            "Removed: /content/drive/My Drive/VR_MINI_C/face_crop/007836_1.jpg\n",
            "Removed: /content/drive/My Drive/VR_MINI_C/face_crop/007380_2.jpg\n",
            "Removed: /content/drive/My Drive/VR_MINI_C/face_crop/007550_1.jpg\n",
            "Removed: /content/drive/My Drive/VR_MINI_C/face_crop/007593_3.jpg\n",
            "Removed: /content/drive/My Drive/VR_MINI_C/face_crop/007825_1.jpg\n",
            "Removed: /content/drive/My Drive/VR_MINI_C/face_crop/007568_4.jpg\n",
            "Removed: /content/drive/My Drive/VR_MINI_C/face_crop/008090_1.jpg\n",
            "Removed: /content/drive/My Drive/VR_MINI_C/face_crop/007805_1.jpg\n",
            "Removed: /content/drive/My Drive/VR_MINI_C/face_crop/007979_1.jpg\n",
            "Removed: /content/drive/My Drive/VR_MINI_C/face_crop/007509_1.jpg\n",
            "Removed: /content/drive/My Drive/VR_MINI_C/face_crop/007373_1.jpg\n",
            "Removed: /content/drive/My Drive/VR_MINI_C/face_crop/008179_1.jpg\n",
            "Removed: /content/drive/My Drive/VR_MINI_C/face_crop/007522_1.jpg\n",
            "Removed: /content/drive/My Drive/VR_MINI_C/face_crop/007951_1.jpg\n",
            "Removed: /content/drive/My Drive/VR_MINI_C/face_crop/007345_1.jpg\n",
            "Removed: /content/drive/My Drive/VR_MINI_C/face_crop/008096_1.jpg\n",
            "Removed: /content/drive/My Drive/VR_MINI_C/face_crop/007430_1.jpg\n",
            "Removed: /content/drive/My Drive/VR_MINI_C/face_crop/007898_1.jpg\n",
            "Removed: /content/drive/My Drive/VR_MINI_C/face_crop/007766_1.jpg\n",
            "Removed: /content/drive/My Drive/VR_MINI_C/face_crop/007371_1.jpg\n",
            "Removed: /content/drive/My Drive/VR_MINI_C/face_crop/007666_1.jpg\n",
            "Removed: /content/drive/My Drive/VR_MINI_C/face_crop/007689_2.jpg\n",
            "Removed: /content/drive/My Drive/VR_MINI_C/face_crop/007685_2.jpg\n",
            "Removed: /content/drive/My Drive/VR_MINI_C/face_crop/007954_1.jpg\n",
            "Removed: /content/drive/My Drive/VR_MINI_C/face_crop/007835_1.jpg\n",
            "Removed: /content/drive/My Drive/VR_MINI_C/face_crop/007740_2.jpg\n",
            "Removed: /content/drive/My Drive/VR_MINI_C/face_crop/007487_2.jpg\n",
            "Removed: /content/drive/My Drive/VR_MINI_C/face_crop/007710_1.jpg\n",
            "Removed: /content/drive/My Drive/VR_MINI_C/face_crop/007398_1.jpg\n",
            "Removed: /content/drive/My Drive/VR_MINI_C/face_crop/007473_1.jpg\n",
            "Removed: /content/drive/My Drive/VR_MINI_C/face_crop/007442_2.jpg\n",
            "Removed: /content/drive/My Drive/VR_MINI_C/face_crop/007995_2.jpg\n",
            "Removed: /content/drive/My Drive/VR_MINI_C/face_crop/007521_1.jpg\n",
            "Removed: /content/drive/My Drive/VR_MINI_C/face_crop/007500_7.jpg\n",
            "Removed: /content/drive/My Drive/VR_MINI_C/face_crop/007789_1.jpg\n",
            "Removed: /content/drive/My Drive/VR_MINI_C/face_crop/007782_1.jpg\n",
            "Removed: /content/drive/My Drive/VR_MINI_C/face_crop/008041_1.jpg\n",
            "Removed: /content/drive/My Drive/VR_MINI_C/face_crop/007404_1.jpg\n",
            "Removed: /content/drive/My Drive/VR_MINI_C/face_crop/007746_1.jpg\n",
            "Removed: /content/drive/My Drive/VR_MINI_C/face_crop/008108_1.jpg\n",
            "Removed: /content/drive/My Drive/VR_MINI_C/face_crop/007798_1.jpg\n",
            "Removed: /content/drive/My Drive/VR_MINI_C/face_crop/007538_9.jpg\n",
            "Removed: /content/drive/My Drive/VR_MINI_C/face_crop/008225_13.jpg\n",
            "Removed: /content/drive/My Drive/VR_MINI_C/face_crop/007492_9.jpg\n",
            "Removed: /content/drive/My Drive/VR_MINI_C/face_crop/007504_1.jpg\n",
            "Removed: /content/drive/My Drive/VR_MINI_C/face_crop/007958_1.jpg\n",
            "Removed: /content/drive/My Drive/VR_MINI_C/face_crop/007391_1.jpg\n",
            "Removed: /content/drive/My Drive/VR_MINI_C/face_crop/007653_1.jpg\n",
            "Removed: /content/drive/My Drive/VR_MINI_C/face_crop/008205_1.jpg\n",
            "Removed: /content/drive/My Drive/VR_MINI_C/face_crop/007703_1.jpg\n",
            "Removed: /content/drive/My Drive/VR_MINI_C/face_crop/007660_2.jpg\n",
            "Removed: /content/drive/My Drive/VR_MINI_C/face_crop/007470_1.jpg\n",
            "Removed: /content/drive/My Drive/VR_MINI_C/face_crop/000601_1.jpg\n",
            "Removed: /content/drive/My Drive/VR_MINI_C/face_crop/007413_1.jpg\n",
            "Removed: /content/drive/My Drive/VR_MINI_C/face_crop/007572_13.jpg\n",
            "Removed: /content/drive/My Drive/VR_MINI_C/face_crop/008181_1.jpg\n",
            "Removed: /content/drive/My Drive/VR_MINI_C/face_crop/007879_1.jpg\n",
            "Removed: /content/drive/My Drive/VR_MINI_C/face_crop/007664_2.jpg\n",
            "Removed: /content/drive/My Drive/VR_MINI_C/face_crop/008150_1.jpg\n",
            "Removed: /content/drive/My Drive/VR_MINI_C/face_crop/007830_1.jpg\n",
            "Removed: /content/drive/My Drive/VR_MINI_C/face_crop/007670_2.jpg\n",
            "Removed: /content/drive/My Drive/VR_MINI_C/face_crop/008039_1.jpg\n",
            "Removed: /content/drive/My Drive/VR_MINI_C/face_crop/007329_1.jpg\n",
            "Removed: /content/drive/My Drive/VR_MINI_C/face_crop/007418_1.jpg\n",
            "Removed: /content/drive/My Drive/VR_MINI_C/face_crop/007640_1.jpg\n",
            "Removed: /content/drive/My Drive/VR_MINI_C/face_crop/007907_1.jpg\n",
            "Removed: /content/drive/My Drive/VR_MINI_C/face_crop/007366_3.jpg\n",
            "Removed: /content/drive/My Drive/VR_MINI_C/face_crop/007670_16.jpg\n",
            "Removed: /content/drive/My Drive/VR_MINI_C/face_crop/007538_2.jpg\n",
            "Removed: /content/drive/My Drive/VR_MINI_C/face_crop/007887_1.jpg\n",
            "Removed: /content/drive/My Drive/VR_MINI_C/face_crop/008116_1.jpg\n",
            "Removed: /content/drive/My Drive/VR_MINI_C/face_crop/007505_3.jpg\n",
            "Removed: /content/drive/My Drive/VR_MINI_C/face_crop/007606_2.jpg\n",
            "Removed: /content/drive/My Drive/VR_MINI_C/face_crop/008048_1.jpg\n",
            "Removed: /content/drive/My Drive/VR_MINI_C/face_crop/008055_1.jpg\n",
            "Removed: /content/drive/My Drive/VR_MINI_C/face_crop/007421_1.jpg\n",
            "Removed: /content/drive/My Drive/VR_MINI_C/face_crop/007492_10.jpg\n",
            "Removed: /content/drive/My Drive/VR_MINI_C/face_crop/008141_1.jpg\n",
            "Removed: /content/drive/My Drive/VR_MINI_C/face_crop/008065_2.jpg\n",
            "Removed: /content/drive/My Drive/VR_MINI_C/face_crop/007726_1.jpg\n",
            "Removed: /content/drive/My Drive/VR_MINI_C/face_crop/007670_22.jpg\n",
            "Removed: /content/drive/My Drive/VR_MINI_C/face_crop/008138_1.jpg\n",
            "Removed: /content/drive/My Drive/VR_MINI_C/face_crop/007541_1.jpg\n",
            "Removed: /content/drive/My Drive/VR_MINI_C/face_crop/007589_1.jpg\n",
            "Removed: /content/drive/My Drive/VR_MINI_C/face_crop/007450_1.jpg\n",
            "Removed: /content/drive/My Drive/VR_MINI_C/face_crop/007442_3.jpg\n",
            "Removed: /content/drive/My Drive/VR_MINI_C/face_crop/007376_1.jpg\n",
            "Removed: /content/drive/My Drive/VR_MINI_C/face_crop/007670_3.jpg\n",
            "Removed: /content/drive/My Drive/VR_MINI_C/face_crop/008146_2.jpg\n",
            "Removed: /content/drive/My Drive/VR_MINI_C/face_crop/008085_1.jpg\n",
            "Removed: /content/drive/My Drive/VR_MINI_C/face_crop/007933_1.jpg\n",
            "Removed: /content/drive/My Drive/VR_MINI_C/face_crop/008049_1.jpg\n",
            "Removed: /content/drive/My Drive/VR_MINI_C/face_crop/007964_1.jpg\n",
            "Removed: /content/drive/My Drive/VR_MINI_C/face_crop/008212_2.jpg\n",
            "Removed: /content/drive/My Drive/VR_MINI_C/face_crop/007427_1.jpg\n",
            "Removed: /content/drive/My Drive/VR_MINI_C/face_crop/008070_2.jpg\n",
            "Removed: /content/drive/My Drive/VR_MINI_C/face_crop/008195_1.jpg\n",
            "Removed: /content/drive/My Drive/VR_MINI_C/face_crop/007648_1.jpg\n",
            "Removed: /content/drive/My Drive/VR_MINI_C/face_crop/007568_1.jpg\n",
            "Removed: /content/drive/My Drive/VR_MINI_C/face_crop/008061_1.jpg\n",
            "Removed: /content/drive/My Drive/VR_MINI_C/face_crop/007876_3.jpg\n",
            "Removed: /content/drive/My Drive/VR_MINI_C/face_crop/008127_1.jpg\n",
            "Removed: /content/drive/My Drive/VR_MINI_C/face_crop/008101_1.jpg\n",
            "Removed: /content/drive/My Drive/VR_MINI_C/face_crop/008189_2.jpg\n",
            "Removed: /content/drive/My Drive/VR_MINI_C/face_crop/007751_1.jpg\n",
            "Removed: /content/drive/My Drive/VR_MINI_C/face_crop/007536_1.jpg\n",
            "Removed: /content/drive/My Drive/VR_MINI_C/face_crop/007908_1.jpg\n",
            "Removed: /content/drive/My Drive/VR_MINI_C/face_crop/007994_1.jpg\n",
            "Removed: /content/drive/My Drive/VR_MINI_C/face_crop/007765_2.jpg\n",
            "Removed: /content/drive/My Drive/VR_MINI_C/face_crop/007717_1.jpg\n",
            "Removed: /content/drive/My Drive/VR_MINI_C/face_crop/007651_1.jpg\n",
            "Removed: /content/drive/My Drive/VR_MINI_C/face_crop/008098_1.jpg\n",
            "Removed: /content/drive/My Drive/VR_MINI_C/face_crop/008057_1.jpg\n",
            "Removed: /content/drive/My Drive/VR_MINI_C/face_crop/007368_1.jpg\n",
            "Removed: /content/drive/My Drive/VR_MINI_C/face_crop/008130_1.jpg\n",
            "Removed: /content/drive/My Drive/VR_MINI_C/face_crop/007455_3.jpg\n",
            "Removed: /content/drive/My Drive/VR_MINI_C/face_crop/007813_1.jpg\n",
            "Removed: /content/drive/My Drive/VR_MINI_C/face_crop/008052_1.jpg\n",
            "Removed: /content/drive/My Drive/VR_MINI_C/face_crop/007491_1.jpg\n",
            "Removed: /content/drive/My Drive/VR_MINI_C/face_crop/007949_1.jpg\n",
            "Removed: /content/drive/My Drive/VR_MINI_C/face_crop/008173_1.jpg\n",
            "Removed: /content/drive/My Drive/VR_MINI_C/face_crop/008086_1.jpg\n",
            "Removed: /content/drive/My Drive/VR_MINI_C/face_crop/007405_1.jpg\n",
            "Removed: /content/drive/My Drive/VR_MINI_C/face_crop/007832_1.jpg\n",
            "Removed: /content/drive/My Drive/VR_MINI_C/face_crop/007473_2.jpg\n",
            "Removed: /content/drive/My Drive/VR_MINI_C/face_crop/008030_1.jpg\n",
            "Removed: /content/drive/My Drive/VR_MINI_C/face_crop/008033_1.jpg\n",
            "Removed: /content/drive/My Drive/VR_MINI_C/face_crop/008012_1.jpg\n",
            "Removed: /content/drive/My Drive/VR_MINI_C/face_crop/007542_2.jpg\n",
            "Removed: /content/drive/My Drive/VR_MINI_C/face_crop/008169_1.jpg\n",
            "Removed: /content/drive/My Drive/VR_MINI_C/face_crop/008004_1.jpg\n",
            "Removed: /content/drive/My Drive/VR_MINI_C/face_crop/007370_1.jpg\n",
            "Removed: /content/drive/My Drive/VR_MINI_C/face_crop/008225_16.jpg\n",
            "Removed: /content/drive/My Drive/VR_MINI_C/face_crop/007540_1.jpg\n",
            "Removed: /content/drive/My Drive/VR_MINI_C/face_crop/008076_1.jpg\n",
            "Removed: /content/drive/My Drive/VR_MINI_C/face_crop/007385_1.jpg\n",
            "Removed: /content/drive/My Drive/VR_MINI_C/face_crop/007709_1.jpg\n",
            "Removed: /content/drive/My Drive/VR_MINI_C/face_crop/007961_1.jpg\n",
            "Removed: /content/drive/My Drive/VR_MINI_C/face_crop/008036_1.jpg\n",
            "Removed: /content/drive/My Drive/VR_MINI_C/face_crop/008166_1.jpg\n",
            "Removed: /content/drive/My Drive/VR_MINI_C/face_crop/007634_1.jpg\n",
            "Removed: /content/drive/My Drive/VR_MINI_C/face_crop/007339_2.jpg\n",
            "Removed: /content/drive/My Drive/VR_MINI_C/face_crop/007869_1.jpg\n",
            "Removed: /content/drive/My Drive/VR_MINI_C/face_crop/008109_1.jpg\n",
            "Removed: /content/drive/My Drive/VR_MINI_C/face_crop/007419_1.jpg\n",
            "Removed: /content/drive/My Drive/VR_MINI_C/face_crop/008018_1.jpg\n",
            "Removed: /content/drive/My Drive/VR_MINI_C/face_crop/007822_1.jpg\n",
            "Removed: /content/drive/My Drive/VR_MINI_C/face_crop/007342_2.jpg\n",
            "Removed: /content/drive/My Drive/VR_MINI_C/face_crop/008134_1.jpg\n",
            "Removed: /content/drive/My Drive/VR_MINI_C/face_crop/007457_1.jpg\n",
            "Removed: /content/drive/My Drive/VR_MINI_C/face_crop/007559_1.jpg\n",
            "Removed: /content/drive/My Drive/VR_MINI_C/face_crop/007770_1.jpg\n",
            "Removed: /content/drive/My Drive/VR_MINI_C/face_crop/007323_2.jpg\n",
            "Removed: /content/drive/My Drive/VR_MINI_C/face_crop/008201_1.jpg\n",
            "Removed: /content/drive/My Drive/VR_MINI_C/face_crop/007662_2.jpg\n",
            "Removed: /content/drive/My Drive/VR_MINI_C/face_crop/007642_1.jpg\n",
            "Removed: /content/drive/My Drive/VR_MINI_C/face_crop/007568_3.jpg\n",
            "Removed: /content/drive/My Drive/VR_MINI_C/face_crop/008007_1.jpg\n",
            "Removed: /content/drive/My Drive/VR_MINI_C/face_crop/007733_1.jpg\n",
            "Removed: /content/drive/My Drive/VR_MINI_C/face_crop/007794_3.jpg\n",
            "Removed: /content/drive/My Drive/VR_MINI_C/face_crop/007569_2.jpg\n",
            "Removed: /content/drive/My Drive/VR_MINI_C/face_crop/007476_3.jpg\n",
            "Removed: /content/drive/My Drive/VR_MINI_C/face_crop/008174_1.jpg\n",
            "Removed: /content/drive/My Drive/VR_MINI_C/face_crop/008065_1.jpg\n",
            "Removed: /content/drive/My Drive/VR_MINI_C/face_crop/007718_1.jpg\n",
            "Removed: /content/drive/My Drive/VR_MINI_C/face_crop/007678_1.jpg\n",
            "Removed: /content/drive/My Drive/VR_MINI_C/face_crop/007886_1.jpg\n",
            "Removed: /content/drive/My Drive/VR_MINI_C/face_crop/007346_1.jpg\n",
            "Removed: /content/drive/My Drive/VR_MINI_C/face_crop/007969_1.jpg\n",
            "Removed: /content/drive/My Drive/VR_MINI_C/face_crop/008142_1.jpg\n",
            "Removed: /content/drive/My Drive/VR_MINI_C/face_crop/007343_1.jpg\n",
            "Removed: /content/drive/My Drive/VR_MINI_C/face_crop/008225_12.jpg\n",
            "Removed: /content/drive/My Drive/VR_MINI_C/face_crop/007494_1.jpg\n",
            "Removed: /content/drive/My Drive/VR_MINI_C/face_crop/008224_2.jpg\n",
            "Removed: /content/drive/My Drive/VR_MINI_C/face_crop/008072_2.jpg\n",
            "Removed: /content/drive/My Drive/VR_MINI_C/face_crop/007748_1.jpg\n",
            "Removed: /content/drive/My Drive/VR_MINI_C/face_crop/008184_3.jpg\n",
            "Removed: /content/drive/My Drive/VR_MINI_C/face_crop/007578_7.jpg\n",
            "Removed: /content/drive/My Drive/VR_MINI_C/face_crop/008078_1.jpg\n",
            "Removed: /content/drive/My Drive/VR_MINI_C/face_crop/008156_1.jpg\n",
            "Removed: /content/drive/My Drive/VR_MINI_C/face_crop/007578_4.jpg\n",
            "Removed: /content/drive/My Drive/VR_MINI_C/face_crop/007720_1.jpg\n",
            "Removed: /content/drive/My Drive/VR_MINI_C/face_crop/007315_1.jpg\n",
            "Removed: /content/drive/My Drive/VR_MINI_C/face_crop/007615_1.jpg\n",
            "Removed: /content/drive/My Drive/VR_MINI_C/face_crop/007496_1.jpg\n",
            "Removed: /content/drive/My Drive/VR_MINI_C/face_crop/007499_1.jpg\n",
            "Removed: /content/drive/My Drive/VR_MINI_C/face_crop/007516_1.jpg\n",
            "Removed: /content/drive/My Drive/VR_MINI_C/face_crop/007324_1.jpg\n",
            "Removed: /content/drive/My Drive/VR_MINI_C/face_crop/007794_6.jpg\n",
            "Removed: /content/drive/My Drive/VR_MINI_C/face_crop/007959_2.jpg\n",
            "Removed: /content/drive/My Drive/VR_MINI_C/face_crop/008180_1.jpg\n",
            "Removed: /content/drive/My Drive/VR_MINI_C/face_crop/007808_1.jpg\n",
            "Removed: /content/drive/My Drive/VR_MINI_C/face_crop/007725_1.jpg\n",
            "Removed: /content/drive/My Drive/VR_MINI_C/face_crop/007812_1.jpg\n",
            "Removed: /content/drive/My Drive/VR_MINI_C/face_crop/007458_1.jpg\n",
            "Removed: /content/drive/My Drive/VR_MINI_C/face_crop/007387_1.jpg\n",
            "Removed: /content/drive/My Drive/VR_MINI_C/face_crop/008082_1.jpg\n",
            "Removed: /content/drive/My Drive/VR_MINI_C/face_crop/007815_1.jpg\n",
            "Removed: /content/drive/My Drive/VR_MINI_C/face_crop/007786_1.jpg\n",
            "Removed: /content/drive/My Drive/VR_MINI_C/face_crop/007959_1.jpg\n",
            "Removed: /content/drive/My Drive/VR_MINI_C/face_crop/007673_1.jpg\n",
            "Removed: /content/drive/My Drive/VR_MINI_C/face_crop/007691_1.jpg\n",
            "Removed: /content/drive/My Drive/VR_MINI_C/face_crop/007761_1.jpg\n",
            "Removed: /content/drive/My Drive/VR_MINI_C/face_crop/007647_1.jpg\n",
            "Removed: /content/drive/My Drive/VR_MINI_C/face_crop/007922_1.jpg\n",
            "Removed: /content/drive/My Drive/VR_MINI_C/face_crop/007794_5.jpg\n",
            "Removed: /content/drive/My Drive/VR_MINI_C/face_crop/007806_1.jpg\n",
            "Removed: /content/drive/My Drive/VR_MINI_C/face_crop/007664_8.jpg\n",
            "Removed: /content/drive/My Drive/VR_MINI_C/face_crop/007963_1.jpg\n",
            "Removed: /content/drive/My Drive/VR_MINI_C/face_crop/007664_1.jpg\n",
            "Removed: /content/drive/My Drive/VR_MINI_C/face_crop/007500_1.jpg\n",
            "Removed: /content/drive/My Drive/VR_MINI_C/face_crop/007492_7.jpg\n",
            "Removed: /content/drive/My Drive/VR_MINI_C/face_crop/007473_4.jpg\n",
            "Removed: /content/drive/My Drive/VR_MINI_C/face_crop/007572_12.jpg\n",
            "Removed: /content/drive/My Drive/VR_MINI_C/face_crop/007558_1.jpg\n",
            "Removed: /content/drive/My Drive/VR_MINI_C/face_crop/007384_2.jpg\n",
            "Removed: /content/drive/My Drive/VR_MINI_C/face_crop/007646_4.jpg\n",
            "Removed: /content/drive/My Drive/VR_MINI_C/face_crop/007670_15.jpg\n",
            "Removed: /content/drive/My Drive/VR_MINI_C/face_crop/007380_6.jpg\n",
            "Removed: /content/drive/My Drive/VR_MINI_C/face_crop/007500_4.jpg\n",
            "Removed: /content/drive/My Drive/VR_MINI_C/face_crop/007770_2.jpg\n",
            "Removed: /content/drive/My Drive/VR_MINI_C/face_crop/007890_1.jpg\n",
            "Removed: /content/drive/My Drive/VR_MINI_C/face_crop/008115_1.jpg\n",
            "Removed: /content/drive/My Drive/VR_MINI_C/face_crop/007518_2.jpg\n",
            "Removed: /content/drive/My Drive/VR_MINI_C/face_crop/007646_2.jpg\n",
            "Removed: /content/drive/My Drive/VR_MINI_C/face_crop/007524_1.jpg\n",
            "Removed: /content/drive/My Drive/VR_MINI_C/face_crop/007685_3.jpg\n",
            "Removed: /content/drive/My Drive/VR_MINI_C/face_crop/007884_1.jpg\n",
            "Removed: /content/drive/My Drive/VR_MINI_C/face_crop/007664_6.jpg\n",
            "Removed: /content/drive/My Drive/VR_MINI_C/face_crop/007638_1.jpg\n",
            "Removed: /content/drive/My Drive/VR_MINI_C/face_crop/007581_2.jpg\n",
            "Removed: /content/drive/My Drive/VR_MINI_C/face_crop/007581_1.jpg\n",
            "Removed: /content/drive/My Drive/VR_MINI_C/face_crop/007847_1.jpg\n",
            "Removed: /content/drive/My Drive/VR_MINI_C/face_crop/007960_1.jpg\n",
            "Removed: /content/drive/My Drive/VR_MINI_C/face_crop/008184_2.jpg\n",
            "Removed: /content/drive/My Drive/VR_MINI_C/face_crop/007861_1.jpg\n",
            "Removed: /content/drive/My Drive/VR_MINI_C/face_crop/008032_1.jpg\n",
            "Removed: /content/drive/My Drive/VR_MINI_C/face_crop/007636_1.jpg\n",
            "Removed: /content/drive/My Drive/VR_MINI_C/face_crop/007312_1.jpg\n",
            "Removed: /content/drive/My Drive/VR_MINI_C/face_crop/007568_5.jpg\n",
            "Removed: /content/drive/My Drive/VR_MINI_C/face_crop/007360_2.jpg\n",
            "Removed: /content/drive/My Drive/VR_MINI_C/face_crop/007498_1.jpg\n",
            "Removed: /content/drive/My Drive/VR_MINI_C/face_crop/007602_1.jpg\n",
            "Removed: /content/drive/My Drive/VR_MINI_C/face_crop/007641_1.jpg\n",
            "Removed: /content/drive/My Drive/VR_MINI_C/face_crop/007686_2.jpg\n",
            "Removed: /content/drive/My Drive/VR_MINI_C/face_crop/008153_1.jpg\n",
            "Removed: /content/drive/My Drive/VR_MINI_C/face_crop/007583_1.jpg\n",
            "Removed: /content/drive/My Drive/VR_MINI_C/face_crop/007326_1.jpg\n",
            "Removed: /content/drive/My Drive/VR_MINI_C/face_crop/008010_1.jpg\n",
            "Removed: /content/drive/My Drive/VR_MINI_C/face_crop/007477_1.jpg\n",
            "Removed: /content/drive/My Drive/VR_MINI_C/face_crop/008192_1.jpg\n",
            "Removed: /content/drive/My Drive/VR_MINI_C/face_crop/007800_1.jpg\n",
            "Removed: /content/drive/My Drive/VR_MINI_C/face_crop/007351_2.jpg\n",
            "Removed: /content/drive/My Drive/VR_MINI_C/face_crop/008013_1.jpg\n",
            "Removed: /content/drive/My Drive/VR_MINI_C/face_crop/007578_1.jpg\n",
            "Removed: /content/drive/My Drive/VR_MINI_C/face_crop/007998_1.jpg\n",
            "Removed: /content/drive/My Drive/VR_MINI_C/face_crop/007855_1.jpg\n",
            "Removed: /content/drive/My Drive/VR_MINI_C/face_crop/007787_1.jpg\n",
            "Removed: /content/drive/My Drive/VR_MINI_C/face_crop/007457_4.jpg\n",
            "Removed: /content/drive/My Drive/VR_MINI_C/face_crop/007971_1.jpg\n",
            "Removed: /content/drive/My Drive/VR_MINI_C/face_crop/007386_1.jpg\n",
            "Removed: /content/drive/My Drive/VR_MINI_C/face_crop/007587_1.jpg\n",
            "Removed: /content/drive/My Drive/VR_MINI_C/face_crop/007397_1.jpg\n",
            "Removed: /content/drive/My Drive/VR_MINI_C/face_crop/007499_2.jpg\n",
            "Removed: /content/drive/My Drive/VR_MINI_C/face_crop/007677_1.jpg\n",
            "Removed: /content/drive/My Drive/VR_MINI_C/face_crop/007683_1.jpg\n",
            "Removed: /content/drive/My Drive/VR_MINI_C/face_crop/007546_1.jpg\n",
            "Removed: /content/drive/My Drive/VR_MINI_C/face_crop/007943_1.jpg\n",
            "Removed: /content/drive/My Drive/VR_MINI_C/face_crop/007925_1.jpg\n",
            "Removed: /content/drive/My Drive/VR_MINI_C/face_crop/008011_1.jpg\n",
            "Removed: /content/drive/My Drive/VR_MINI_C/face_crop/008212_1.jpg\n",
            "Removed: /content/drive/My Drive/VR_MINI_C/face_crop/008006_1.jpg\n",
            "Removed: /content/drive/My Drive/VR_MINI_C/face_crop/007712_1.jpg\n",
            "Removed: /content/drive/My Drive/VR_MINI_C/face_crop/007983_1.jpg\n",
            "Removed: /content/drive/My Drive/VR_MINI_C/face_crop/007383_1.jpg\n",
            "Removed: /content/drive/My Drive/VR_MINI_C/face_crop/008031_1.jpg\n",
            "Removed: /content/drive/My Drive/VR_MINI_C/face_crop/008207_1.jpg\n",
            "Removed: /content/drive/My Drive/VR_MINI_C/face_crop/007557_1.jpg\n",
            "Removed: /content/drive/My Drive/VR_MINI_C/face_crop/007416_2.jpg\n",
            "Removed: /content/drive/My Drive/VR_MINI_C/face_crop/007354_1.jpg\n",
            "Removed: /content/drive/My Drive/VR_MINI_C/face_crop/008183_1.jpg\n",
            "Removed: /content/drive/My Drive/VR_MINI_C/face_crop/007760_1.jpg\n",
            "Removed: /content/drive/My Drive/VR_MINI_C/face_crop/007396_2.jpg\n",
            "Removed: /content/drive/My Drive/VR_MINI_C/face_crop/007457_9.jpg\n",
            "Removed: /content/drive/My Drive/VR_MINI_C/face_crop/007893_1.jpg\n",
            "Removed: /content/drive/My Drive/VR_MINI_C/face_crop/007457_6.jpg\n",
            "Removed: /content/drive/My Drive/VR_MINI_C/face_crop/007434_1.jpg\n",
            "Removed: /content/drive/My Drive/VR_MINI_C/face_crop/007425_1.jpg\n",
            "Removed: /content/drive/My Drive/VR_MINI_C/face_crop/007429_1.jpg\n",
            "Removed: /content/drive/My Drive/VR_MINI_C/face_crop/007768_1.jpg\n",
            "Removed: /content/drive/My Drive/VR_MINI_C/face_crop/007393_1.jpg\n",
            "Removed: /content/drive/My Drive/VR_MINI_C/face_crop/007538_6.jpg\n",
            "Removed: /content/drive/My Drive/VR_MINI_C/face_crop/007420_1.jpg\n",
            "Removed: /content/drive/My Drive/VR_MINI_C/face_crop/007627_1.jpg\n",
            "Removed: /content/drive/My Drive/VR_MINI_C/face_crop/008070_3.jpg\n",
            "Removed: /content/drive/My Drive/VR_MINI_C/face_crop/007483_2.jpg\n",
            "Removed: /content/drive/My Drive/VR_MINI_C/face_crop/007762_3.jpg\n",
            "Removed: /content/drive/My Drive/VR_MINI_C/face_crop/007492_3.jpg\n",
            "Removed: /content/drive/My Drive/VR_MINI_C/face_crop/007569_1.jpg\n",
            "Removed: /content/drive/My Drive/VR_MINI_C/face_crop/007687_2.jpg\n",
            "Removed: /content/drive/My Drive/VR_MINI_C/face_crop/007670_10.jpg\n",
            "Removed: /content/drive/My Drive/VR_MINI_C/face_crop/007335_1.jpg\n",
            "Removed: /content/drive/My Drive/VR_MINI_C/face_crop/007438_4.jpg\n",
            "Removed: /content/drive/My Drive/VR_MINI_C/face_crop/007538_4.jpg\n",
            "Removed: /content/drive/My Drive/VR_MINI_C/face_crop/007747_1.jpg\n",
            "Removed: /content/drive/My Drive/VR_MINI_C/face_crop/007670_17.jpg\n",
            "Removed: /content/drive/My Drive/VR_MINI_C/face_crop/007572_9.jpg\n",
            "Removed: /content/drive/My Drive/VR_MINI_C/face_crop/007571_1.jpg\n",
            "Removed: /content/drive/My Drive/VR_MINI_C/face_crop/007317_1.jpg\n",
            "Removed: /content/drive/My Drive/VR_MINI_C/face_crop/008225_9.jpg\n",
            "Removed: /content/drive/My Drive/VR_MINI_C/face_crop/007695_1.jpg\n",
            "Removed: /content/drive/My Drive/VR_MINI_C/face_crop/007562_1.jpg\n",
            "Removed: /content/drive/My Drive/VR_MINI_C/face_crop/007431_1.jpg\n",
            "Removed: /content/drive/My Drive/VR_MINI_C/face_crop/007461_2.jpg\n",
            "Removed: /content/drive/My Drive/VR_MINI_C/face_crop/007693_1.jpg\n",
            "Removed: /content/drive/My Drive/VR_MINI_C/face_crop/008062_1.jpg\n",
            "Removed: /content/drive/My Drive/VR_MINI_C/face_crop/007762_2.jpg\n",
            "Removed: /content/drive/My Drive/VR_MINI_C/face_crop/007850_1.jpg\n",
            "Removed: /content/drive/My Drive/VR_MINI_C/face_crop/007503_1.jpg\n",
            "Removed: /content/drive/My Drive/VR_MINI_C/face_crop/007382_1.jpg\n",
            "Removed: /content/drive/My Drive/VR_MINI_C/face_crop/007538_5.jpg\n",
            "Removed: /content/drive/My Drive/VR_MINI_C/face_crop/007611_2.jpg\n",
            "Removed: /content/drive/My Drive/VR_MINI_C/face_crop/007683_2.jpg\n",
            "Removed: /content/drive/My Drive/VR_MINI_C/face_crop/007476_2.jpg\n",
            "Removed: /content/drive/My Drive/VR_MINI_C/face_crop/007584_1.jpg\n",
            "Removed: /content/drive/My Drive/VR_MINI_C/face_crop/007912_1.jpg\n",
            "Removed: /content/drive/My Drive/VR_MINI_C/face_crop/007844_1.jpg\n",
            "Removed: /content/drive/My Drive/VR_MINI_C/face_crop/007818_1.jpg\n",
            "Removed: /content/drive/My Drive/VR_MINI_C/face_crop/007395_1.jpg\n",
            "Removed: /content/drive/My Drive/VR_MINI_C/face_crop/007556_1.jpg\n",
            "Removed: /content/drive/My Drive/VR_MINI_C/face_crop/007420_2.jpg\n",
            "Removed: /content/drive/My Drive/VR_MINI_C/face_crop/007737_1.jpg\n",
            "Removed: /content/drive/My Drive/VR_MINI_C/face_crop/007487_1.jpg\n",
            "Removed: /content/drive/My Drive/VR_MINI_C/face_crop/008160_1.jpg\n",
            "Removed: /content/drive/My Drive/VR_MINI_C/face_crop/007867_1.jpg\n",
            "Removed: /content/drive/My Drive/VR_MINI_C/face_crop/008193_2.jpg\n",
            "Removed: /content/drive/My Drive/VR_MINI_C/face_crop/007631_1.jpg\n",
            "Removed: /content/drive/My Drive/VR_MINI_C/face_crop/007826_1.jpg\n",
            "Removed: /content/drive/My Drive/VR_MINI_C/face_crop/007968_1.jpg\n",
            "Removed: /content/drive/My Drive/VR_MINI_C/face_crop/007670_9.jpg\n",
            "Removed: /content/drive/My Drive/VR_MINI_C/face_crop/007918_1.jpg\n",
            "Removed: /content/drive/My Drive/VR_MINI_C/face_crop/007681_1.jpg\n",
            "Removed: /content/drive/My Drive/VR_MINI_C/face_crop/007670_1.jpg\n",
            "Removed: /content/drive/My Drive/VR_MINI_C/face_crop/007517_1.jpg\n",
            "Removed: /content/drive/My Drive/VR_MINI_C/face_crop/007699_1.jpg\n",
            "Removed: /content/drive/My Drive/VR_MINI_C/face_crop/007501_1.jpg\n",
            "Removed: /content/drive/My Drive/VR_MINI_C/face_crop/007626_1.jpg\n",
            "Removed: /content/drive/My Drive/VR_MINI_C/face_crop/007392_1.jpg\n",
            "Removed: /content/drive/My Drive/VR_MINI_C/face_crop/007664_7.jpg\n",
            "Removed: /content/drive/My Drive/VR_MINI_C/face_crop/007992_1.jpg\n",
            "Removed: /content/drive/My Drive/VR_MINI_C/face_crop/007408_1.jpg\n",
            "Removed: /content/drive/My Drive/VR_MINI_C/face_crop/007842_1.jpg\n",
            "Removed: /content/drive/My Drive/VR_MINI_C/face_crop/007772_1.jpg\n",
            "Removed: /content/drive/My Drive/VR_MINI_C/face_crop/008190_2.jpg\n",
            "Removed: /content/drive/My Drive/VR_MINI_C/face_crop/007885_1.jpg\n",
            "Removed: /content/drive/My Drive/VR_MINI_C/face_crop/007668_1.jpg\n",
            "Removed: /content/drive/My Drive/VR_MINI_C/face_crop/007659_1.jpg\n",
            "Removed: /content/drive/My Drive/VR_MINI_C/face_crop/007366_1.jpg\n",
            "Removed: /content/drive/My Drive/VR_MINI_C/face_crop/007795_1.jpg\n",
            "Removed: /content/drive/My Drive/VR_MINI_C/face_crop/007438_2.jpg\n",
            "Removed: /content/drive/My Drive/VR_MINI_C/face_crop/007603_5.jpg\n",
            "Removed: /content/drive/My Drive/VR_MINI_C/face_crop/007373_4.jpg\n",
            "Removed: /content/drive/My Drive/VR_MINI_C/face_crop/007533_1.jpg\n",
            "Removed: /content/drive/My Drive/VR_MINI_C/face_crop/007663_2.jpg\n",
            "Removed: /content/drive/My Drive/VR_MINI_C/face_crop/008060_1.jpg\n",
            "Removed: /content/drive/My Drive/VR_MINI_C/face_crop/007438_3.jpg\n",
            "Removed: /content/drive/My Drive/VR_MINI_C/face_crop/008167_1.jpg\n",
            "Removed: /content/drive/My Drive/VR_MINI_C/face_crop/007938_1.jpg\n",
            "Removed: /content/drive/My Drive/VR_MINI_C/face_crop/007507_1.jpg\n",
            "Removed: /content/drive/My Drive/VR_MINI_C/face_crop/007442_1.jpg\n",
            "Removed: /content/drive/My Drive/VR_MINI_C/face_crop/007996_1.jpg\n",
            "Removed: /content/drive/My Drive/VR_MINI_C/face_crop/007538_8.jpg\n",
            "Removed: /content/drive/My Drive/VR_MINI_C/face_crop/007966_1.jpg\n",
            "Removed: /content/drive/My Drive/VR_MINI_C/face_crop/007956_1.jpg\n",
            "Removed: /content/drive/My Drive/VR_MINI_C/face_crop/007728_1.jpg\n",
            "Removed: /content/drive/My Drive/VR_MINI_C/face_crop/007551_1.jpg\n",
            "Removed: /content/drive/My Drive/VR_MINI_C/face_crop/007679_3.jpg\n",
            "Removed: /content/drive/My Drive/VR_MINI_C/face_crop/008225_5.jpg\n",
            "Removed: /content/drive/My Drive/VR_MINI_C/face_crop/007502_1.jpg\n",
            "Removed: /content/drive/My Drive/VR_MINI_C/face_crop/007490_1.jpg\n",
            "Removed: /content/drive/My Drive/VR_MINI_C/face_crop/007374_1.jpg\n",
            "Removed: /content/drive/My Drive/VR_MINI_C/face_crop/007669_1.jpg\n",
            "Removed: /content/drive/My Drive/VR_MINI_C/face_crop/007455_2.jpg\n",
            "Removed: /content/drive/My Drive/VR_MINI_C/face_crop/007655_2.jpg\n",
            "Removed: /content/drive/My Drive/VR_MINI_C/face_crop/008015_1.jpg\n",
            "Removed: /content/drive/My Drive/VR_MINI_C/face_crop/007794_1.jpg\n",
            "Removed: /content/drive/My Drive/VR_MINI_C/face_crop/007500_5.jpg\n",
            "Removed: /content/drive/My Drive/VR_MINI_C/face_crop/007646_1.jpg\n",
            "Removed: /content/drive/My Drive/VR_MINI_C/face_crop/007770_3.jpg\n",
            "Removed: /content/drive/My Drive/VR_MINI_C/face_crop/007357_1.jpg\n",
            "Removed: /content/drive/My Drive/VR_MINI_C/face_crop/007428_1.jpg\n",
            "Removed: /content/drive/My Drive/VR_MINI_C/face_crop/007588_1.jpg\n",
            "Removed: /content/drive/My Drive/VR_MINI_C/face_crop/007826_2.jpg\n",
            "Removed: /content/drive/My Drive/VR_MINI_C/face_crop/007777_1.jpg\n",
            "Removed: /content/drive/My Drive/VR_MINI_C/face_crop/007604_1.jpg\n",
            "Removed: /content/drive/My Drive/VR_MINI_C/face_crop/007909_1.jpg\n",
            "Removed: /content/drive/My Drive/VR_MINI_C/face_crop/007470_2.jpg\n",
            "Removed: /content/drive/My Drive/VR_MINI_C/face_crop/008225_10.jpg\n",
            "Removed: /content/drive/My Drive/VR_MINI_C/face_crop/008225_15.jpg\n",
            "Removed: /content/drive/My Drive/VR_MINI_C/face_crop/007518_1.jpg\n",
            "Removed: /content/drive/My Drive/VR_MINI_C/face_crop/007534_2.jpg\n",
            "Removed: /content/drive/My Drive/VR_MINI_C/face_crop/008075_1.jpg\n",
            "Removed: /content/drive/My Drive/VR_MINI_C/face_crop/007754_1.jpg\n",
            "Removed: /content/drive/My Drive/VR_MINI_C/face_crop/007730_1.jpg\n",
            "Removed: /content/drive/My Drive/VR_MINI_C/face_crop/007599_1.jpg\n",
            "Removed: /content/drive/My Drive/VR_MINI_C/face_crop/007716_2.jpg\n",
            "Removed: /content/drive/My Drive/VR_MINI_C/face_crop/008009_1.jpg\n",
            "Removed: /content/drive/My Drive/VR_MINI_C/face_crop/007745_1.jpg\n",
            "Removed: /content/drive/My Drive/VR_MINI_C/face_crop/008026_1.jpg\n",
            "Removed: /content/drive/My Drive/VR_MINI_C/face_crop/007453_2.jpg\n",
            "Removed: /content/drive/My Drive/VR_MINI_C/face_crop/007500_6.jpg\n",
            "Removed: /content/drive/My Drive/VR_MINI_C/face_crop/007313_2.jpg\n",
            "Removed: /content/drive/My Drive/VR_MINI_C/face_crop/007771_1.jpg\n",
            "Removed: /content/drive/My Drive/VR_MINI_C/face_crop/007330_1.jpg\n",
            "Removed: /content/drive/My Drive/VR_MINI_C/face_crop/008092_1.jpg\n",
            "Removed: /content/drive/My Drive/VR_MINI_C/face_crop/008111_1.jpg\n",
            "Removed: /content/drive/My Drive/VR_MINI_C/face_crop/008008_1.jpg\n",
            "Removed: /content/drive/My Drive/VR_MINI_C/face_crop/007606_1.jpg\n",
            "Removed: /content/drive/My Drive/VR_MINI_C/face_crop/008120_1.jpg\n",
            "Removed: /content/drive/My Drive/VR_MINI_C/face_crop/008161_1.jpg\n",
            "Removed: /content/drive/My Drive/VR_MINI_C/face_crop/007687_1.jpg\n",
            "Removed: /content/drive/My Drive/VR_MINI_C/face_crop/007580_1.jpg\n",
            "Removed: /content/drive/My Drive/VR_MINI_C/face_crop/008190_1.jpg\n",
            "Removed: /content/drive/My Drive/VR_MINI_C/face_crop/007457_8.jpg\n",
            "Removed: /content/drive/My Drive/VR_MINI_C/face_crop/008117_1.jpg\n",
            "Removed: /content/drive/My Drive/VR_MINI_C/face_crop/007679_1.jpg\n",
            "Removed: /content/drive/My Drive/VR_MINI_C/face_crop/007522_2.jpg\n",
            "Removed: /content/drive/My Drive/VR_MINI_C/face_crop/007991_3.jpg\n",
            "Removed: /content/drive/My Drive/VR_MINI_C/face_crop/007511_1.jpg\n",
            "Removed: /content/drive/My Drive/VR_MINI_C/face_crop/007422_1.jpg\n",
            "Removed: /content/drive/My Drive/VR_MINI_C/face_crop/007944_1.jpg\n",
            "Removed: /content/drive/My Drive/VR_MINI_C/face_crop/008168_1.jpg\n",
            "Removed: /content/drive/My Drive/VR_MINI_C/face_crop/007510_1.jpg\n",
            "Removed: /content/drive/My Drive/VR_MINI_C/face_crop/008187_1.jpg\n",
            "Removed: /content/drive/My Drive/VR_MINI_C/face_crop/007446_1.jpg\n",
            "Removed: /content/drive/My Drive/VR_MINI_C/face_crop/008132_1.jpg\n",
            "Removed: /content/drive/My Drive/VR_MINI_C/face_crop/007934_1.jpg\n",
            "Removed: /content/drive/My Drive/VR_MINI_C/face_crop/008069_1.jpg\n",
            "Removed: /content/drive/My Drive/VR_MINI_C/face_crop/007609_1.jpg\n",
            "Removed: /content/drive/My Drive/VR_MINI_C/face_crop/007913_1.jpg\n",
            "Removed: /content/drive/My Drive/VR_MINI_C/face_crop/007313_1.jpg\n",
            "Removed: /content/drive/My Drive/VR_MINI_C/face_crop/007841_1.jpg\n",
            "Removed: /content/drive/My Drive/VR_MINI_C/face_crop/007667_2.jpg\n",
            "Removed: /content/drive/My Drive/VR_MINI_C/face_crop/007572_2.jpg\n",
            "Removed: /content/drive/My Drive/VR_MINI_C/face_crop/007920_1.jpg\n",
            "Removed: /content/drive/My Drive/VR_MINI_C/face_crop/007611_3.jpg\n",
            "Removed: /content/drive/My Drive/VR_MINI_C/face_crop/007792_1.jpg\n",
            "Removed: /content/drive/My Drive/VR_MINI_C/face_crop/007362_1.jpg\n",
            "Removed: /content/drive/My Drive/VR_MINI_C/face_crop/007704_1.jpg\n",
            "Removed: /content/drive/My Drive/VR_MINI_C/face_crop/007633_1.jpg\n",
            "Removed: /content/drive/My Drive/VR_MINI_C/face_crop/007401_1.jpg\n",
            "Removed: /content/drive/My Drive/VR_MINI_C/face_crop/007441_1.jpg\n",
            "Removed: /content/drive/My Drive/VR_MINI_C/face_crop/007759_1.jpg\n",
            "Removed: /content/drive/My Drive/VR_MINI_C/face_crop/007984_1.jpg\n",
            "Removed: /content/drive/My Drive/VR_MINI_C/face_crop/007625_1.jpg\n",
            "Removed: /content/drive/My Drive/VR_MINI_C/face_crop/007762_1.jpg\n",
            "Removed: /content/drive/My Drive/VR_MINI_C/face_crop/007664_12.jpg\n",
            "Removed: /content/drive/My Drive/VR_MINI_C/face_crop/007593_1.jpg\n",
            "Removed: /content/drive/My Drive/VR_MINI_C/face_crop/008185_1.jpg\n",
            "Removed: /content/drive/My Drive/VR_MINI_C/face_crop/007527_3.jpg\n",
            "Removed: /content/drive/My Drive/VR_MINI_C/face_crop/008043_1.jpg\n",
            "Removed: /content/drive/My Drive/VR_MINI_C/face_crop/007568_2.jpg\n",
            "Removed: /content/drive/My Drive/VR_MINI_C/face_crop/007580_2.jpg\n",
            "Removed: /content/drive/My Drive/VR_MINI_C/face_crop/007696_1.jpg\n",
            "Removed: /content/drive/My Drive/VR_MINI_C/face_crop/007475_1.jpg\n",
            "Removed: /content/drive/My Drive/VR_MINI_C/face_crop/007750_1.jpg\n",
            "Removed: /content/drive/My Drive/VR_MINI_C/face_crop/008123_1.jpg\n",
            "Removed: /content/drive/My Drive/VR_MINI_C/face_crop/007695_2.jpg\n",
            "Removed: /content/drive/My Drive/VR_MINI_C/face_crop/007411_1.jpg\n",
            "Removed: /content/drive/My Drive/VR_MINI_C/face_crop/007754_2.jpg\n",
            "Removed: /content/drive/My Drive/VR_MINI_C/face_crop/007364_5.jpg\n",
            "Removed: /content/drive/My Drive/VR_MINI_C/face_crop/007447_1.jpg\n",
            "Removed: /content/drive/My Drive/VR_MINI_C/face_crop/007840_1.jpg\n",
            "Removed: /content/drive/My Drive/VR_MINI_C/face_crop/008225_11.jpg\n",
            "Removed: /content/drive/My Drive/VR_MINI_C/face_crop/008197_1.jpg\n",
            "Removed: /content/drive/My Drive/VR_MINI_C/face_crop/008003_1.jpg\n",
            "Removed: /content/drive/My Drive/VR_MINI_C/face_crop/007667_3.jpg\n",
            "Removed: /content/drive/My Drive/VR_MINI_C/face_crop/007572_4.jpg\n",
            "Removed: /content/drive/My Drive/VR_MINI_C/face_crop/007936_1.jpg\n",
            "Removed: /content/drive/My Drive/VR_MINI_C/face_crop/007424_1.jpg\n",
            "Removed: /content/drive/My Drive/VR_MINI_C/face_crop/007688_3.jpg\n",
            "Removed: /content/drive/My Drive/VR_MINI_C/face_crop/007999_1.jpg\n",
            "Removed: /content/drive/My Drive/VR_MINI_C/face_crop/008176_1.jpg\n",
            "Removed: /content/drive/My Drive/VR_MINI_C/face_crop/007575_1.jpg\n",
            "Removed: /content/drive/My Drive/VR_MINI_C/face_crop/007662_5.jpg\n",
            "Removed: /content/drive/My Drive/VR_MINI_C/face_crop/007545_1.jpg\n",
            "Removed: /content/drive/My Drive/VR_MINI_C/face_crop/007572_1.jpg\n",
            "Removed: /content/drive/My Drive/VR_MINI_C/face_crop/007766_2.jpg\n",
            "Removed: /content/drive/My Drive/VR_MINI_C/face_crop/007990_1.jpg\n",
            "Removed: /content/drive/My Drive/VR_MINI_C/face_crop/007659_2.jpg\n",
            "Removed: /content/drive/My Drive/VR_MINI_C/face_crop/007364_1.jpg\n",
            "Removed: /content/drive/My Drive/VR_MINI_C/face_crop/007572_11.jpg\n",
            "Removed: /content/drive/My Drive/VR_MINI_C/face_crop/007408_2.jpg\n",
            "Removed: /content/drive/My Drive/VR_MINI_C/face_crop/007603_2.jpg\n",
            "Removed: /content/drive/My Drive/VR_MINI_C/face_crop/007377_1.jpg\n",
            "Removed: /content/drive/My Drive/VR_MINI_C/face_crop/007538_10.jpg\n",
            "Removed: /content/drive/My Drive/VR_MINI_C/face_crop/007348_1.jpg\n",
            "Removed: /content/drive/My Drive/VR_MINI_C/face_crop/008029_1.jpg\n",
            "Removed: /content/drive/My Drive/VR_MINI_C/face_crop/007460_1.jpg\n",
            "Removed: /content/drive/My Drive/VR_MINI_C/face_crop/007325_1.jpg\n",
            "Removed: /content/drive/My Drive/VR_MINI_C/face_crop/008030_3.jpg\n",
            "Removed: /content/drive/My Drive/VR_MINI_C/face_crop/007489_1.jpg\n",
            "Removed: /content/drive/My Drive/VR_MINI_C/face_crop/007764_1.jpg\n",
            "Removed: /content/drive/My Drive/VR_MINI_C/face_crop/008178_1.jpg\n",
            "Removed: /content/drive/My Drive/VR_MINI_C/face_crop/007807_1.jpg\n",
            "Removed: /content/drive/My Drive/VR_MINI_C/face_crop/008151_2.jpg\n",
            "Removed: /content/drive/My Drive/VR_MINI_C/face_crop/008044_1.jpg\n",
            "Removed: /content/drive/My Drive/VR_MINI_C/face_crop/007483_1.jpg\n",
            "Removed: /content/drive/My Drive/VR_MINI_C/face_crop/007473_3.jpg\n",
            "Removed: /content/drive/My Drive/VR_MINI_C/face_crop/007742_1.jpg\n",
            "Removed: /content/drive/My Drive/VR_MINI_C/face_crop/008225_4.jpg\n",
            "Removed: /content/drive/My Drive/VR_MINI_C/face_crop/007408_3.jpg\n",
            "Removed: /content/drive/My Drive/VR_MINI_C/face_crop/007687_3.jpg\n",
            "Removed: /content/drive/My Drive/VR_MINI_C/face_crop/008149_1.jpg\n",
            "Removed: /content/drive/My Drive/VR_MINI_C/face_crop/007459_1.jpg\n",
            "Removed: /content/drive/My Drive/VR_MINI_C/face_crop/008163_2.jpg\n",
            "Removed: /content/drive/My Drive/VR_MINI_C/face_crop/008066_2.jpg\n",
            "Removed: /content/drive/My Drive/VR_MINI_C/face_crop/007521_2.jpg\n",
            "Removed: /content/drive/My Drive/VR_MINI_C/face_crop/007679_2.jpg\n",
            "Removed: /content/drive/My Drive/VR_MINI_C/face_crop/008124_1.jpg\n",
            "Removed: /content/drive/My Drive/VR_MINI_C/face_crop/007987_1.jpg\n",
            "Removed: /content/drive/My Drive/VR_MINI_C/face_crop/007990_4.jpg\n",
            "Removed: /content/drive/My Drive/VR_MINI_C/face_crop/008225_3.jpg\n",
            "Removed: /content/drive/My Drive/VR_MINI_C/face_crop/008024_1.jpg\n",
            "Removed: /content/drive/My Drive/VR_MINI_C/face_crop/008152_2.jpg\n",
            "Removed: /content/drive/My Drive/VR_MINI_C/face_crop/008164_1.jpg\n",
            "Removed: /content/drive/My Drive/VR_MINI_C/face_crop/007732_1.jpg\n",
            "Removed: /content/drive/My Drive/VR_MINI_C/face_crop/007635_1.jpg\n",
            "Removed: /content/drive/My Drive/VR_MINI_C/face_crop/007528_4.jpg\n",
            "Removed: /content/drive/My Drive/VR_MINI_C/face_crop/007500_3.jpg\n",
            "Removed: /content/drive/My Drive/VR_MINI_C/face_crop/007848_1.jpg\n",
            "Removed: /content/drive/My Drive/VR_MINI_C/face_crop/007755_1.jpg\n",
            "Removed: /content/drive/My Drive/VR_MINI_C/face_crop/007661_1.jpg\n",
            "Removed: /content/drive/My Drive/VR_MINI_C/face_crop/007670_19.jpg\n",
            "Removed: /content/drive/My Drive/VR_MINI_C/face_crop/007465_1.jpg\n",
            "Removed: /content/drive/My Drive/VR_MINI_C/face_crop/007978_1.jpg\n",
            "Removed: /content/drive/My Drive/VR_MINI_C/face_crop/007473_5.jpg\n",
            "Removed: /content/drive/My Drive/VR_MINI_C/face_crop/007817_1.jpg\n",
            "Removed: /content/drive/My Drive/VR_MINI_C/face_crop/007970_1.jpg\n",
            "Removed: /content/drive/My Drive/VR_MINI_C/face_crop/008119_1.jpg\n",
            "Removed: /content/drive/My Drive/VR_MINI_C/face_crop/007917_1.jpg\n",
            "Removed: /content/drive/My Drive/VR_MINI_C/face_crop/007664_5.jpg\n",
            "Removed: /content/drive/My Drive/VR_MINI_C/face_crop/007403_1.jpg\n",
            "Removed: /content/drive/My Drive/VR_MINI_C/face_crop/008152_1.jpg\n",
            "Removed: /content/drive/My Drive/VR_MINI_C/face_crop/007358_1.jpg\n",
            "Removed: /content/drive/My Drive/VR_MINI_C/face_crop/008222_1.jpg\n",
            "Removed: /content/drive/My Drive/VR_MINI_C/face_crop/007492_6.jpg\n",
            "Removed: /content/drive/My Drive/VR_MINI_C/face_crop/007905_1.jpg\n",
            "Removed: /content/drive/My Drive/VR_MINI_C/face_crop/007618_1.jpg\n",
            "Removed: /content/drive/My Drive/VR_MINI_C/face_crop/007664_4.jpg\n",
            "Removed: /content/drive/My Drive/VR_MINI_C/face_crop/007986_1.jpg\n",
            "Removed: /content/drive/My Drive/VR_MINI_C/face_crop/007531_1.jpg\n",
            "Removed: /content/drive/My Drive/VR_MINI_C/face_crop/007735_1.jpg\n",
            "Removed: /content/drive/My Drive/VR_MINI_C/face_crop/007684_1.jpg\n",
            "Removed: /content/drive/My Drive/VR_MINI_C/face_crop/007352_1.jpg\n",
            "Removed: /content/drive/My Drive/VR_MINI_C/face_crop/007363_1.jpg\n",
            "Removed: /content/drive/My Drive/VR_MINI_C/face_crop/007590_1.jpg\n",
            "Removed: /content/drive/My Drive/VR_MINI_C/face_crop/008143_1.jpg\n",
            "Removed: /content/drive/My Drive/VR_MINI_C/face_crop/007508_1.jpg\n",
            "Removed: /content/drive/My Drive/VR_MINI_C/face_crop/007690_3.jpg\n",
            "Removed: /content/drive/My Drive/VR_MINI_C/face_crop/008170_1.jpg\n",
            "Removed: /content/drive/My Drive/VR_MINI_C/face_crop/007547_1.jpg\n",
            "Removed: /content/drive/My Drive/VR_MINI_C/face_crop/007560_1.jpg\n",
            "Removed: /content/drive/My Drive/VR_MINI_C/face_crop/007514_1.jpg\n",
            "Removed: /content/drive/My Drive/VR_MINI_C/face_crop/007407_1.jpg\n",
            "Removed: /content/drive/My Drive/VR_MINI_C/face_crop/008200_1.jpg\n",
            "Removed: /content/drive/My Drive/VR_MINI_C/face_crop/007457_3.jpg\n",
            "Removed: /content/drive/My Drive/VR_MINI_C/face_crop/007364_2.jpg\n",
            "Removed: /content/drive/My Drive/VR_MINI_C/face_crop/007802_1.jpg\n",
            "Removed: /content/drive/My Drive/VR_MINI_C/face_crop/007561_1.jpg\n",
            "Removed: /content/drive/My Drive/VR_MINI_C/face_crop/007364_3.jpg\n",
            "Removed: /content/drive/My Drive/VR_MINI_C/face_crop/008188_1.jpg\n",
            "Removed: /content/drive/My Drive/VR_MINI_C/face_crop/008223_1.jpg\n",
            "Removed: /content/drive/My Drive/VR_MINI_C/face_crop/007849_1.jpg\n",
            "Removed: /content/drive/My Drive/VR_MINI_C/face_crop/008094_1.jpg\n",
            "Removed: /content/drive/My Drive/VR_MINI_C/face_crop/008077_1.jpg\n",
            "Removed: /content/drive/My Drive/VR_MINI_C/face_crop/007820_1.jpg\n",
            "Removed: /content/drive/My Drive/VR_MINI_C/face_crop/007314_5.jpg\n",
            "Removed: /content/drive/My Drive/VR_MINI_C/face_crop/007366_4.jpg\n",
            "Removed: /content/drive/My Drive/VR_MINI_C/face_crop/008054_1.jpg\n",
            "Removed: /content/drive/My Drive/VR_MINI_C/face_crop/008074_1.jpg\n",
            "Removed: /content/drive/My Drive/VR_MINI_C/face_crop/007344_1.jpg\n",
            "Removed: /content/drive/My Drive/VR_MINI_C/face_crop/008100_1.jpg\n",
            "Removed: /content/drive/My Drive/VR_MINI_C/face_crop/008112_1.jpg\n",
            "Removed: /content/drive/My Drive/VR_MINI_C/face_crop/007499_3.jpg\n",
            "Removed: /content/drive/My Drive/VR_MINI_C/face_crop/007526_1.jpg\n",
            "Removed: /content/drive/My Drive/VR_MINI_C/face_crop/007480_1.jpg\n",
            "Removed: /content/drive/My Drive/VR_MINI_C/face_crop/008165_1.jpg\n",
            "Removed: /content/drive/My Drive/VR_MINI_C/face_crop/007781_1.jpg\n",
            "Removed: /content/drive/My Drive/VR_MINI_C/face_crop/007713_1.jpg\n",
            "Removed: /content/drive/My Drive/VR_MINI_C/face_crop/007572_10.jpg\n",
            "Removed: /content/drive/My Drive/VR_MINI_C/face_crop/007990_3.jpg\n",
            "Removed: /content/drive/My Drive/VR_MINI_C/face_crop/008045_1.jpg\n",
            "Removed: /content/drive/My Drive/VR_MINI_C/face_crop/007381_3.jpg\n",
            "Removed: /content/drive/My Drive/VR_MINI_C/face_crop/007457_10.jpg\n",
            "Removed: /content/drive/My Drive/VR_MINI_C/face_crop/007967_1.jpg\n",
            "Removed: /content/drive/My Drive/VR_MINI_C/face_crop/007767_1.jpg\n",
            "Removed: /content/drive/My Drive/VR_MINI_C/face_crop/007827_1.jpg\n",
            "Removed: /content/drive/My Drive/VR_MINI_C/face_crop/007373_2.jpg\n",
            "Removed: /content/drive/My Drive/VR_MINI_C/face_crop/007342_1.jpg\n",
            "Removed: /content/drive/My Drive/VR_MINI_C/face_crop/007690_2.jpg\n",
            "Removed: /content/drive/My Drive/VR_MINI_C/face_crop/007630_1.jpg\n",
            "Removed: /content/drive/My Drive/VR_MINI_C/face_crop/008056_1.jpg\n",
            "Removed: /content/drive/My Drive/VR_MINI_C/face_crop/007479_2.jpg\n",
            "Removed: /content/drive/My Drive/VR_MINI_C/face_crop/007572_7.jpg\n",
            "Removed: /content/drive/My Drive/VR_MINI_C/face_crop/007534_1.jpg\n",
            "Removed: /content/drive/My Drive/VR_MINI_C/face_crop/007603_4.jpg\n",
            "Removed: /content/drive/My Drive/VR_MINI_C/face_crop/007778_1.jpg\n",
            "Removed: /content/drive/My Drive/VR_MINI_C/face_crop/008204_1.jpg\n",
            "Removed: /content/drive/My Drive/VR_MINI_C/face_crop/007538_7.jpg\n",
            "Removed: /content/drive/My Drive/VR_MINI_C/face_crop/007980_1.jpg\n",
            "Removed: /content/drive/My Drive/VR_MINI_C/face_crop/007528_1.jpg\n",
            "Removed: /content/drive/My Drive/VR_MINI_C/face_crop/008208_1.jpg\n",
            "Removed: /content/drive/My Drive/VR_MINI_C/face_crop/007995_1.jpg\n",
            "Removed: /content/drive/My Drive/VR_MINI_C/face_crop/007380_4.jpg\n",
            "Removed: /content/drive/My Drive/VR_MINI_C/face_crop/007664_9.jpg\n",
            "Removed: /content/drive/My Drive/VR_MINI_C/face_crop/007380_5.jpg\n",
            "Removed: /content/drive/My Drive/VR_MINI_C/face_crop/008225_14.jpg\n",
            "Removed: /content/drive/My Drive/VR_MINI_C/face_crop/008114_1.jpg\n",
            "Removed: /content/drive/My Drive/VR_MINI_C/face_crop/007727_1.jpg\n",
            "Removed: /content/drive/My Drive/VR_MINI_C/face_crop/007790_1.jpg\n",
            "Removed: /content/drive/My Drive/VR_MINI_C/face_crop/007851_1.jpg\n",
            "Removed: /content/drive/My Drive/VR_MINI_C/face_crop/007360_1.jpg\n",
            "Removed: /content/drive/My Drive/VR_MINI_C/face_crop/008030_2.jpg\n",
            "Removed: /content/drive/My Drive/VR_MINI_C/face_crop/008189_1.jpg\n",
            "Removed: /content/drive/My Drive/VR_MINI_C/face_crop/007525_1.jpg\n",
            "Removed: /content/drive/My Drive/VR_MINI_C/face_crop/007706_1.jpg\n",
            "Removed: /content/drive/My Drive/VR_MINI_C/face_crop/007997_1.jpg\n",
            "Removed: /content/drive/My Drive/VR_MINI_C/face_crop/008225_2.jpg\n",
            "Removed: /content/drive/My Drive/VR_MINI_C/face_crop/008070_4.jpg\n",
            "Removed: /content/drive/My Drive/VR_MINI_C/face_crop/007734_1.jpg\n",
            "Removed: /content/drive/My Drive/VR_MINI_C/face_crop/007672_1.jpg\n",
            "Removed: /content/drive/My Drive/VR_MINI_C/face_crop/007664_11.jpg\n",
            "Removed: /content/drive/My Drive/VR_MINI_C/face_crop/007497_2.jpg\n",
            "Removed: /content/drive/My Drive/VR_MINI_C/face_crop/007779_1.jpg\n",
            "Removed: /content/drive/My Drive/VR_MINI_C/face_crop/007360_3.jpg\n",
            "Removed: /content/drive/My Drive/VR_MINI_C/face_crop/007821_1.jpg\n",
            "Removed: /content/drive/My Drive/VR_MINI_C/face_crop/007670_18.jpg\n",
            "Removed: /content/drive/My Drive/VR_MINI_C/face_crop/007769_1.jpg\n",
            "Removed: /content/drive/My Drive/VR_MINI_C/face_crop/007486_1.jpg\n",
            "Removed: /content/drive/My Drive/VR_MINI_C/face_crop/008002_1.jpg\n",
            "Removed: /content/drive/My Drive/VR_MINI_C/face_crop/008159_1.jpg\n",
            "Removed: /content/drive/My Drive/VR_MINI_C/face_crop/007314_4.jpg\n",
            "Removed: /content/drive/My Drive/VR_MINI_C/face_crop/007611_1.jpg\n",
            "Removed: /content/drive/My Drive/VR_MINI_C/face_crop/007487_4.jpg\n",
            "Removed: /content/drive/My Drive/VR_MINI_C/face_crop/007552_1.jpg\n",
            "Removed: /content/drive/My Drive/VR_MINI_C/face_crop/007824_1.jpg\n",
            "Removed: /content/drive/My Drive/VR_MINI_C/face_crop/007742_2.jpg\n",
            "Removed: /content/drive/My Drive/VR_MINI_C/face_crop/007523_1.jpg\n",
            "Removed: /content/drive/My Drive/VR_MINI_C/face_crop/008081_1.jpg\n",
            "Removed: /content/drive/My Drive/VR_MINI_C/face_crop/007863_1.jpg\n",
            "Removed: /content/drive/My Drive/VR_MINI_C/face_crop/007328_1.jpg\n",
            "Removed: /content/drive/My Drive/VR_MINI_C/face_crop/007816_1.jpg\n",
            "Removed: /content/drive/My Drive/VR_MINI_C/face_crop/008225_7.jpg\n",
            "Removed: /content/drive/My Drive/VR_MINI_C/face_crop/007578_5.jpg\n",
            "Removed: /content/drive/My Drive/VR_MINI_C/face_crop/008225_6.jpg\n",
            "Removed: /content/drive/My Drive/VR_MINI_C/face_crop/007671_2.jpg\n",
            "Removed: /content/drive/My Drive/VR_MINI_C/face_crop/007776_1.jpg\n",
            "Removed: /content/drive/My Drive/VR_MINI_C/face_crop/007479_1.jpg\n",
            "Removed: /content/drive/My Drive/VR_MINI_C/face_crop/007556_2.jpg\n",
            "Removed: /content/drive/My Drive/VR_MINI_C/face_crop/007492_4.jpg\n",
            "Removed: /content/drive/My Drive/VR_MINI_C/face_crop/008059_1.jpg\n",
            "Removed: /content/drive/My Drive/VR_MINI_C/face_crop/007803_1.jpg\n",
            "Removed: /content/drive/My Drive/VR_MINI_C/face_crop/008104_1.jpg\n",
            "Removed: /content/drive/My Drive/VR_MINI_C/face_crop/007678_2.jpg\n",
            "Removed: /content/drive/My Drive/VR_MINI_C/face_crop/007528_2.jpg\n",
            "Removed: /content/drive/My Drive/VR_MINI_C/face_crop/008154_1.jpg\n",
            "Removed: /content/drive/My Drive/VR_MINI_C/face_crop/007330_2.jpg\n",
            "Removed: /content/drive/My Drive/VR_MINI_C/face_crop/007366_2.jpg\n",
            "Removed: /content/drive/My Drive/VR_MINI_C/face_crop/007527_1.jpg\n",
            "Removed: /content/drive/My Drive/VR_MINI_C/face_crop/007788_1.jpg\n",
            "Removed: /content/drive/My Drive/VR_MINI_C/face_crop/007628_1.jpg\n",
            "Removed: /content/drive/My Drive/VR_MINI_C/face_crop/007331_1.jpg\n",
            "Removed: /content/drive/My Drive/VR_MINI_C/face_crop/007396_1.jpg\n",
            "Removed: /content/drive/My Drive/VR_MINI_C/face_crop/007481_1.jpg\n",
            "Removed: /content/drive/My Drive/VR_MINI_C/face_crop/008080_1.jpg\n",
            "Removed: /content/drive/My Drive/VR_MINI_C/face_crop/008122_1.jpg\n",
            "Removed: /content/drive/My Drive/VR_MINI_C/face_crop/008072_1.jpg\n",
            "Removed: /content/drive/My Drive/VR_MINI_C/face_crop/008040_1.jpg\n",
            "Removed: /content/drive/My Drive/VR_MINI_C/face_crop/007345_2.jpg\n",
            "Removed: /content/drive/My Drive/VR_MINI_C/face_crop/007906_1.jpg\n",
            "Removed: /content/drive/My Drive/VR_MINI_C/face_crop/007524_2.jpg\n",
            "Removed: /content/drive/My Drive/VR_MINI_C/face_crop/007854_1.jpg\n",
            "Removed: /content/drive/My Drive/VR_MINI_C/face_crop/007677_2.jpg\n",
            "Removed: /content/drive/My Drive/VR_MINI_C/face_crop/007637_1.jpg\n",
            "Removed: /content/drive/My Drive/VR_MINI_C/face_crop/007591_1.jpg\n",
            "Removed: /content/drive/My Drive/VR_MINI_C/face_crop/007871_1.jpg\n",
            "Removed: /content/drive/My Drive/VR_MINI_C/face_crop/007423_1.jpg\n",
            "Removed: /content/drive/My Drive/VR_MINI_C/face_crop/007829_1.jpg\n",
            "Removed: /content/drive/My Drive/VR_MINI_C/face_crop/007698_1.jpg\n",
            "Removed: /content/drive/My Drive/VR_MINI_C/face_crop/007927_1.jpg\n",
            "Removed: /content/drive/My Drive/VR_MINI_C/face_crop/008105_1.jpg\n",
            "Removed: /content/drive/My Drive/VR_MINI_C/face_crop/007645_1.jpg\n",
            "Removed: /content/drive/My Drive/VR_MINI_C/face_crop/007451_1.jpg\n",
            "Removed: /content/drive/My Drive/VR_MINI_C/face_crop/007765_1.jpg\n",
            "Removed: /content/drive/My Drive/VR_MINI_C/face_crop/007608_1.jpg\n",
            "Removed: /content/drive/My Drive/VR_MINI_C/face_crop/007682_2.jpg\n",
            "Removed: /content/drive/My Drive/VR_MINI_C/face_crop/007492_5.jpg\n",
            "Removed: /content/drive/My Drive/VR_MINI_C/face_crop/007989_1.jpg\n",
            "Removed: /content/drive/My Drive/VR_MINI_C/face_crop/007644_1.jpg\n",
            "Removed: /content/drive/My Drive/VR_MINI_C/face_crop/007749_1.jpg\n",
            "Removed: /content/drive/My Drive/VR_MINI_C/face_crop/007556_3.jpg\n",
            "Removed: /content/drive/My Drive/VR_MINI_C/face_crop/008095_1.jpg\n",
            "Removed: /content/drive/My Drive/VR_MINI_C/face_crop/007767_2.jpg\n",
            "Removed: /content/drive/My Drive/VR_MINI_C/face_crop/007625_2.jpg\n",
            "Removed: /content/drive/My Drive/VR_MINI_C/face_crop/007665_1.jpg\n",
            "Removed: /content/drive/My Drive/VR_MINI_C/face_crop/008188_2.jpg\n",
            "Removed: /content/drive/My Drive/VR_MINI_C/face_crop/007897_1.jpg\n",
            "Removed: /content/drive/My Drive/VR_MINI_C/face_crop/007794_2.jpg\n",
            "Removed: /content/drive/My Drive/VR_MINI_C/face_crop/007538_3.jpg\n",
            "Removed: /content/drive/My Drive/VR_MINI_C/face_crop/007713_2.jpg\n",
            "Removed: /content/drive/My Drive/VR_MINI_C/face_crop/007621_1.jpg\n",
            "Removed: /content/drive/My Drive/VR_MINI_C/face_crop/007353_1.jpg\n",
            "Removed: /content/drive/My Drive/VR_MINI_C/face_crop/008225_1.jpg\n",
            "Removed: /content/drive/My Drive/VR_MINI_C/face_crop/007339_1.jpg\n",
            "Removed: /content/drive/My Drive/VR_MINI_C/face_crop/007878_1.jpg\n",
            "Removed: /content/drive/My Drive/VR_MINI_C/face_crop/008184_1.jpg\n",
            "Removed: /content/drive/My Drive/VR_MINI_C/face_crop/008191_2.jpg\n",
            "Removed: /content/drive/My Drive/VR_MINI_C/face_crop/007923_1.jpg\n",
            "Removed: /content/drive/My Drive/VR_MINI_C/face_crop/007660_1.jpg\n",
            "Removed: /content/drive/My Drive/VR_MINI_C/face_crop/007426_1.jpg\n",
            "Removed: /content/drive/My Drive/VR_MINI_C/face_crop/008203_1.jpg\n",
            "Removed: /content/drive/My Drive/VR_MINI_C/face_crop/007578_2.jpg\n",
            "Removed: /content/drive/My Drive/VR_MINI_C/face_crop/007664_3.jpg\n",
            "Removed: /content/drive/My Drive/VR_MINI_C/face_crop/008110_1.jpg\n",
            "Removed: /content/drive/My Drive/VR_MINI_C/face_crop/007697_1.jpg\n",
            "Removed: /content/drive/My Drive/VR_MINI_C/face_crop/008046_3.jpg\n",
            "Removed: /content/drive/My Drive/VR_MINI_C/face_crop/008017_1.jpg\n",
            "Removed: /content/drive/My Drive/VR_MINI_C/face_crop/007399_1.jpg\n",
            "Removed: /content/drive/My Drive/VR_MINI_C/face_crop/007874_1.jpg\n",
            "Removed: /content/drive/My Drive/VR_MINI_C/face_crop/008199_1.jpg\n",
            "Removed: /content/drive/My Drive/VR_MINI_C/face_crop/007839_1.jpg\n",
            "Removed: /content/drive/My Drive/VR_MINI_C/face_crop/007538_11.jpg\n",
            "Removed: /content/drive/My Drive/VR_MINI_C/face_crop/007948_1.jpg\n",
            "Removed: /content/drive/My Drive/VR_MINI_C/face_crop/007801_1.jpg\n",
            "Removed: /content/drive/My Drive/VR_MINI_C/face_crop/007981_1.jpg\n",
            "Removed: /content/drive/My Drive/VR_MINI_C/face_crop/007454_1.jpg\n",
            "Removed: /content/drive/My Drive/VR_MINI_C/face_crop/008137_1.jpg\n",
            "Removed: /content/drive/My Drive/VR_MINI_C/face_crop/007444_2.jpg\n",
            "Removed: /content/drive/My Drive/VR_MINI_C/face_crop/007652_1.jpg\n",
            "Removed: /content/drive/My Drive/VR_MINI_C/face_crop/007578_3.jpg\n",
            "Removed: /content/drive/My Drive/VR_MINI_C/face_crop/007612_1.jpg\n",
            "Removed: /content/drive/My Drive/VR_MINI_C/face_crop/007876_1.jpg\n",
            "Removed: /content/drive/My Drive/VR_MINI_C/face_crop/008050_1.jpg\n",
            "Removed: /content/drive/My Drive/VR_MINI_C/face_crop/007468_1.jpg\n",
            "Removed: /content/drive/My Drive/VR_MINI_C/face_crop/007688_1.jpg\n",
            "Removed: /content/drive/My Drive/VR_MINI_C/face_crop/007501_2.jpg\n",
            "Removed: /content/drive/My Drive/VR_MINI_C/face_crop/007555_1.jpg\n",
            "Removed: /content/drive/My Drive/VR_MINI_C/face_crop/007355_1.jpg\n",
            "Removed: /content/drive/My Drive/VR_MINI_C/face_crop/007729_1.jpg\n",
            "Removed: /content/drive/My Drive/VR_MINI_C/face_crop/008070_1.jpg\n",
            "Removed: /content/drive/My Drive/VR_MINI_C/face_crop/007670_4.jpg\n",
            "Removed: /content/drive/My Drive/VR_MINI_C/face_crop/008046_1.jpg\n",
            "Removed: /content/drive/My Drive/VR_MINI_C/face_crop/007388_1.jpg\n",
            "Removed: /content/drive/My Drive/VR_MINI_C/face_crop/007895_1.jpg\n",
            "Removed: /content/drive/My Drive/VR_MINI_C/face_crop/007930_1.jpg\n",
            "Removed: /content/drive/My Drive/VR_MINI_C/face_crop/007415_1.jpg\n",
            "Removed: /content/drive/My Drive/VR_MINI_C/face_crop/008047_1.jpg\n",
            "Removed: /content/drive/My Drive/VR_MINI_C/face_crop/008225_8.jpg\n",
            "Removed: /content/drive/My Drive/VR_MINI_C/face_crop/007572_3.jpg\n",
            "Removed: /content/drive/My Drive/VR_MINI_C/face_crop/007457_5.jpg\n",
            "Removed: /content/drive/My Drive/VR_MINI_C/face_crop/008023_1.jpg\n",
            "Removed: /content/drive/My Drive/VR_MINI_C/face_crop/007688_2.jpg\n",
            "Removed: /content/drive/My Drive/VR_MINI_C/face_crop/007794_4.jpg\n",
            "Removed: /content/drive/My Drive/VR_MINI_C/face_crop/007321_1.jpg\n",
            "Removed: /content/drive/My Drive/VR_MINI_C/face_crop/008067_1.jpg\n",
            "Removed: /content/drive/My Drive/VR_MINI_C/face_crop/007991_1.jpg\n",
            "Removed: /content/drive/My Drive/VR_MINI_C/face_crop/008218_1.jpg\n",
            "Removed: /content/drive/My Drive/VR_MINI_C/face_crop/007896_1.jpg\n",
            "Removed: /content/drive/My Drive/VR_MINI_C/face_crop/007639_1.jpg\n",
            "Removed: /content/drive/My Drive/VR_MINI_C/face_crop/007694_1.jpg\n",
            "Removed: /content/drive/My Drive/VR_MINI_C/face_crop/007685_1.jpg\n",
            "Removed: /content/drive/My Drive/VR_MINI_C/face_crop/008214_1.jpg\n",
            "Removed: /content/drive/My Drive/VR_MINI_C/face_crop/007433_1.jpg\n",
            "Removed: /content/drive/My Drive/VR_MINI_C/face_crop/007670_14.jpg\n",
            "Removed: /content/drive/My Drive/VR_MINI_C/face_crop/007606_3.jpg\n",
            "Removed: /content/drive/My Drive/VR_MINI_C/face_crop/007692_1.jpg\n",
            "Removed: /content/drive/My Drive/VR_MINI_C/face_crop/008147_1.jpg\n",
            "Removed: /content/drive/My Drive/VR_MINI_C/face_crop/007707_1.jpg\n",
            "Removed: /content/drive/My Drive/VR_MINI_C/face_crop/007400_1.jpg\n",
            "Removed: /content/drive/My Drive/VR_MINI_C/face_crop/007738_1.jpg\n",
            "Removed: /content/drive/My Drive/VR_MINI_C/face_crop/007882_1.jpg\n",
            "Removed: /content/drive/My Drive/VR_MINI_C/face_crop/007453_1.jpg\n",
            "Removed: /content/drive/My Drive/VR_MINI_C/face_crop/007500_2.jpg\n",
            "Removed: /content/drive/My Drive/VR_MINI_C/face_crop/008128_1.jpg\n",
            "Removed: /content/drive/My Drive/VR_MINI_C/face_crop/007586_1.jpg\n",
            "Removed: /content/drive/My Drive/VR_MINI_C/face_crop/008083_1.jpg\n",
            "Removed: /content/drive/My Drive/VR_MINI_C/face_crop/007670_13.jpg\n",
            "Removed: /content/drive/My Drive/VR_MINI_C/face_crop/007512_1.jpg\n",
            "Removed: /content/drive/My Drive/VR_MINI_C/face_crop/007877_1.jpg\n",
            "Removed: /content/drive/My Drive/VR_MINI_C/face_crop/007883_1.jpg\n",
            "Removed: /content/drive/My Drive/VR_MINI_C/face_crop/007538_1.jpg\n",
            "Removed: /content/drive/My Drive/VR_MINI_C/face_crop/007435_1.jpg\n",
            "Removed: /content/drive/My Drive/VR_MINI_C/face_crop/007715_1.jpg\n",
            "Removed: /content/drive/My Drive/VR_MINI_C/face_crop/008177_2.jpg\n",
            "Removed: /content/drive/My Drive/VR_MINI_C/face_crop/007993_1.jpg\n",
            "Removed: /content/drive/My Drive/VR_MINI_C/face_crop/008211_1.jpg\n",
            "Removed: /content/drive/My Drive/VR_MINI_C/face_crop/007499_4.jpg\n",
            "Removed: /content/drive/My Drive/VR_MINI_C/face_crop/008216_1.jpg\n",
            "Removed: /content/drive/My Drive/VR_MINI_C/face_crop/007314_2.jpg\n",
            "Removed: /content/drive/My Drive/VR_MINI_C/face_crop/007493_1.jpg\n",
            "Removed: /content/drive/My Drive/VR_MINI_C/face_crop/007833_1.jpg\n",
            "Removed: /content/drive/My Drive/VR_MINI_C/face_crop/007455_1.jpg\n",
            "Removed: /content/drive/My Drive/VR_MINI_C/face_crop/007351_1.jpg\n",
            "Removed: /content/drive/My Drive/VR_MINI_C/face_crop/007876_4.jpg\n",
            "Removed: /content/drive/My Drive/VR_MINI_C/face_crop/007389_1.jpg\n",
            "Removed: /content/drive/My Drive/VR_MINI_C/face_crop/007616_1.jpg\n",
            "Removed: /content/drive/My Drive/VR_MINI_C/face_crop/007650_1.jpg\n",
            "Removed: /content/drive/My Drive/VR_MINI_C/face_crop/007921_1.jpg\n",
            "Removed: /content/drive/My Drive/VR_MINI_C/face_crop/007990_2.jpg\n",
            "Removed: /content/drive/My Drive/VR_MINI_C/face_crop/007926_1.jpg\n",
            "Removed: /content/drive/My Drive/VR_MINI_C/face_crop/008177_1.jpg\n",
            "Removed: /content/drive/My Drive/VR_MINI_C/face_crop/007823_1.jpg\n",
            "Removed: /content/drive/My Drive/VR_MINI_C/face_crop/007596_1.jpg\n",
            "Removed: /content/drive/My Drive/VR_MINI_C/face_crop/007572_5.jpg\n",
            "Removed: /content/drive/My Drive/VR_MINI_C/face_crop/007338_1.jpg\n",
            "Removed: /content/drive/My Drive/VR_MINI_C/face_crop/007784_1.jpg\n",
            "Removed: /content/drive/My Drive/VR_MINI_C/face_crop/008005_1.jpg\n",
            "Removed: /content/drive/My Drive/VR_MINI_C/face_crop/007448_1.jpg\n",
            "Removed: /content/drive/My Drive/VR_MINI_C/face_crop/007505_5.jpg\n",
            "Removed: /content/drive/My Drive/VR_MINI_C/face_crop/007414_1.jpg\n",
            "Removed: /content/drive/My Drive/VR_MINI_C/face_crop/008046_2.jpg\n",
            "Removed: /content/drive/My Drive/VR_MINI_C/face_crop/007675_1.jpg\n",
            "Removed: /content/drive/My Drive/VR_MINI_C/face_crop/007592_1.jpg\n",
            "Removed: /content/drive/My Drive/VR_MINI_C/face_crop/008121_1.jpg\n",
            "Removed: /content/drive/My Drive/VR_MINI_C/face_crop/007585_1.jpg\n",
            "Removed: /content/drive/My Drive/VR_MINI_C/face_crop/007322_1.jpg\n",
            "Removed: /content/drive/My Drive/VR_MINI_C/face_crop/007975_1.jpg\n",
            "Removed: /content/drive/My Drive/VR_MINI_C/face_crop/007349_1.jpg\n",
            "Removed: /content/drive/My Drive/VR_MINI_C/face_crop/008144_1.jpg\n",
            "Removed: /content/drive/My Drive/VR_MINI_C/face_crop/008158_1.jpg\n",
            "Removed: /content/drive/My Drive/VR_MINI_C/face_crop/008073_1.jpg\n",
            "Removed: /content/drive/My Drive/VR_MINI_C/face_crop/007603_3.jpg\n",
            "Removed: /content/drive/My Drive/VR_MINI_C/face_crop/007866_1.jpg\n",
            "Removed: /content/drive/My Drive/VR_MINI_C/face_crop/007379_1.jpg\n",
            "Removed: /content/drive/My Drive/VR_MINI_C/face_crop/007318_1.jpg\n",
            "Removed: /content/drive/My Drive/VR_MINI_C/face_crop/007364_4.jpg\n",
            "Removed: /content/drive/My Drive/VR_MINI_C/face_crop/007654_1.jpg\n",
            "Removed: /content/drive/My Drive/VR_MINI_C/face_crop/007721_1.jpg\n",
            "Removed: /content/drive/My Drive/VR_MINI_C/face_crop/007620_1.jpg\n",
            "Removed: /content/drive/My Drive/VR_MINI_C/face_crop/007616_3.jpg\n",
            "Removed: /content/drive/My Drive/VR_MINI_C/face_crop/007663_1.jpg\n",
            "Removed: /content/drive/My Drive/VR_MINI_C/face_crop/007364_6.jpg\n",
            "Removed: /content/drive/My Drive/VR_MINI_C/face_crop/007519_1.jpg\n",
            "Removed: /content/drive/My Drive/VR_MINI_C/face_crop/007947_1.jpg\n",
            "Removed: /content/drive/My Drive/VR_MINI_C/face_crop/008042_1.jpg\n",
            "Removed: /content/drive/My Drive/VR_MINI_C/face_crop/008191_1.jpg\n",
            "Removed: /content/drive/My Drive/VR_MINI_C/face_crop/007977_1.jpg\n",
            "Removed: /content/drive/My Drive/VR_MINI_C/face_crop/007337_1.jpg\n",
            "Removed: /content/drive/My Drive/VR_MINI_C/face_crop/007529_1.jpg\n",
            "Removed: /content/drive/My Drive/VR_MINI_C/face_crop/007617_1.jpg\n",
            "Removed: /content/drive/My Drive/VR_MINI_C/face_crop/008186_2.jpg\n",
            "Removed: /content/drive/My Drive/VR_MINI_C/face_crop/007380_3.jpg\n",
            "Removed: /content/drive/My Drive/VR_MINI_C/face_crop/007595_1.jpg\n",
            "Removed: /content/drive/My Drive/VR_MINI_C/face_crop/007403_2.jpg\n",
            "Removed: /content/drive/My Drive/VR_MINI_C/face_crop/007384_1.jpg\n",
            "Removed: /content/drive/My Drive/VR_MINI_C/face_crop/008182_1.jpg\n",
            "Removed: /content/drive/My Drive/VR_MINI_C/face_crop/008140_1.jpg\n",
            "Removed: /content/drive/My Drive/VR_MINI_C/face_crop/008118_1.jpg\n",
            "Removed: /content/drive/My Drive/VR_MINI_C/face_crop/007974_1.jpg\n",
            "Removed: /content/drive/My Drive/VR_MINI_C/face_crop/007670_23.jpg\n",
            "Removed: /content/drive/My Drive/VR_MINI_C/face_crop/007814_1.jpg\n",
            "Removed: /content/drive/My Drive/VR_MINI_C/face_crop/007356_1.jpg\n",
            "Removed: /content/drive/My Drive/VR_MINI_C/face_crop/007605_1.jpg\n",
            "Removed: /content/drive/My Drive/VR_MINI_C/face_crop/007941_1.jpg\n",
            "Removed: /content/drive/My Drive/VR_MINI_C/face_crop/007505_2.jpg\n",
            "Removed: /content/drive/My Drive/VR_MINI_C/face_crop/007577_1.jpg\n",
            "Removed: /content/drive/My Drive/VR_MINI_C/face_crop/007505_1.jpg\n",
            "Removed: /content/drive/My Drive/VR_MINI_C/face_crop/007607_1.jpg\n",
            "Removed: /content/drive/My Drive/VR_MINI_C/face_crop/008099_1.jpg\n",
            "Removed: /content/drive/My Drive/VR_MINI_C/face_crop/007724_1.jpg\n",
            "Removed: /content/drive/My Drive/VR_MINI_C/face_crop/007312_2.jpg\n",
            "Removed: /content/drive/My Drive/VR_MINI_C/face_crop/007565_1.jpg\n",
            "Removed: /content/drive/My Drive/VR_MINI_C/face_crop/007673_2.jpg\n",
            "Removed: /content/drive/My Drive/VR_MINI_C/face_crop/007416_1.jpg\n",
            "Removed: /content/drive/My Drive/VR_MINI_C/face_crop/007410_1.jpg\n",
            "Removed: /content/drive/My Drive/VR_MINI_C/face_crop/007873_1.jpg\n",
            "Removed: /content/drive/My Drive/VR_MINI_C/face_crop/007643_1.jpg\n",
            "Removed: /content/drive/My Drive/VR_MINI_C/face_crop/007686_1.jpg\n",
            "Removed: /content/drive/My Drive/VR_MINI_C/face_crop/007646_5.jpg\n",
            "Removed: /content/drive/My Drive/VR_MINI_C/face_crop/007957_1.jpg\n",
            "Removed: /content/drive/My Drive/VR_MINI_C/face_crop/007548_1.jpg\n",
            "Removed: /content/drive/My Drive/VR_MINI_C/face_crop/007982_1.jpg\n",
            "Removed: /content/drive/My Drive/VR_MINI_C/face_crop/007935_1.jpg\n",
            "Removed: /content/drive/My Drive/VR_MINI_C/face_crop/008221_1.jpg\n",
            "Removed: /content/drive/My Drive/VR_MINI_C/face_crop/007796_3.jpg\n",
            "Removed: /content/drive/My Drive/VR_MINI_C/face_crop/007667_1.jpg\n",
            "Removed: /content/drive/My Drive/VR_MINI_C/face_crop/007862_1.jpg\n",
            "Removed: /content/drive/My Drive/VR_MINI_C/face_crop/007436_1.jpg\n",
            "Removed: /content/drive/My Drive/VR_MINI_C/face_crop/007910_1.jpg\n",
            "Removed: /content/drive/My Drive/VR_MINI_C/face_crop/007624_1.jpg\n",
            "Removed: /content/drive/My Drive/VR_MINI_C/face_crop/007610_1.jpg\n",
            "Removed: /content/drive/My Drive/VR_MINI_C/face_crop/007372_1.jpg\n",
            "Removed: /content/drive/My Drive/VR_MINI_C/face_crop/007744_1.jpg\n",
            "Removed: /content/drive/My Drive/VR_MINI_C/face_crop/007670_5.jpg\n",
            "Removed: /content/drive/My Drive/VR_MINI_C/face_crop/007495_1.jpg\n",
            "Removed: /content/drive/My Drive/VR_MINI_C/face_crop/007937_1.jpg\n",
            "Removed: /content/drive/My Drive/VR_MINI_C/face_crop/008038_1.jpg\n",
            "Removed: /content/drive/My Drive/VR_MINI_C/face_crop/007985_1.jpg\n",
            "Removed: /content/drive/My Drive/VR_MINI_C/face_crop/007940_1.jpg\n",
            "Removed: /content/drive/My Drive/VR_MINI_C/face_crop/007402_1.jpg\n",
            "Removed: /content/drive/My Drive/VR_MINI_C/face_crop/007670_21.jpg\n",
            "Removed: /content/drive/My Drive/VR_MINI_C/face_crop/008220_1.jpg\n",
            "Removed: /content/drive/My Drive/VR_MINI_C/face_crop/007449_1.jpg\n",
            "Removed: /content/drive/My Drive/VR_MINI_C/face_crop/008135_1.jpg\n",
            "Removed: /content/drive/My Drive/VR_MINI_C/face_crop/007417_1.jpg\n",
            "Removed: /content/drive/My Drive/VR_MINI_C/face_crop/007793_1.jpg\n",
            "Removed: /content/drive/My Drive/VR_MINI_C/face_crop/007753_1.jpg\n",
            "Removed: /content/drive/My Drive/VR_MINI_C/face_crop/008066_1.jpg\n",
            "Removed: /content/drive/My Drive/VR_MINI_C/face_crop/008224_1.jpg\n",
            "Removed: /content/drive/My Drive/VR_MINI_C/face_crop/007939_1.jpg\n",
            "Removed: /content/drive/My Drive/VR_MINI_C/face_crop/007603_1.jpg\n",
            "Removed: /content/drive/My Drive/VR_MINI_C/face_crop/007889_1.jpg\n",
            "Removed: /content/drive/My Drive/VR_MINI_C/face_crop/008185_2.jpg\n",
            "Removed: /content/drive/My Drive/VR_MINI_C/face_crop/007619_1.jpg\n",
            "Removed: /content/drive/My Drive/VR_MINI_C/face_crop/007783_1.jpg\n",
            "Removed: /content/drive/My Drive/VR_MINI_C/face_crop/007756_1.jpg\n",
            "Removed: /content/drive/My Drive/VR_MINI_C/face_crop/007976_1.jpg\n",
            "Removed: /content/drive/My Drive/VR_MINI_C/face_crop/007904_1.jpg\n",
            "Removed: /content/drive/My Drive/VR_MINI_C/face_crop/007311_1.jpg\n",
            "Removed: /content/drive/My Drive/VR_MINI_C/face_crop/007796_1.jpg\n",
            "Removed: /content/drive/My Drive/VR_MINI_C/face_crop/008087_1.jpg\n",
            "Removed: /content/drive/My Drive/VR_MINI_C/face_crop/008097_1.jpg\n",
            "Removed: /content/drive/My Drive/VR_MINI_C/face_crop/007955_1.jpg\n",
            "Removed: /content/drive/My Drive/VR_MINI_C/face_crop/007373_3.jpg\n",
            "Removed: /content/drive/My Drive/VR_MINI_C/face_crop/007670_12.jpg\n",
            "Removed: /content/drive/My Drive/VR_MINI_C/face_crop/007555_2.jpg\n",
            "Removed: /content/drive/My Drive/VR_MINI_C/face_crop/008186_1.jpg\n",
            "Removed: /content/drive/My Drive/VR_MINI_C/face_crop/007400_2.jpg\n",
            "Removed: /content/drive/My Drive/VR_MINI_C/face_crop/007594_1.jpg\n",
            "Removed: /content/drive/My Drive/VR_MINI_C/face_crop/007962_1.jpg\n",
            "Removed: /content/drive/My Drive/VR_MINI_C/face_crop/007340_2.jpg\n",
            "Removed: /content/drive/My Drive/VR_MINI_C/face_crop/007378_1.jpg\n",
            "Removed: /content/drive/My Drive/VR_MINI_C/face_crop/007528_5.jpg\n",
            "Removed: /content/drive/My Drive/VR_MINI_C/face_crop/008106_1.jpg\n",
            "Removed: /content/drive/My Drive/VR_MINI_C/face_crop/007578_6.jpg\n",
            "Removed: /content/drive/My Drive/VR_MINI_C/face_crop/007680_1.jpg\n",
            "Removed: /content/drive/My Drive/VR_MINI_C/face_crop/007966_2.jpg\n",
            "Removed: /content/drive/My Drive/VR_MINI_C/face_crop/007361_1.jpg\n",
            "Removed: /content/drive/My Drive/VR_MINI_C/face_crop/007559_2.jpg\n",
            "Removed: /content/drive/My Drive/VR_MINI_C/face_crop/007506_1.jpg\n",
            "Removed: /content/drive/My Drive/VR_MINI_C/face_crop/007584_2.jpg\n",
            "Removed: /content/drive/My Drive/VR_MINI_C/face_crop/007456_1.jpg\n",
            "Removed: /content/drive/My Drive/VR_MINI_C/face_crop/007457_7.jpg\n",
            "Removed: /content/drive/My Drive/VR_MINI_C/face_crop/007410_2.jpg\n",
            "Removed: /content/drive/My Drive/VR_MINI_C/face_crop/007596_2.jpg\n",
            "Removed: /content/drive/My Drive/VR_MINI_C/face_crop/007876_2.jpg\n",
            "Removed: /content/drive/My Drive/VR_MINI_C/face_crop/007714_1.jpg\n",
            "Removed: /content/drive/My Drive/VR_MINI_C/face_crop/007431_2.jpg\n",
            "Removed: /content/drive/My Drive/VR_MINI_C/face_crop/008133_1.jpg\n",
            "Removed: /content/drive/My Drive/VR_MINI_C/face_crop/008162_1.jpg\n",
            "Removed: /content/drive/My Drive/VR_MINI_C/face_crop/007919_1.jpg\n",
            "Removed: /content/drive/My Drive/VR_MINI_C/face_crop/008193_1.jpg\n",
            "Removed: /content/drive/My Drive/VR_MINI_C/face_crop/008058_1.jpg\n",
            "Removed: /content/drive/My Drive/VR_MINI_C/face_crop/008068_1.jpg\n",
            "Removed: /content/drive/My Drive/VR_MINI_C/face_crop/007341_1.jpg\n",
            "Removed: /content/drive/My Drive/VR_MINI_C/face_crop/007758_1.jpg\n",
            "Removed: /content/drive/My Drive/VR_MINI_C/face_crop/007563_1.jpg\n",
            "Removed: /content/drive/My Drive/VR_MINI_C/face_crop/007492_1.jpg\n",
            "Removed: /content/drive/My Drive/VR_MINI_C/face_crop/007632_1.jpg\n",
            "Removed: /content/drive/My Drive/VR_MINI_C/face_crop/007831_1.jpg\n",
            "Removed: /content/drive/My Drive/VR_MINI_C/face_crop/007664_10.jpg\n",
            "Removed: /content/drive/My Drive/VR_MINI_C/face_crop/008000_1.jpg\n",
            "Removed: /content/drive/My Drive/VR_MINI_C/face_crop/007911_1.jpg\n",
            "Removed: /content/drive/My Drive/VR_MINI_C/face_crop/007662_1.jpg\n",
            "Removed: /content/drive/My Drive/VR_MINI_C/face_crop/007505_4.jpg\n",
            "Removed: /content/drive/My Drive/VR_MINI_C/face_crop/007481_2.jpg\n",
            "Removed: /content/drive/My Drive/VR_MINI_C/face_crop/007731_1.jpg\n",
            "Removed: /content/drive/My Drive/VR_MINI_C/face_crop/007857_1.jpg\n",
            "Removed: /content/drive/My Drive/VR_MINI_C/face_crop/007461_1.jpg\n",
            "Removed: /content/drive/My Drive/VR_MINI_C/face_crop/008151_1.jpg\n",
            "Removed: /content/drive/My Drive/VR_MINI_C/face_crop/007988_1.jpg\n",
            "Removed: /content/drive/My Drive/VR_MINI_C/face_crop/007945_1.jpg\n",
            "Removed: /content/drive/My Drive/VR_MINI_C/face_crop/007527_2.jpg\n",
            "Removed: /content/drive/My Drive/VR_MINI_C/face_crop/007741_1.jpg\n",
            "Removed: /content/drive/My Drive/VR_MINI_C/face_crop/007953_1.jpg\n",
            "Removed: /content/drive/My Drive/VR_MINI_C/face_crop/007574_1.jpg\n",
            "Removed: /content/drive/My Drive/VR_MINI_C/face_crop/007796_2.jpg\n",
            "Removed: /content/drive/My Drive/VR_MINI_C/face_crop/007674_1.jpg\n",
            "Removed: /content/drive/My Drive/VR_MINI_C/face_crop/007768_2.jpg\n",
            "Removed: /content/drive/My Drive/VR_MINI_C/face_crop/007347_1.jpg\n",
            "Removed: /content/drive/My Drive/VR_MINI_C/face_crop/007870_1.jpg\n",
            "Removed: /content/drive/My Drive/VR_MINI_C/face_crop/007316_1.jpg\n",
            "Removed: /content/drive/My Drive/VR_MINI_C/face_crop/007567_1.jpg\n",
            "Removed: /content/drive/My Drive/VR_MINI_C/face_crop/007407_2.jpg\n",
            "Removed: /content/drive/My Drive/VR_MINI_C/face_crop/007640_2.jpg\n",
            "Removed: /content/drive/My Drive/VR_MINI_C/face_crop/007323_1.jpg\n",
            "Removed: /content/drive/My Drive/VR_MINI_C/face_crop/007875_1.jpg\n",
            "Removed: /content/drive/My Drive/VR_MINI_C/face_crop/007670_20.jpg\n",
            "Removed: /content/drive/My Drive/VR_MINI_C/face_crop/008225_17.jpg\n",
            "Removed: /content/drive/My Drive/VR_MINI_C/face_crop/008145_1.jpg\n",
            "Removed: /content/drive/My Drive/VR_MINI_C/face_crop/007314_1.jpg\n",
            "Removed: /content/drive/My Drive/VR_MINI_C/face_crop/007314_3.jpg\n",
            "Removed: /content/drive/My Drive/VR_MINI_C/face_crop/007757_1.jpg\n",
            "Removed: /content/drive/My Drive/VR_MINI_C/face_crop/007467_1.jpg\n",
            "Removed: /content/drive/My Drive/VR_MINI_C/face_crop/007722_1.jpg\n",
            "Removed: /content/drive/My Drive/VR_MINI_C/face_crop/007457_2.jpg\n",
            "Removed: /content/drive/My Drive/VR_MINI_C/face_crop/007690_4.jpg\n",
            "Removed: /content/drive/My Drive/VR_MINI_C/face_crop/007572_6.jpg\n",
            "Removed: /content/drive/My Drive/VR_MINI_C/face_crop/008172_1.jpg\n",
            "Removed: /content/drive/My Drive/VR_MINI_C/face_crop/008030_4.jpg\n",
            "Removed: /content/drive/My Drive/VR_MINI_C/face_crop/007406_1.jpg\n",
            "Removed: /content/drive/My Drive/VR_MINI_C/face_crop/007809_1.jpg\n",
            "Removed: /content/drive/My Drive/VR_MINI_C/face_crop/007736_1.jpg\n",
            "Removed: /content/drive/My Drive/VR_MINI_C/face_crop/008196_1.jpg\n",
            "Removed: /content/drive/My Drive/VR_MINI_C/face_crop/008027_1.jpg\n",
            "Removed: /content/drive/My Drive/VR_MINI_C/face_crop/007711_1.jpg\n",
            "Removed: /content/drive/My Drive/VR_MINI_C/face_crop/008206_1.jpg\n",
            "Removed: /content/drive/My Drive/VR_MINI_C/face_crop/008175_1.jpg\n",
            "Removed: /content/drive/My Drive/VR_MINI_C/face_crop/007716_1.jpg\n",
            "Removed: /content/drive/My Drive/VR_MINI_C/face_crop/007799_1.jpg\n",
            "Removed: /content/drive/My Drive/VR_MINI_C/face_crop/007339_3.jpg\n",
            "Removed: /content/drive/My Drive/VR_MINI_C/face_crop/007810_1.jpg\n",
            "Removed: /content/drive/My Drive/VR_MINI_C/face_crop/007381_1.jpg\n",
            "Removed: /content/drive/My Drive/VR_MINI_C/face_crop/007476_1.jpg\n",
            "Removed: /content/drive/My Drive/VR_MINI_C/face_crop/007719_1.jpg\n",
            "Removed: /content/drive/My Drive/VR_MINI_C/face_crop/008215_1.jpg\n",
            "Removed: /content/drive/My Drive/VR_MINI_C/face_crop/008088_1.jpg\n",
            "Removed: /content/drive/My Drive/VR_MINI_C/face_crop/007334_1.jpg\n",
            "Removed: /content/drive/My Drive/VR_MINI_C/face_crop/007929_1.jpg\n",
            "Removed: /content/drive/My Drive/VR_MINI_C/face_crop/007682_1.jpg\n",
            "Removed: /content/drive/My Drive/VR_MINI_C/face_crop/007419_2.jpg\n",
            "Removed: /content/drive/My Drive/VR_MINI_C/face_crop/007740_1.jpg\n",
            "Removed: /content/drive/My Drive/VR_MINI_C/face_crop/007763_1.jpg\n",
            "Removed: /content/drive/My Drive/VR_MINI_C/face_crop/007853_1.jpg\n",
            "Removed: /content/drive/My Drive/VR_MINI_C/face_crop/007381_2.jpg\n",
            "Removed: /content/drive/My Drive/VR_MINI_C/face_crop/007931_1.jpg\n",
            "Removed: /content/drive/My Drive/VR_MINI_C/face_crop/008146_1.jpg\n",
            "Removed: /content/drive/My Drive/VR_MINI_C/face_crop/007940_2.jpg\n",
            "Removed: /content/drive/My Drive/VR_MINI_C/face_crop/007662_4.jpg\n",
            "Removed: /content/drive/My Drive/VR_MINI_C/face_crop/007689_1.jpg\n",
            "Removed: /content/drive/My Drive/VR_MINI_C/face_crop/007888_1.jpg\n",
            "Removed: /content/drive/My Drive/VR_MINI_C/face_crop/008025_1.jpg\n",
            "Removed: /content/drive/My Drive/VR_MINI_C/face_crop/007670_11.jpg\n",
            "Removed: /content/drive/My Drive/VR_MINI_C/face_crop/008217_1.jpg\n",
            "Removed: /content/drive/My Drive/VR_MINI_C/face_crop/007352_2.jpg\n",
            "Removed: /content/drive/My Drive/VR_MINI_C/face_crop/007656_1.jpg\n",
            "Removed: /content/drive/My Drive/VR_MINI_C/face_crop/007380_1.jpg\n",
            "Removed: /content/drive/My Drive/VR_MINI_C/face_crop/007846_1.jpg\n",
            "Removed: /content/drive/My Drive/VR_MINI_C/face_crop/007566_1.jpg\n",
            "Removed: /content/drive/My Drive/VR_MINI_C/face_crop/007528_3.jpg\n",
            "Removed: /content/drive/My Drive/VR_MINI_C/face_crop/007572_8.jpg\n",
            "Removed: /content/drive/My Drive/VR_MINI_C/face_crop/007332_1.jpg\n",
            "Removed: /content/drive/My Drive/VR_MINI_C/face_crop/007689_3.jpg\n",
            "Removed: /content/drive/My Drive/VR_MINI_C/face_crop/007952_1.jpg\n",
            "Removed: /content/drive/My Drive/VR_MINI_C/face_crop/007892_1.jpg\n",
            "Removed: /content/drive/My Drive/VR_MINI_C/face_crop/007891_1.jpg\n",
            "Removed: /content/drive/My Drive/VR_MINI_C/face_crop/008063_1.jpg\n",
            "Removed: /content/drive/My Drive/VR_MINI_C/face_crop/007474_1.jpg\n",
            "Removed: /content/drive/My Drive/VR_MINI_C/face_crop/007652_2.jpg\n",
            "Removed: /content/drive/My Drive/VR_MINI_C/face_crop/007671_1.jpg\n",
            "Removed: /content/drive/My Drive/VR_MINI_C/face_crop/007991_2.jpg\n",
            "Removed: /content/drive/My Drive/VR_MINI_C/face_crop/007486_2.jpg\n",
            "Removed: /content/drive/My Drive/VR_MINI_C/face_crop/008037_1.jpg\n",
            "Removed: /content/drive/My Drive/VR_MINI_C/face_crop/008163_1.jpg\n",
            "Removed: /content/drive/My Drive/VR_MINI_C/face_crop/008107_1.jpg\n",
            "Removed: /content/drive/My Drive/VR_MINI_C/face_crop/008194_1.jpg\n",
            "Removed: /content/drive/My Drive/VR_MINI_C/face_crop/007894_1.jpg\n",
            "Removed: /content/drive/My Drive/VR_MINI_C/face_crop/007965_1.jpg\n",
            "Removed: /content/drive/My Drive/VR_MINI_C/face_crop/007662_3.jpg\n",
            "Removed: /content/drive/My Drive/VR_MINI_C/face_crop/007622_1.jpg\n",
            "Removed: /content/drive/My Drive/VR_MINI_C/face_crop/008084_1.jpg\n",
            "Removed: /content/drive/My Drive/VR_MINI_C/face_crop/007553_1.jpg\n",
            "Removed: /content/drive/My Drive/VR_MINI_C/face_crop/008139_1.jpg\n",
            "Removed: /content/drive/My Drive/VR_MINI_C/face_crop/007440_1.jpg\n",
            "Removed: /content/drive/My Drive/VR_MINI_C/face_crop/007409_1.jpg\n",
            "Removed: /content/drive/My Drive/VR_MINI_C/face_crop/007445_1.jpg\n",
            "Removed: /content/drive/My Drive/VR_MINI_C/face_crop/007762_4.jpg\n",
            "Removed: /content/drive/My Drive/VR_MINI_C/face_crop/007775_1.jpg\n",
            "Removed: /content/drive/My Drive/VR_MINI_C/face_crop/007598_1.jpg\n",
            "Removed: /content/drive/My Drive/VR_MINI_C/face_crop/007797_1.jpg\n",
            "Removed: /content/drive/My Drive/VR_MINI_C/face_crop/007708_1.jpg\n",
            "Removed: /content/drive/My Drive/VR_MINI_C/face_crop/007655_1.jpg\n",
            "Finished removing unmatched files.\n"
          ]
        }
      ]
    },
    {
      "cell_type": "code",
      "source": [
        "import os\n",
        "import random\n",
        "\n",
        "def delete_images_in_pairs(folder1, folder2, num_files=5000):\n",
        "    if not os.path.exists(folder1) or not os.path.exists(folder2):\n",
        "        print(\"One or both folders do not exist.\")\n",
        "        return\n",
        "\n",
        "    # Get all image filenames (without extensions) in folder1\n",
        "    images1 = set(f for f in os.listdir(folder1) if f.endswith(('.png', '.jpg', '.jpeg')))\n",
        "    images2 = set(f for f in os.listdir(folder2) if f.endswith(('.png', '.jpg', '.jpeg')))\n",
        "\n",
        "    # Get only the common files that exist in both folders\n",
        "    common_files = list(images1.intersection(images2))\n",
        "\n",
        "    if len(common_files) < num_files:\n",
        "        print(f\"Only {len(common_files)} common images found, deleting all.\")\n",
        "        num_files = len(common_files)\n",
        "\n",
        "    # Select random files to delete\n",
        "    files_to_delete = random.sample(common_files, num_files)\n",
        "\n",
        "    # Delete images from both folders\n",
        "    for file in files_to_delete:\n",
        "        file_path1 = os.path.join(folder1, file)\n",
        "        file_path2 = os.path.join(folder2, file)\n",
        "\n",
        "        os.remove(file_path1)  # Delete from face_crop\n",
        "        os.remove(file_path2)  # Delete from face_crop_segmentation\n",
        "\n",
        "    print(f\"Deleted {num_files} images from both {folder1} and {folder2}.\")\n",
        "\n",
        "# Specify folder paths\n",
        "face_crop_folder = \"path_to_face_crop\"  # Change this to the actual folder path\n",
        "face_crop_segmentation_folder = \"path_to_face_crop_segmentation\"  # Change this to the actual folder path\n",
        "\n",
        "# Delete 5000 images in pairs\n",
        "delete_images_in_pairs(non_segmented_dir, segmented_dir, num_files=3759)\n"
      ],
      "metadata": {
        "colab": {
          "base_uri": "https://localhost:8080/"
        },
        "id": "N_Nx661JeSrl",
        "outputId": "92991416-a294-451f-f416-87ac56f08ca0"
      },
      "execution_count": 31,
      "outputs": [
        {
          "output_type": "stream",
          "name": "stdout",
          "text": [
            "Deleted 3759 images from both /content/drive/My Drive/VR_MINI_C/face_crop and /content/drive/My Drive/VR_MINI_C/face_crop_segmentation.\n"
          ]
        }
      ]
    },
    {
      "cell_type": "code",
      "source": [
        "cv2_imshow(X_temp[0]*255)"
      ],
      "metadata": {
        "colab": {
          "base_uri": "https://localhost:8080/",
          "height": 145
        },
        "id": "XuMbP-1rESB8",
        "outputId": "059f3161-263a-4b13-8ee9-fdd1ca583047"
      },
      "execution_count": 136,
      "outputs": [
        {
          "output_type": "display_data",
          "data": {
            "text/plain": [
              "<PIL.Image.Image image mode=RGB size=128x128>"
            ],
            "image/png": "[encoded data removed]",
            "image/jpeg": "[encoded data removed]"
          },
          "metadata": {}
        }
      ]
    },
    {
      "cell_type": "code",
      "source": [
        "mypred=model.predict(X_temp)"
      ],
      "metadata": {
        "colab": {
          "base_uri": "https://localhost:8080/"
        },
        "id": "fuuDHYF-ER-l",
        "outputId": "c26a7144-19ac-41e6-f36a-dd641cb0f56a"
      },
      "execution_count": 140,
      "outputs": [
        {
          "output_type": "stream",
          "name": "stdout",
          "text": [
            "\u001b[1m29/29\u001b[0m \u001b[32m━━━━━━━━━━━━━━━━━━━━\u001b[0m\u001b[37m\u001b[0m \u001b[1m35s\u001b[0m 1s/step\n"
          ]
        }
      ]
    },
    {
      "cell_type": "code",
      "source": [
        "len(mypred)"
      ],
      "metadata": {
        "colab": {
          "base_uri": "https://localhost:8080/"
        },
        "id": "L-XC2UK-ER8L",
        "outputId": "bd79d0d8-dbe9-47de-9eb0-f9d9e3448070"
      },
      "execution_count": 141,
      "outputs": [
        {
          "output_type": "execute_result",
          "data": {
            "text/plain": [
              "900"
            ]
          },
          "metadata": {},
          "execution_count": 141
        }
      ]
    },
    {
      "cell_type": "code",
      "source": [
        "mypred[10]"
      ],
      "metadata": {
        "colab": {
          "base_uri": "https://localhost:8080/"
        },
        "collapsed": true,
        "id": "J4JCR3kYFK4d",
        "outputId": "69d1fddf-e186-461a-e26e-72652122b931"
      },
      "execution_count": 142,
      "outputs": [
        {
          "output_type": "execute_result",
          "data": {
            "text/plain": [
              "array([[[2.61270721e-02],\n",
              "        [8.89595365e-04],\n",
              "        [1.18876842e-03],\n",
              "        ...,\n",
              "        [3.90815694e-05],\n",
              "        [5.31143334e-04],\n",
              "        [2.56028082e-02]],\n",
              "\n",
              "       [[6.02412678e-04],\n",
              "        [2.82312812e-05],\n",
              "        [3.83588531e-06],\n",
              "        ...,\n",
              "        [5.93865843e-06],\n",
              "        [5.90528580e-05],\n",
              "        [2.61064502e-03]],\n",
              "\n",
              "       [[3.00483400e-04],\n",
              "        [7.05537673e-07],\n",
              "        [1.34129063e-08],\n",
              "        ...,\n",
              "        [1.25254196e-09],\n",
              "        [8.30779925e-08],\n",
              "        [1.81630079e-04]],\n",
              "\n",
              "       ...,\n",
              "\n",
              "       [[7.38449919e-04],\n",
              "        [8.38374419e-08],\n",
              "        [1.72262504e-09],\n",
              "        ...,\n",
              "        [2.63256408e-19],\n",
              "        [3.40728312e-09],\n",
              "        [2.49530907e-09]],\n",
              "\n",
              "       [[1.22636985e-02],\n",
              "        [6.68399161e-06],\n",
              "        [3.63993280e-07],\n",
              "        ...,\n",
              "        [8.42723515e-13],\n",
              "        [3.01718728e-07],\n",
              "        [2.33215019e-06]],\n",
              "\n",
              "       [[4.18409333e-02],\n",
              "        [1.08993240e-03],\n",
              "        [2.25236733e-03],\n",
              "        ...,\n",
              "        [2.87435575e-10],\n",
              "        [1.68043734e-05],\n",
              "        [2.40096088e-05]]], dtype=float32)"
            ]
          },
          "metadata": {},
          "execution_count": 142
        }
      ]
    },
    {
      "cell_type": "code",
      "source": [
        "binary_predictions = (mypred[0] > 0.5).astype(\"uint8\") * 255"
      ],
      "metadata": {
        "id": "pyb_68W_FNo_"
      },
      "execution_count": 149,
      "outputs": []
    },
    {
      "cell_type": "code",
      "source": [
        "cv2_imshow(binary_predictions)"
      ],
      "metadata": {
        "colab": {
          "base_uri": "https://localhost:8080/",
          "height": 145
        },
        "id": "t4KEBuN2FYKN",
        "outputId": "7310a9c7-7d35-4a26-acba-d9a11ed8baae"
      },
      "execution_count": 148,
      "outputs": [
        {
          "output_type": "display_data",
          "data": {
            "text/plain": [
              "<PIL.Image.Image image mode=RGB size=128x128>"
            ],
            "image/png": "[encoded data removed]",
            "image/jpeg": "[encoded data removed]"
          },
          "metadata": {}
        }
      ]
    },
    {
      "cell_type": "code",
      "source": [],
      "metadata": {
        "id": "yNWerEzkFYGs"
      },
      "execution_count": null,
      "outputs": []
    }
  ]
}